{
  "nbformat": 4,
  "nbformat_minor": 0,
  "metadata": {
    "kernelspec": {
      "display_name": "Python 3",
      "language": "python",
      "name": "python3"
    },
    "language_info": {
      "codemirror_mode": {
        "name": "ipython",
        "version": 3
      },
      "file_extension": ".py",
      "mimetype": "text/x-python",
      "name": "python",
      "nbconvert_exporter": "python",
      "pygments_lexer": "ipython3",
      "version": "3.7.6"
    },
    "colab": {
      "name": "Coursera Capstone Project - Report.ipynb",
      "provenance": [],
      "include_colab_link": true
    }
  },
  "cells": [
    {
      "cell_type": "markdown",
      "metadata": {
        "id": "view-in-github",
        "colab_type": "text"
      },
      "source": [
        "<a href=\"https://colab.research.google.com/github/pcarugno/Coursera_Capstone/blob/coursera_capstone/Coursera_Capstone_Project_Report.ipynb\" target=\"_parent\"><img src=\"https://colab.research.google.com/assets/colab-badge.svg\" alt=\"Open In Colab\"/></a>"
      ]
    },
    {
      "cell_type": "markdown",
      "metadata": {
        "id": "C8z9XV03F3vS"
      },
      "source": [
        "### Coursera Capstone Project - Predict the severity of an accident in Seattle - Report"
      ]
    },
    {
      "cell_type": "markdown",
      "metadata": {
        "id": "p13OAm4xF3vT"
      },
      "source": [
        "#### 1. Introduction\n",
        "\n",
        "The aim of this project is to develop a machine learning tool that will help predicting the severity of an accident based on some key features (such as weather, driving conditions, road conditions etc). This problem is particularly important for the city of Seattle: the city has been moving towards achieving 0 traffic deaths and serious injuries by 2030 and has launched [Vision Zero](https://www.seattle.gov/visionzero) in 2015, but as explained in [this Seattle Transit Blog entry from 2018](https://seattletransitblog.com/2018/01/05/traffic-volumes-collision-rate/), collisions with fatal or serious injury jumped *16.5%* in 2016, even as traffic volumes remained nearly unchanged. It is hence of paramount importance to develop techniques that can help understand, predict and even avoid accidents based on their severity and that's what this project is about.\n",
        "\n",
        "\n",
        "#### 2. Data\n",
        "\n",
        "The data being used comprises every accident occurred in the city of Seattle between 2004 and 2020. The dimensions of the dataset are:"
      ]
    },
    {
      "cell_type": "code",
      "metadata": {
        "id": "qzmRZT87F6MM",
        "outputId": "3f6abb1d-c2ea-4530-c545-9ddce657f041",
        "colab": {
          "base_uri": "https://localhost:8080/"
        }
      },
      "source": [
        "from google.colab import drive\n",
        "drive.mount('/content/drive')"
      ],
      "execution_count": 1,
      "outputs": [
        {
          "output_type": "stream",
          "text": [
            "Drive already mounted at /content/drive; to attempt to forcibly remount, call drive.mount(\"/content/drive\", force_remount=True).\n"
          ],
          "name": "stdout"
        }
      ]
    },
    {
      "cell_type": "code",
      "metadata": {
        "id": "fp8k019pF3vU"
      },
      "source": [
        "import pandas as pd\n",
        "import numpy as np\n",
        "import matplotlib.pyplot as plt\n",
        "%matplotlib inline\n",
        "import seaborn as sns\n",
        "import folium"
      ],
      "execution_count": 2,
      "outputs": []
    },
    {
      "cell_type": "code",
      "metadata": {
        "id": "ytQ6j7FbF3vY"
      },
      "source": [
        "import warnings\n",
        "\n",
        "def fxn():\n",
        "    warnings.warn(\"deprecated\", DeprecationWarning)\n",
        "\n",
        "with warnings.catch_warnings():\n",
        "    warnings.simplefilter(\"ignore\")\n",
        "    fxn()\n",
        "    \n",
        "import warnings\n",
        "warnings.filterwarnings(\"ignore\")"
      ],
      "execution_count": 3,
      "outputs": []
    },
    {
      "cell_type": "code",
      "metadata": {
        "id": "QQiPWP33F3vc",
        "outputId": "91aa48b7-5392-4e9c-c6d6-a03505101b34",
        "colab": {
          "base_uri": "https://localhost:8080/"
        }
      },
      "source": [
        "coll_df = pd.read_csv(r'/content/drive/My Drive/Colab Notebooks/Coursera_Capstone/Data-Collisions.csv')\n",
        "print('Dimensions of dataset:', coll_df.shape)"
      ],
      "execution_count": 4,
      "outputs": [
        {
          "output_type": "stream",
          "text": [
            "Dimensions of dataset: (194673, 38)\n"
          ],
          "name": "stdout"
        }
      ]
    },
    {
      "cell_type": "markdown",
      "metadata": {
        "id": "oCqoOsOlF3vh"
      },
      "source": [
        "The dataset is hence comprised of 194673 records and 38 features. More information on the data and the adopted methodology are presented in the next section"
      ]
    },
    {
      "cell_type": "markdown",
      "metadata": {
        "id": "mhEZ0ZdkF3vh"
      },
      "source": [
        "#### 3. Methodology\n",
        "\n",
        "In this section the exploratory data analysis, statistical testing and machine learning methodology adopted will be described.\n",
        "\n",
        "#### 3.a Exploratory Data Analysis\n",
        "\n",
        "To perform a meaningful exploratory data analysis we start by looking at the provided dataset global characteristics, such as number of features, whether these can be grouped in categories and what are the global statistics of the dataset."
      ]
    },
    {
      "cell_type": "code",
      "metadata": {
        "id": "1BJ8BI_fF3vj",
        "outputId": "a2ce65da-7cd1-49d9-cd76-50124c03029b",
        "colab": {
          "base_uri": "https://localhost:8080/",
          "height": 686
        }
      },
      "source": [
        "coll_df.head()"
      ],
      "execution_count": 5,
      "outputs": [
        {
          "output_type": "execute_result",
          "data": {
            "text/html": [
              "<div>\n",
              "<style scoped>\n",
              "    .dataframe tbody tr th:only-of-type {\n",
              "        vertical-align: middle;\n",
              "    }\n",
              "\n",
              "    .dataframe tbody tr th {\n",
              "        vertical-align: top;\n",
              "    }\n",
              "\n",
              "    .dataframe thead th {\n",
              "        text-align: right;\n",
              "    }\n",
              "</style>\n",
              "<table border=\"1\" class=\"dataframe\">\n",
              "  <thead>\n",
              "    <tr style=\"text-align: right;\">\n",
              "      <th></th>\n",
              "      <th>SEVERITYCODE</th>\n",
              "      <th>X</th>\n",
              "      <th>Y</th>\n",
              "      <th>OBJECTID</th>\n",
              "      <th>INCKEY</th>\n",
              "      <th>COLDETKEY</th>\n",
              "      <th>REPORTNO</th>\n",
              "      <th>STATUS</th>\n",
              "      <th>ADDRTYPE</th>\n",
              "      <th>INTKEY</th>\n",
              "      <th>LOCATION</th>\n",
              "      <th>EXCEPTRSNCODE</th>\n",
              "      <th>EXCEPTRSNDESC</th>\n",
              "      <th>SEVERITYCODE.1</th>\n",
              "      <th>SEVERITYDESC</th>\n",
              "      <th>COLLISIONTYPE</th>\n",
              "      <th>PERSONCOUNT</th>\n",
              "      <th>PEDCOUNT</th>\n",
              "      <th>PEDCYLCOUNT</th>\n",
              "      <th>VEHCOUNT</th>\n",
              "      <th>INCDATE</th>\n",
              "      <th>INCDTTM</th>\n",
              "      <th>JUNCTIONTYPE</th>\n",
              "      <th>SDOT_COLCODE</th>\n",
              "      <th>SDOT_COLDESC</th>\n",
              "      <th>INATTENTIONIND</th>\n",
              "      <th>UNDERINFL</th>\n",
              "      <th>WEATHER</th>\n",
              "      <th>ROADCOND</th>\n",
              "      <th>LIGHTCOND</th>\n",
              "      <th>PEDROWNOTGRNT</th>\n",
              "      <th>SDOTCOLNUM</th>\n",
              "      <th>SPEEDING</th>\n",
              "      <th>ST_COLCODE</th>\n",
              "      <th>ST_COLDESC</th>\n",
              "      <th>SEGLANEKEY</th>\n",
              "      <th>CROSSWALKKEY</th>\n",
              "      <th>HITPARKEDCAR</th>\n",
              "    </tr>\n",
              "  </thead>\n",
              "  <tbody>\n",
              "    <tr>\n",
              "      <th>0</th>\n",
              "      <td>2</td>\n",
              "      <td>-122.323148</td>\n",
              "      <td>47.703140</td>\n",
              "      <td>1</td>\n",
              "      <td>1307</td>\n",
              "      <td>1307</td>\n",
              "      <td>3502005</td>\n",
              "      <td>Matched</td>\n",
              "      <td>Intersection</td>\n",
              "      <td>37475.0</td>\n",
              "      <td>5TH AVE NE AND NE 103RD ST</td>\n",
              "      <td></td>\n",
              "      <td>NaN</td>\n",
              "      <td>2</td>\n",
              "      <td>Injury Collision</td>\n",
              "      <td>Angles</td>\n",
              "      <td>2</td>\n",
              "      <td>0</td>\n",
              "      <td>0</td>\n",
              "      <td>2</td>\n",
              "      <td>2013/03/27 00:00:00+00</td>\n",
              "      <td>3/27/2013 2:54:00 PM</td>\n",
              "      <td>At Intersection (intersection related)</td>\n",
              "      <td>11</td>\n",
              "      <td>MOTOR VEHICLE STRUCK MOTOR VEHICLE, FRONT END ...</td>\n",
              "      <td>NaN</td>\n",
              "      <td>N</td>\n",
              "      <td>Overcast</td>\n",
              "      <td>Wet</td>\n",
              "      <td>Daylight</td>\n",
              "      <td>NaN</td>\n",
              "      <td>NaN</td>\n",
              "      <td>NaN</td>\n",
              "      <td>10</td>\n",
              "      <td>Entering at angle</td>\n",
              "      <td>0</td>\n",
              "      <td>0</td>\n",
              "      <td>N</td>\n",
              "    </tr>\n",
              "    <tr>\n",
              "      <th>1</th>\n",
              "      <td>1</td>\n",
              "      <td>-122.347294</td>\n",
              "      <td>47.647172</td>\n",
              "      <td>2</td>\n",
              "      <td>52200</td>\n",
              "      <td>52200</td>\n",
              "      <td>2607959</td>\n",
              "      <td>Matched</td>\n",
              "      <td>Block</td>\n",
              "      <td>NaN</td>\n",
              "      <td>AURORA BR BETWEEN RAYE ST AND BRIDGE WAY N</td>\n",
              "      <td>NaN</td>\n",
              "      <td>NaN</td>\n",
              "      <td>1</td>\n",
              "      <td>Property Damage Only Collision</td>\n",
              "      <td>Sideswipe</td>\n",
              "      <td>2</td>\n",
              "      <td>0</td>\n",
              "      <td>0</td>\n",
              "      <td>2</td>\n",
              "      <td>2006/12/20 00:00:00+00</td>\n",
              "      <td>12/20/2006 6:55:00 PM</td>\n",
              "      <td>Mid-Block (not related to intersection)</td>\n",
              "      <td>16</td>\n",
              "      <td>MOTOR VEHICLE STRUCK MOTOR VEHICLE, LEFT SIDE ...</td>\n",
              "      <td>NaN</td>\n",
              "      <td>0</td>\n",
              "      <td>Raining</td>\n",
              "      <td>Wet</td>\n",
              "      <td>Dark - Street Lights On</td>\n",
              "      <td>NaN</td>\n",
              "      <td>6354039.0</td>\n",
              "      <td>NaN</td>\n",
              "      <td>11</td>\n",
              "      <td>From same direction - both going straight - bo...</td>\n",
              "      <td>0</td>\n",
              "      <td>0</td>\n",
              "      <td>N</td>\n",
              "    </tr>\n",
              "    <tr>\n",
              "      <th>2</th>\n",
              "      <td>1</td>\n",
              "      <td>-122.334540</td>\n",
              "      <td>47.607871</td>\n",
              "      <td>3</td>\n",
              "      <td>26700</td>\n",
              "      <td>26700</td>\n",
              "      <td>1482393</td>\n",
              "      <td>Matched</td>\n",
              "      <td>Block</td>\n",
              "      <td>NaN</td>\n",
              "      <td>4TH AVE BETWEEN SENECA ST AND UNIVERSITY ST</td>\n",
              "      <td>NaN</td>\n",
              "      <td>NaN</td>\n",
              "      <td>1</td>\n",
              "      <td>Property Damage Only Collision</td>\n",
              "      <td>Parked Car</td>\n",
              "      <td>4</td>\n",
              "      <td>0</td>\n",
              "      <td>0</td>\n",
              "      <td>3</td>\n",
              "      <td>2004/11/18 00:00:00+00</td>\n",
              "      <td>11/18/2004 10:20:00 AM</td>\n",
              "      <td>Mid-Block (not related to intersection)</td>\n",
              "      <td>14</td>\n",
              "      <td>MOTOR VEHICLE STRUCK MOTOR VEHICLE, REAR END</td>\n",
              "      <td>NaN</td>\n",
              "      <td>0</td>\n",
              "      <td>Overcast</td>\n",
              "      <td>Dry</td>\n",
              "      <td>Daylight</td>\n",
              "      <td>NaN</td>\n",
              "      <td>4323031.0</td>\n",
              "      <td>NaN</td>\n",
              "      <td>32</td>\n",
              "      <td>One parked--one moving</td>\n",
              "      <td>0</td>\n",
              "      <td>0</td>\n",
              "      <td>N</td>\n",
              "    </tr>\n",
              "    <tr>\n",
              "      <th>3</th>\n",
              "      <td>1</td>\n",
              "      <td>-122.334803</td>\n",
              "      <td>47.604803</td>\n",
              "      <td>4</td>\n",
              "      <td>1144</td>\n",
              "      <td>1144</td>\n",
              "      <td>3503937</td>\n",
              "      <td>Matched</td>\n",
              "      <td>Block</td>\n",
              "      <td>NaN</td>\n",
              "      <td>2ND AVE BETWEEN MARION ST AND MADISON ST</td>\n",
              "      <td></td>\n",
              "      <td>NaN</td>\n",
              "      <td>1</td>\n",
              "      <td>Property Damage Only Collision</td>\n",
              "      <td>Other</td>\n",
              "      <td>3</td>\n",
              "      <td>0</td>\n",
              "      <td>0</td>\n",
              "      <td>3</td>\n",
              "      <td>2013/03/29 00:00:00+00</td>\n",
              "      <td>3/29/2013 9:26:00 AM</td>\n",
              "      <td>Mid-Block (not related to intersection)</td>\n",
              "      <td>11</td>\n",
              "      <td>MOTOR VEHICLE STRUCK MOTOR VEHICLE, FRONT END ...</td>\n",
              "      <td>NaN</td>\n",
              "      <td>N</td>\n",
              "      <td>Clear</td>\n",
              "      <td>Dry</td>\n",
              "      <td>Daylight</td>\n",
              "      <td>NaN</td>\n",
              "      <td>NaN</td>\n",
              "      <td>NaN</td>\n",
              "      <td>23</td>\n",
              "      <td>From same direction - all others</td>\n",
              "      <td>0</td>\n",
              "      <td>0</td>\n",
              "      <td>N</td>\n",
              "    </tr>\n",
              "    <tr>\n",
              "      <th>4</th>\n",
              "      <td>2</td>\n",
              "      <td>-122.306426</td>\n",
              "      <td>47.545739</td>\n",
              "      <td>5</td>\n",
              "      <td>17700</td>\n",
              "      <td>17700</td>\n",
              "      <td>1807429</td>\n",
              "      <td>Matched</td>\n",
              "      <td>Intersection</td>\n",
              "      <td>34387.0</td>\n",
              "      <td>SWIFT AVE S AND SWIFT AV OFF RP</td>\n",
              "      <td>NaN</td>\n",
              "      <td>NaN</td>\n",
              "      <td>2</td>\n",
              "      <td>Injury Collision</td>\n",
              "      <td>Angles</td>\n",
              "      <td>2</td>\n",
              "      <td>0</td>\n",
              "      <td>0</td>\n",
              "      <td>2</td>\n",
              "      <td>2004/01/28 00:00:00+00</td>\n",
              "      <td>1/28/2004 8:04:00 AM</td>\n",
              "      <td>At Intersection (intersection related)</td>\n",
              "      <td>11</td>\n",
              "      <td>MOTOR VEHICLE STRUCK MOTOR VEHICLE, FRONT END ...</td>\n",
              "      <td>NaN</td>\n",
              "      <td>0</td>\n",
              "      <td>Raining</td>\n",
              "      <td>Wet</td>\n",
              "      <td>Daylight</td>\n",
              "      <td>NaN</td>\n",
              "      <td>4028032.0</td>\n",
              "      <td>NaN</td>\n",
              "      <td>10</td>\n",
              "      <td>Entering at angle</td>\n",
              "      <td>0</td>\n",
              "      <td>0</td>\n",
              "      <td>N</td>\n",
              "    </tr>\n",
              "  </tbody>\n",
              "</table>\n",
              "</div>"
            ],
            "text/plain": [
              "   SEVERITYCODE           X          Y  ...  SEGLANEKEY  CROSSWALKKEY  HITPARKEDCAR\n",
              "0             2 -122.323148  47.703140  ...           0             0             N\n",
              "1             1 -122.347294  47.647172  ...           0             0             N\n",
              "2             1 -122.334540  47.607871  ...           0             0             N\n",
              "3             1 -122.334803  47.604803  ...           0             0             N\n",
              "4             2 -122.306426  47.545739  ...           0             0             N\n",
              "\n",
              "[5 rows x 38 columns]"
            ]
          },
          "metadata": {
            "tags": []
          },
          "execution_count": 5
        }
      ]
    },
    {
      "cell_type": "code",
      "metadata": {
        "id": "xDw3EbtWF3vm",
        "outputId": "12e76be3-5cf8-4ab7-cd80-82ab70f33fc1",
        "colab": {
          "base_uri": "https://localhost:8080/"
        }
      },
      "source": [
        "coll_df.columns"
      ],
      "execution_count": 6,
      "outputs": [
        {
          "output_type": "execute_result",
          "data": {
            "text/plain": [
              "Index(['SEVERITYCODE', 'X', 'Y', 'OBJECTID', 'INCKEY', 'COLDETKEY', 'REPORTNO',\n",
              "       'STATUS', 'ADDRTYPE', 'INTKEY', 'LOCATION', 'EXCEPTRSNCODE',\n",
              "       'EXCEPTRSNDESC', 'SEVERITYCODE.1', 'SEVERITYDESC', 'COLLISIONTYPE',\n",
              "       'PERSONCOUNT', 'PEDCOUNT', 'PEDCYLCOUNT', 'VEHCOUNT', 'INCDATE',\n",
              "       'INCDTTM', 'JUNCTIONTYPE', 'SDOT_COLCODE', 'SDOT_COLDESC',\n",
              "       'INATTENTIONIND', 'UNDERINFL', 'WEATHER', 'ROADCOND', 'LIGHTCOND',\n",
              "       'PEDROWNOTGRNT', 'SDOTCOLNUM', 'SPEEDING', 'ST_COLCODE', 'ST_COLDESC',\n",
              "       'SEGLANEKEY', 'CROSSWALKKEY', 'HITPARKEDCAR'],\n",
              "      dtype='object')"
            ]
          },
          "metadata": {
            "tags": []
          },
          "execution_count": 6
        }
      ]
    },
    {
      "cell_type": "markdown",
      "metadata": {
        "id": "mD0t3zVWF3vp"
      },
      "source": [
        "We create a dictionary that contains the description of each feature in order to have a better idea of what each predictor/label means. To do so, we use the metadata associated with this dataset."
      ]
    },
    {
      "cell_type": "code",
      "metadata": {
        "id": "coxN3qBJF3vp"
      },
      "source": [
        "coll_dict = {\n",
        "    \"SEVERITYCODE\": \"A code that corresponds to the severity of the collision 3-fatality, 2b-serious injury, 2-injury, 1-prop damage, 0-unknown\", \n",
        "    \"X\": \"X location of accident (lat)\", \n",
        "    \"Y\": \"Y location of accident (long)\",\n",
        "    \"OBJECTID\": \"ESRI unique identifier\", \n",
        "    \"INCKEY\": \"A unique key for the incident\", \n",
        "    \"COLDETKEY\": \"Secondary key for the incident\",\n",
        "    \"REPORTNO\": \"Number of report (?)\", \n",
        "    \"STATUS\": \"Status of report (?)\",\n",
        "    \"ADDRTYPE\": \"Collision address type: Alley, Block, Intersection\", \n",
        "    \"INTKEY\": \"Key that corresponds to the intersection associated with a collision\", \n",
        "    \"LOCATION\": \"Description of the general location of the collision\",\n",
        "    \"EXCEPTRSNCODE\": \"\", \n",
        "    \"EXCEPTRSNDESC\": \"\", \n",
        "    \"SEVERITYCODE.1\": \"\",\n",
        "    \"SEVERITYDESC\": \"A detailed description of the severity of the collision\", \n",
        "    \"COLLISIONTYPE\": \"Collision type\", \n",
        "    \"PERSONCOUNT\": \"The total number of people involved in the collision\",\n",
        "    \"PEDCOUNT\": \"The number of pedestrians involved in the collision. This is entered by the state.\", \n",
        "    \"PEDCYLCOUNT\": \"The number of bicycles involved in the collision. This is entered by the state.\", \n",
        "    \"VEHCOUNT\": \"The number of vehicles involved in the collision. This is entered by the state.\",\n",
        "    \"INCDATE\": \"The date of the incident\", \n",
        "    \"INCDTTM\": \"The date and time of the incident\", \n",
        "    \"JUNCTIONTYPE\": \"Category of junction at which collision took place\",\n",
        "    \"SDOT_COLCODE\": \"A code given to the collision by SDOT\", \n",
        "    \"SDOT_COLDESC\": \"A description of the collision corresponding to the collision code\", \n",
        "    \"INATTENTIONIND\": \"Whether or not collision was due to inattention (Y/N)\",\n",
        "    \"UNDERINFL\": \"Whether or not a driver involved was under the influence of drugs or alcohol\", \n",
        "    \"WEATHER\": \"A description of the weather conditions during the time of the collision\", \n",
        "    \"ROADCOND\": \"The condition of the road during the collision\",\n",
        "    \"LIGHTCOND\": \"The light conditions during the collision\", \n",
        "    \"PEDROWNOTGRNT\": \"Whether or not the pedestrian right of way was not granted (Y/N)\", \n",
        "    \"SDOTCOLNUM\": \"A number given to the collision by SDOT\",\n",
        "    \"SPEEDING\": \"Whether or not speeding was a factor in the collision (Y/N)\", \n",
        "    \"ST_COLCODE\": \"State-defined collision code\", \n",
        "    \"ST_COLDESC\": \"A description taht corresponds to the state's coding designation\",\n",
        "    \"SEGLANEKEY\": \"A key for the lane segment in which the collision occurred\",\n",
        "    \"CROSSWALKKEY\" : \"A key for the crosswalk at which the collision occurred\",\n",
        "    \"HITPARKEDCAR\" : \"Whether or not the collision in volved hitting a parked car (Y/N)\" \n",
        "}\n"
      ],
      "execution_count": 7,
      "outputs": []
    },
    {
      "cell_type": "markdown",
      "metadata": {
        "id": "lO_6_WuBF3vt"
      },
      "source": [
        "From these preliminaries we can already see a potential grouping of features of the dataset:\n",
        "- location -> X, Y, ADDRTYPE, LOCATION, JUNCTIONTYPE;\n",
        "- date/time - season too -> INCDATE, INCDTTM;\n",
        "- collision type -> SEVERITYDESC, COLLISIONTYPE, SDOT_COLCODE, SDOT_COLDESC\n",
        "- collision causes and circumstances -> INATTENTIONIND, UNDERINFL, PEDROWNOTGRNT, SPEEDING, HITPARKEDCAR; \n",
        "- weather, road and light conditions -> WEATHER, ROADCOND, LIGHTCOND;\n",
        "- number of pedestrian, vehicle, bicycles involved -> PERSONCOUNT, PEDCOUNT, PEDCYLCOUNT, VEHCOUNT.\n",
        "\n",
        "So we start by looking at the first group of features: __location__. We do so by creating a location dataframe: loc_df."
      ]
    },
    {
      "cell_type": "code",
      "metadata": {
        "id": "FXCn7kVUF3vu",
        "outputId": "d00adb44-a6ab-4e7f-84bc-83d665fe241d",
        "colab": {
          "base_uri": "https://localhost:8080/",
          "height": 195
        }
      },
      "source": [
        "loc_df = coll_df[['SEVERITYCODE','X','Y','ADDRTYPE','LOCATION','JUNCTIONTYPE']]\n",
        "loc_df.head()"
      ],
      "execution_count": 8,
      "outputs": [
        {
          "output_type": "execute_result",
          "data": {
            "text/html": [
              "<div>\n",
              "<style scoped>\n",
              "    .dataframe tbody tr th:only-of-type {\n",
              "        vertical-align: middle;\n",
              "    }\n",
              "\n",
              "    .dataframe tbody tr th {\n",
              "        vertical-align: top;\n",
              "    }\n",
              "\n",
              "    .dataframe thead th {\n",
              "        text-align: right;\n",
              "    }\n",
              "</style>\n",
              "<table border=\"1\" class=\"dataframe\">\n",
              "  <thead>\n",
              "    <tr style=\"text-align: right;\">\n",
              "      <th></th>\n",
              "      <th>SEVERITYCODE</th>\n",
              "      <th>X</th>\n",
              "      <th>Y</th>\n",
              "      <th>ADDRTYPE</th>\n",
              "      <th>LOCATION</th>\n",
              "      <th>JUNCTIONTYPE</th>\n",
              "    </tr>\n",
              "  </thead>\n",
              "  <tbody>\n",
              "    <tr>\n",
              "      <th>0</th>\n",
              "      <td>2</td>\n",
              "      <td>-122.323148</td>\n",
              "      <td>47.703140</td>\n",
              "      <td>Intersection</td>\n",
              "      <td>5TH AVE NE AND NE 103RD ST</td>\n",
              "      <td>At Intersection (intersection related)</td>\n",
              "    </tr>\n",
              "    <tr>\n",
              "      <th>1</th>\n",
              "      <td>1</td>\n",
              "      <td>-122.347294</td>\n",
              "      <td>47.647172</td>\n",
              "      <td>Block</td>\n",
              "      <td>AURORA BR BETWEEN RAYE ST AND BRIDGE WAY N</td>\n",
              "      <td>Mid-Block (not related to intersection)</td>\n",
              "    </tr>\n",
              "    <tr>\n",
              "      <th>2</th>\n",
              "      <td>1</td>\n",
              "      <td>-122.334540</td>\n",
              "      <td>47.607871</td>\n",
              "      <td>Block</td>\n",
              "      <td>4TH AVE BETWEEN SENECA ST AND UNIVERSITY ST</td>\n",
              "      <td>Mid-Block (not related to intersection)</td>\n",
              "    </tr>\n",
              "    <tr>\n",
              "      <th>3</th>\n",
              "      <td>1</td>\n",
              "      <td>-122.334803</td>\n",
              "      <td>47.604803</td>\n",
              "      <td>Block</td>\n",
              "      <td>2ND AVE BETWEEN MARION ST AND MADISON ST</td>\n",
              "      <td>Mid-Block (not related to intersection)</td>\n",
              "    </tr>\n",
              "    <tr>\n",
              "      <th>4</th>\n",
              "      <td>2</td>\n",
              "      <td>-122.306426</td>\n",
              "      <td>47.545739</td>\n",
              "      <td>Intersection</td>\n",
              "      <td>SWIFT AVE S AND SWIFT AV OFF RP</td>\n",
              "      <td>At Intersection (intersection related)</td>\n",
              "    </tr>\n",
              "  </tbody>\n",
              "</table>\n",
              "</div>"
            ],
            "text/plain": [
              "   SEVERITYCODE  ...                             JUNCTIONTYPE\n",
              "0             2  ...   At Intersection (intersection related)\n",
              "1             1  ...  Mid-Block (not related to intersection)\n",
              "2             1  ...  Mid-Block (not related to intersection)\n",
              "3             1  ...  Mid-Block (not related to intersection)\n",
              "4             2  ...   At Intersection (intersection related)\n",
              "\n",
              "[5 rows x 6 columns]"
            ]
          },
          "metadata": {
            "tags": []
          },
          "execution_count": 8
        }
      ]
    },
    {
      "cell_type": "markdown",
      "metadata": {
        "id": "j4qcTYiEF3vx"
      },
      "source": [
        "We can have a look at the number of occurrences for each severity code based on ADDRTYPE and JUNCTIONTYPE to understand whether accidents occurred in some particular location rather than others."
      ]
    },
    {
      "cell_type": "code",
      "metadata": {
        "id": "zcjIb_SfF3vx",
        "outputId": "915259aa-1b49-456a-c996-10fd8688ca73",
        "colab": {
          "base_uri": "https://localhost:8080/",
          "height": 558
        }
      },
      "source": [
        "figure, (ax1, ax2) = plt.subplots(1, 2, figsize=(15, 5));\n",
        "# figure.tight_layout()\n",
        "plt.subplots_adjust(wspace=0.4)\n",
        "\n",
        "pd.crosstab(loc_df['JUNCTIONTYPE'],loc_df['SEVERITYCODE'] ).plot(kind='bar', stacked=True,ax=ax1);\n",
        "pd.crosstab(loc_df['ADDRTYPE'],loc_df['SEVERITYCODE'] ).plot(kind='bar', stacked=True,ax=ax2);"
      ],
      "execution_count": 9,
      "outputs": [
        {
          "output_type": "display_data",
          "data": {
            "image/png": "[encoded data removed]",
            "text/plain": [
              "<Figure size 1080x360 with 2 Axes>"
            ]
          },
          "metadata": {
            "tags": [],
            "needs_background": "light"
          }
        }
      ]
    },
    {
      "cell_type": "markdown",
      "metadata": {
        "id": "oLMcLNCJF3v0"
      },
      "source": [
        "From this first 2 plots we can observe that: \n",
        "- almost no accidents are occurring at ramp junction or at intersections (but not related to intersections)\n",
        "- the majority of the accidents are either happening at intersection (intersection related) or at mid-block but not related to intersections\n",
        "- of these two, the accidents happening at intersection (intersection related) are split half-half in terms of severity while for the mid-block related accidents the majority of the accidents are of severity 1\n",
        "- when accidents are occurring at intersection, the severity is split between 1 and 2 almost equally in terms of occurrences while the type of accidents occurring at \"block\" are dominated by severity 1 accidents.\n",
        "\n",
        "We can also have a look at the statistics of the loc_df database and observe where the mean location of accidents is within Seattle. Using the standard deviation along the x and y axes (i.e. longitude and latitude) we can draw a square around this mean location which could represent a rough estimation of the area where accidents occurred between 2004 and 2020."
      ]
    },
    {
      "cell_type": "code",
      "metadata": {
        "id": "kOFqYrx9F3v1"
      },
      "source": [
        "X_std = loc_df.X.std()\n",
        "X_mean = loc_df.X.mean()\n",
        "Y_std = loc_df.Y.std()\n",
        "Y_mean = loc_df.Y.mean()"
      ],
      "execution_count": 10,
      "outputs": []
    },
    {
      "cell_type": "code",
      "metadata": {
        "id": "2XM09PDuF3v3",
        "outputId": "f34d3cd2-be11-4bd0-a37f-bb21ce2dbcd9",
        "colab": {
          "base_uri": "https://localhost:8080/",
          "height": 866
        }
      },
      "source": [
        "# define the world map centered around Canada with a low zoom level\n",
        "seattle = folium.Map(location=[Y_mean, X_mean], zoom_start=12)\n",
        "folium.Marker([Y_mean, X_mean]).add_to(seattle)\n",
        "# now I define the square of the box that should contain > 95% of collisions\n",
        "points=[[Y_mean+Y_std,X_mean-X_std],[Y_std+Y_mean,X_mean+X_std],[Y_mean-Y_std,X_mean+X_std],[Y_mean-Y_std,X_mean-X_std],[Y_mean+Y_std,X_mean-X_std]]\n",
        "folium.PolyLine(points,color=\"red\", weight=2.5, opacity=1).add_to(seattle)\n",
        "seattle"
      ],
      "execution_count": 11,
      "outputs": [
        {
          "output_type": "execute_result",
          "data": {
            "text/html": [
              "<div style=\"width:100%;\"><div style=\"position:relative;width:100%;height:0;padding-bottom:60%;\"><span style=\"color:#565656\">Make this Notebook Trusted to load map: File -> Trust Notebook</span><iframe src=\"about:blank\" style=\"position:absolute;width:100%;height:100%;left:0;top:0;border:none !important;\" data-html=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 onload=\"this.contentDocument.open();this.contentDocument.write(atob(this.getAttribute('data-html')));this.contentDocument.close();\" allowfullscreen webkitallowfullscreen mozallowfullscreen></iframe></div></div>"
            ],
            "text/plain": [
              "<folium.folium.Map at 0x7f2bf3d773c8>"
            ]
          },
          "metadata": {
            "tags": []
          },
          "execution_count": 11
        }
      ]
    },
    {
      "cell_type": "markdown",
      "metadata": {
        "id": "WcmCUW6SF3v5"
      },
      "source": [
        "Now we move on to analysing the __date/time__ group of features, i.e. INCDATE, INCDTTM. We create a new dataframe called time_df."
      ]
    },
    {
      "cell_type": "code",
      "metadata": {
        "id": "ilP6vcG5F3v6",
        "outputId": "9a046618-0064-4abf-d3ea-0241a7d2f5b5",
        "colab": {
          "base_uri": "https://localhost:8080/",
          "height": 195
        }
      },
      "source": [
        "time_df = coll_df[['SEVERITYCODE','INCDATE','INCDTTM']]\n",
        "time_df.head()"
      ],
      "execution_count": 12,
      "outputs": [
        {
          "output_type": "execute_result",
          "data": {
            "text/html": [
              "<div>\n",
              "<style scoped>\n",
              "    .dataframe tbody tr th:only-of-type {\n",
              "        vertical-align: middle;\n",
              "    }\n",
              "\n",
              "    .dataframe tbody tr th {\n",
              "        vertical-align: top;\n",
              "    }\n",
              "\n",
              "    .dataframe thead th {\n",
              "        text-align: right;\n",
              "    }\n",
              "</style>\n",
              "<table border=\"1\" class=\"dataframe\">\n",
              "  <thead>\n",
              "    <tr style=\"text-align: right;\">\n",
              "      <th></th>\n",
              "      <th>SEVERITYCODE</th>\n",
              "      <th>INCDATE</th>\n",
              "      <th>INCDTTM</th>\n",
              "    </tr>\n",
              "  </thead>\n",
              "  <tbody>\n",
              "    <tr>\n",
              "      <th>0</th>\n",
              "      <td>2</td>\n",
              "      <td>2013/03/27 00:00:00+00</td>\n",
              "      <td>3/27/2013 2:54:00 PM</td>\n",
              "    </tr>\n",
              "    <tr>\n",
              "      <th>1</th>\n",
              "      <td>1</td>\n",
              "      <td>2006/12/20 00:00:00+00</td>\n",
              "      <td>12/20/2006 6:55:00 PM</td>\n",
              "    </tr>\n",
              "    <tr>\n",
              "      <th>2</th>\n",
              "      <td>1</td>\n",
              "      <td>2004/11/18 00:00:00+00</td>\n",
              "      <td>11/18/2004 10:20:00 AM</td>\n",
              "    </tr>\n",
              "    <tr>\n",
              "      <th>3</th>\n",
              "      <td>1</td>\n",
              "      <td>2013/03/29 00:00:00+00</td>\n",
              "      <td>3/29/2013 9:26:00 AM</td>\n",
              "    </tr>\n",
              "    <tr>\n",
              "      <th>4</th>\n",
              "      <td>2</td>\n",
              "      <td>2004/01/28 00:00:00+00</td>\n",
              "      <td>1/28/2004 8:04:00 AM</td>\n",
              "    </tr>\n",
              "  </tbody>\n",
              "</table>\n",
              "</div>"
            ],
            "text/plain": [
              "   SEVERITYCODE                 INCDATE                 INCDTTM\n",
              "0             2  2013/03/27 00:00:00+00    3/27/2013 2:54:00 PM\n",
              "1             1  2006/12/20 00:00:00+00   12/20/2006 6:55:00 PM\n",
              "2             1  2004/11/18 00:00:00+00  11/18/2004 10:20:00 AM\n",
              "3             1  2013/03/29 00:00:00+00    3/29/2013 9:26:00 AM\n",
              "4             2  2004/01/28 00:00:00+00    1/28/2004 8:04:00 AM"
            ]
          },
          "metadata": {
            "tags": []
          },
          "execution_count": 12
        }
      ]
    },
    {
      "cell_type": "markdown",
      "metadata": {
        "id": "rmdhp1w6F3v9"
      },
      "source": [
        "We notice already that INCDATE is superficial, so we can drop it, split the INCDTTM in year, month, day, hours, minutes, seconds"
      ]
    },
    {
      "cell_type": "code",
      "metadata": {
        "id": "5jfS499aF3v9"
      },
      "source": [
        "import datetime"
      ],
      "execution_count": 13,
      "outputs": []
    },
    {
      "cell_type": "code",
      "metadata": {
        "id": "xvIRL_akF3wB"
      },
      "source": [
        "time_df['INCDTTM'] =  pd.to_datetime(time_df['INCDTTM'], infer_datetime_format=True)\n",
        "time_df['Time'] = [datetime.datetime.time(d) for d in time_df['INCDTTM']] \n",
        "time_df['Date'] = [datetime.datetime.date(d) for d in time_df['INCDTTM']]\n",
        "time_df['Year'] = [datetime.datetime.date(d).year for d in time_df['INCDTTM']] \n",
        "time_df['Month'] = [datetime.datetime.date(d).month for d in time_df['INCDTTM']] \n",
        "time_df['Day'] = [datetime.datetime.date(d).day for d in time_df['INCDTTM']] \n",
        "time_df['Hours'] = [datetime.datetime.time(d).hour for d in time_df['INCDTTM']] \n",
        "time_df['Minutes'] = [datetime.datetime.time(d).minute for d in time_df['INCDTTM']] \n",
        "time_df['Seconds'] = [datetime.datetime.time(d).second for d in time_df['INCDTTM']]\n",
        "time_df = time_df.drop(columns = ['INCDATE'])"
      ],
      "execution_count": 14,
      "outputs": []
    },
    {
      "cell_type": "code",
      "metadata": {
        "id": "sdObpev0F3wE",
        "outputId": "709dd8dc-3a72-493a-9fd2-0e83ab1e26cc",
        "colab": {
          "base_uri": "https://localhost:8080/",
          "height": 195
        }
      },
      "source": [
        "time_df.head()"
      ],
      "execution_count": 15,
      "outputs": [
        {
          "output_type": "execute_result",
          "data": {
            "text/html": [
              "<div>\n",
              "<style scoped>\n",
              "    .dataframe tbody tr th:only-of-type {\n",
              "        vertical-align: middle;\n",
              "    }\n",
              "\n",
              "    .dataframe tbody tr th {\n",
              "        vertical-align: top;\n",
              "    }\n",
              "\n",
              "    .dataframe thead th {\n",
              "        text-align: right;\n",
              "    }\n",
              "</style>\n",
              "<table border=\"1\" class=\"dataframe\">\n",
              "  <thead>\n",
              "    <tr style=\"text-align: right;\">\n",
              "      <th></th>\n",
              "      <th>SEVERITYCODE</th>\n",
              "      <th>INCDTTM</th>\n",
              "      <th>Time</th>\n",
              "      <th>Date</th>\n",
              "      <th>Year</th>\n",
              "      <th>Month</th>\n",
              "      <th>Day</th>\n",
              "      <th>Hours</th>\n",
              "      <th>Minutes</th>\n",
              "      <th>Seconds</th>\n",
              "    </tr>\n",
              "  </thead>\n",
              "  <tbody>\n",
              "    <tr>\n",
              "      <th>0</th>\n",
              "      <td>2</td>\n",
              "      <td>2013-03-27 14:54:00</td>\n",
              "      <td>14:54:00</td>\n",
              "      <td>2013-03-27</td>\n",
              "      <td>2013</td>\n",
              "      <td>3</td>\n",
              "      <td>27</td>\n",
              "      <td>14</td>\n",
              "      <td>54</td>\n",
              "      <td>0</td>\n",
              "    </tr>\n",
              "    <tr>\n",
              "      <th>1</th>\n",
              "      <td>1</td>\n",
              "      <td>2006-12-20 18:55:00</td>\n",
              "      <td>18:55:00</td>\n",
              "      <td>2006-12-20</td>\n",
              "      <td>2006</td>\n",
              "      <td>12</td>\n",
              "      <td>20</td>\n",
              "      <td>18</td>\n",
              "      <td>55</td>\n",
              "      <td>0</td>\n",
              "    </tr>\n",
              "    <tr>\n",
              "      <th>2</th>\n",
              "      <td>1</td>\n",
              "      <td>2004-11-18 10:20:00</td>\n",
              "      <td>10:20:00</td>\n",
              "      <td>2004-11-18</td>\n",
              "      <td>2004</td>\n",
              "      <td>11</td>\n",
              "      <td>18</td>\n",
              "      <td>10</td>\n",
              "      <td>20</td>\n",
              "      <td>0</td>\n",
              "    </tr>\n",
              "    <tr>\n",
              "      <th>3</th>\n",
              "      <td>1</td>\n",
              "      <td>2013-03-29 09:26:00</td>\n",
              "      <td>09:26:00</td>\n",
              "      <td>2013-03-29</td>\n",
              "      <td>2013</td>\n",
              "      <td>3</td>\n",
              "      <td>29</td>\n",
              "      <td>9</td>\n",
              "      <td>26</td>\n",
              "      <td>0</td>\n",
              "    </tr>\n",
              "    <tr>\n",
              "      <th>4</th>\n",
              "      <td>2</td>\n",
              "      <td>2004-01-28 08:04:00</td>\n",
              "      <td>08:04:00</td>\n",
              "      <td>2004-01-28</td>\n",
              "      <td>2004</td>\n",
              "      <td>1</td>\n",
              "      <td>28</td>\n",
              "      <td>8</td>\n",
              "      <td>4</td>\n",
              "      <td>0</td>\n",
              "    </tr>\n",
              "  </tbody>\n",
              "</table>\n",
              "</div>"
            ],
            "text/plain": [
              "   SEVERITYCODE             INCDTTM      Time  ... Hours  Minutes  Seconds\n",
              "0             2 2013-03-27 14:54:00  14:54:00  ...    14       54        0\n",
              "1             1 2006-12-20 18:55:00  18:55:00  ...    18       55        0\n",
              "2             1 2004-11-18 10:20:00  10:20:00  ...    10       20        0\n",
              "3             1 2013-03-29 09:26:00  09:26:00  ...     9       26        0\n",
              "4             2 2004-01-28 08:04:00  08:04:00  ...     8        4        0\n",
              "\n",
              "[5 rows x 10 columns]"
            ]
          },
          "metadata": {
            "tags": []
          },
          "execution_count": 15
        }
      ]
    },
    {
      "cell_type": "markdown",
      "metadata": {
        "id": "Maw3q4bUF3wH"
      },
      "source": [
        "We perform a One Hot Encoding operation to convert the SEVERITYCODE feature into columns \"Severity = 1\" and \"Severity = 2\""
      ]
    },
    {
      "cell_type": "code",
      "metadata": {
        "id": "NKcTg3f6F3wH",
        "outputId": "6e80ceab-7ecd-4c0f-8f7c-e4b225ec8f8a",
        "colab": {
          "base_uri": "https://localhost:8080/",
          "height": 195
        }
      },
      "source": [
        "time_df['Severity = 1']= time_df['SEVERITYCODE'].apply(lambda x: 1 if (x<2)  else 0)\n",
        "time_df['Severity = 2']= time_df['SEVERITYCODE'].apply(lambda x: 1 if (x>=2)  else 0)\n",
        "time_df.head()\n",
        "#Alternative method using pd.get_dummies:\n",
        "#time_df = pd.merge(time_df, pd.get_dummies(time_df.SEVERITYCODE),left_index=True, right_index=True)"
      ],
      "execution_count": 16,
      "outputs": [
        {
          "output_type": "execute_result",
          "data": {
            "text/html": [
              "<div>\n",
              "<style scoped>\n",
              "    .dataframe tbody tr th:only-of-type {\n",
              "        vertical-align: middle;\n",
              "    }\n",
              "\n",
              "    .dataframe tbody tr th {\n",
              "        vertical-align: top;\n",
              "    }\n",
              "\n",
              "    .dataframe thead th {\n",
              "        text-align: right;\n",
              "    }\n",
              "</style>\n",
              "<table border=\"1\" class=\"dataframe\">\n",
              "  <thead>\n",
              "    <tr style=\"text-align: right;\">\n",
              "      <th></th>\n",
              "      <th>SEVERITYCODE</th>\n",
              "      <th>INCDTTM</th>\n",
              "      <th>Time</th>\n",
              "      <th>Date</th>\n",
              "      <th>Year</th>\n",
              "      <th>Month</th>\n",
              "      <th>Day</th>\n",
              "      <th>Hours</th>\n",
              "      <th>Minutes</th>\n",
              "      <th>Seconds</th>\n",
              "      <th>Severity = 1</th>\n",
              "      <th>Severity = 2</th>\n",
              "    </tr>\n",
              "  </thead>\n",
              "  <tbody>\n",
              "    <tr>\n",
              "      <th>0</th>\n",
              "      <td>2</td>\n",
              "      <td>2013-03-27 14:54:00</td>\n",
              "      <td>14:54:00</td>\n",
              "      <td>2013-03-27</td>\n",
              "      <td>2013</td>\n",
              "      <td>3</td>\n",
              "      <td>27</td>\n",
              "      <td>14</td>\n",
              "      <td>54</td>\n",
              "      <td>0</td>\n",
              "      <td>0</td>\n",
              "      <td>1</td>\n",
              "    </tr>\n",
              "    <tr>\n",
              "      <th>1</th>\n",
              "      <td>1</td>\n",
              "      <td>2006-12-20 18:55:00</td>\n",
              "      <td>18:55:00</td>\n",
              "      <td>2006-12-20</td>\n",
              "      <td>2006</td>\n",
              "      <td>12</td>\n",
              "      <td>20</td>\n",
              "      <td>18</td>\n",
              "      <td>55</td>\n",
              "      <td>0</td>\n",
              "      <td>1</td>\n",
              "      <td>0</td>\n",
              "    </tr>\n",
              "    <tr>\n",
              "      <th>2</th>\n",
              "      <td>1</td>\n",
              "      <td>2004-11-18 10:20:00</td>\n",
              "      <td>10:20:00</td>\n",
              "      <td>2004-11-18</td>\n",
              "      <td>2004</td>\n",
              "      <td>11</td>\n",
              "      <td>18</td>\n",
              "      <td>10</td>\n",
              "      <td>20</td>\n",
              "      <td>0</td>\n",
              "      <td>1</td>\n",
              "      <td>0</td>\n",
              "    </tr>\n",
              "    <tr>\n",
              "      <th>3</th>\n",
              "      <td>1</td>\n",
              "      <td>2013-03-29 09:26:00</td>\n",
              "      <td>09:26:00</td>\n",
              "      <td>2013-03-29</td>\n",
              "      <td>2013</td>\n",
              "      <td>3</td>\n",
              "      <td>29</td>\n",
              "      <td>9</td>\n",
              "      <td>26</td>\n",
              "      <td>0</td>\n",
              "      <td>1</td>\n",
              "      <td>0</td>\n",
              "    </tr>\n",
              "    <tr>\n",
              "      <th>4</th>\n",
              "      <td>2</td>\n",
              "      <td>2004-01-28 08:04:00</td>\n",
              "      <td>08:04:00</td>\n",
              "      <td>2004-01-28</td>\n",
              "      <td>2004</td>\n",
              "      <td>1</td>\n",
              "      <td>28</td>\n",
              "      <td>8</td>\n",
              "      <td>4</td>\n",
              "      <td>0</td>\n",
              "      <td>0</td>\n",
              "      <td>1</td>\n",
              "    </tr>\n",
              "  </tbody>\n",
              "</table>\n",
              "</div>"
            ],
            "text/plain": [
              "   SEVERITYCODE             INCDTTM  ... Severity = 1 Severity = 2\n",
              "0             2 2013-03-27 14:54:00  ...            0            1\n",
              "1             1 2006-12-20 18:55:00  ...            1            0\n",
              "2             1 2004-11-18 10:20:00  ...            1            0\n",
              "3             1 2013-03-29 09:26:00  ...            1            0\n",
              "4             2 2004-01-28 08:04:00  ...            0            1\n",
              "\n",
              "[5 rows x 12 columns]"
            ]
          },
          "metadata": {
            "tags": []
          },
          "execution_count": 16
        }
      ]
    },
    {
      "cell_type": "markdown",
      "metadata": {
        "id": "7NlTnLiaF3wK"
      },
      "source": [
        "We now look at the average number of collisions per month averaged between 2004 and 2020 to see if there are any obvious spikes or odd behaviours - this is shown as percentage of Severity 1 and percentage of Severity 2 accidents."
      ]
    },
    {
      "cell_type": "code",
      "metadata": {
        "id": "1rqljGOEF3wL",
        "outputId": "3be83796-31cf-4617-d378-482ce2d02493",
        "colab": {
          "base_uri": "https://localhost:8080/",
          "height": 497
        }
      },
      "source": [
        "monthly_average = time_df.groupby(['Month'])['Severity = 1','Severity = 2'].sum()/(17*12)\n",
        "monthly_average = monthly_average.reset_index()\n",
        "monthly_average.head()\n",
        "\n",
        "from matplotlib.pyplot import figure;\n",
        "\n",
        "monthly_average['% Sev 1'] = 100*monthly_average['Severity = 1'] / (monthly_average['Severity = 1']+monthly_average['Severity = 2'])\n",
        "monthly_average['% Sev 2'] = 100*monthly_average['Severity = 2'] / (monthly_average['Severity = 1']+monthly_average['Severity = 2'])\n",
        "\n",
        "plt.figure(figsize=(15,8))\n",
        "plt.subplot(2,1,1)\n",
        "plt.bar(monthly_average.Month, monthly_average['% Sev 1']);\n",
        "plt.bar(monthly_average.Month, monthly_average['% Sev 2'], bottom =monthly_average['% Sev 1']);\n",
        "plt.legend(['% Sev 1', '% Sev 2']);\n",
        "plt.xticks(monthly_average.Month, monthly_average['Month'], rotation='horizontal');\n",
        "plt.ylabel('% of average collisions per month');\n",
        "plt.xlabel('Months');\n",
        "\n",
        "plt.subplot(2,1,2)\n",
        "plt.bar(monthly_average.Month, monthly_average['Severity = 1']);\n",
        "plt.bar(monthly_average.Month, monthly_average['Severity = 2'], bottom =monthly_average['Severity = 1']);\n",
        "plt.legend(['Severity = 1', 'Severity = 2']);\n",
        "plt.xticks(monthly_average.Month, monthly_average['Month'], rotation='horizontal');\n",
        "plt.ylabel('Average number of collisions per month');\n",
        "plt.xlabel('Months');\n",
        "\n",
        "#Alternative way (without doing reset_index above)\n",
        "#monthly_average.plot.bar(stacked=True)"
      ],
      "execution_count": 17,
      "outputs": [
        {
          "output_type": "display_data",
          "data": {
            "image/png": "[encoded data removed]",
            "text/plain": [
              "<Figure size 1080x576 with 2 Axes>"
            ]
          },
          "metadata": {
            "tags": [],
            "needs_background": "light"
          }
        }
      ]
    },
    {
      "cell_type": "markdown",
      "metadata": {
        "id": "D8RVL1AlF3wO"
      },
      "source": [
        "We can see from the plot above that there is no apparent trend and that Severity 1 accidents made up ~70% of total accidents per month between 2004 and 2020. Even looking at the average number of collisions per month doesn't seem to offer much more information. We now turn our attention to the annual trends."
      ]
    },
    {
      "cell_type": "code",
      "metadata": {
        "id": "0RDQ2T2qF3wO",
        "outputId": "d4fcc6f9-e3fe-4780-ad30-a4294ecf891c",
        "colab": {
          "base_uri": "https://localhost:8080/",
          "height": 497
        }
      },
      "source": [
        "annual_trends_df = time_df.groupby(['Year'])['Severity = 1','Severity = 2'].sum();\n",
        "annual_trends_df = annual_trends_df.reset_index()\n",
        "plt.figure(figsize=(15,8))\n",
        "annual_trends_df['% Sev 1'] = 100*annual_trends_df['Severity = 1'] / (annual_trends_df['Severity = 1']+annual_trends_df['Severity = 2'])\n",
        "annual_trends_df['% Sev 2'] = 100*annual_trends_df['Severity = 2'] / (annual_trends_df['Severity = 1']+annual_trends_df['Severity = 2'])\n",
        "plt.subplot(2,1,1)\n",
        "plt.bar(annual_trends_df.Year, annual_trends_df['% Sev 1']);\n",
        "plt.bar(annual_trends_df.Year, annual_trends_df['% Sev 2'], bottom =annual_trends_df['% Sev 1']);\n",
        "plt.legend(['% Sev 1', '% Sev 2']);\n",
        "plt.xticks(annual_trends_df.Year, annual_trends_df['Year'], rotation='horizontal');\n",
        "plt.ylabel('% of average collisions per year');\n",
        "plt.xlabel('Years');\n",
        "\n",
        "plt.subplot(2,1,2)\n",
        "plt.bar(annual_trends_df.Year, annual_trends_df['Severity = 1']);\n",
        "plt.bar(annual_trends_df.Year, annual_trends_df['Severity = 1'], bottom =annual_trends_df['Severity = 1']);\n",
        "plt.legend(['Severity = 1','Severity = 2']);\n",
        "plt.xticks(annual_trends_df.Year, annual_trends_df['Year'], rotation='horizontal');\n",
        "plt.ylabel('Average number of collisions per year');\n",
        "plt.xlabel('Years');"
      ],
      "execution_count": 18,
      "outputs": [
        {
          "output_type": "display_data",
          "data": {
            "image/png": "[encoded data removed]",
            "text/plain": [
              "<Figure size 1080x576 with 2 Axes>"
            ]
          },
          "metadata": {
            "tags": [],
            "needs_background": "light"
          }
        }
      ]
    },
    {
      "cell_type": "markdown",
      "metadata": {
        "id": "S94FpRtqF3wR"
      },
      "source": [
        "From the first plot we can see that Severity 1 accidents made up ~70% of total accidents per year between 2004 and 2020. However, when looking at the average number of collisions per year we can see that between 2011/2012 to 2015 there was a constant increase in the total number accidents - we then observe a decrease from 2015 to 2019 - this coincides with the introduction of [Vision Zero](https://www.seattle.gov/visionzero) in 2015. The 2020 numbers are obviously only partial as the database stops at May 2020."
      ]
    },
    {
      "cell_type": "code",
      "metadata": {
        "id": "fAvRECqQF3wR",
        "outputId": "58d88e0a-d3d4-45be-9827-26a073c47fa4",
        "colab": {
          "base_uri": "https://localhost:8080/",
          "height": 606
        }
      },
      "source": [
        "hourly_trends_df = time_df.groupby(['Hours'])['Severity = 1','Severity = 2'].sum()/(16*12);\n",
        "hourly_trends_df = hourly_trends_df.reset_index()\n",
        "plt.figure(figsize=(15,10))\n",
        "hourly_trends_df['% Sev 1'] = 100*hourly_trends_df['Severity = 1'] / (hourly_trends_df['Severity = 1']+hourly_trends_df['Severity = 2'])\n",
        "hourly_trends_df['% Sev 2'] = 100*hourly_trends_df['Severity = 2'] / (hourly_trends_df['Severity = 1']+hourly_trends_df['Severity = 2'])\n",
        "plt.subplot(2,1,1)\n",
        "plt.bar(hourly_trends_df.Hours, hourly_trends_df['% Sev 1']);\n",
        "plt.bar(hourly_trends_df.Hours, hourly_trends_df['% Sev 2'], bottom =hourly_trends_df['% Sev 1']);\n",
        "plt.legend(['% Sev 1', '% Sev 2']);\n",
        "plt.xticks(hourly_trends_df.Hours, hourly_trends_df['Hours'], rotation='horizontal');\n",
        "plt.ylabel('% of collisions per hour from 2004 to 2020');\n",
        "plt.xlabel('Hours');\n",
        "\n",
        "plt.subplot(2,1,2)\n",
        "plt.bar(hourly_trends_df.Hours, hourly_trends_df['Severity = 1']);\n",
        "plt.bar(hourly_trends_df.Hours, hourly_trends_df['Severity = 2'], bottom =hourly_trends_df['Severity = 1']);\n",
        "plt.legend(['Severity = 1', 'Severity = 2']);\n",
        "plt.xticks(hourly_trends_df.Hours, hourly_trends_df['Hours'], rotation='horizontal');\n",
        "plt.ylabel('Average number of collisions per hour from 2004 to 2020');\n",
        "plt.xlabel('Hours');"
      ],
      "execution_count": 19,
      "outputs": [
        {
          "output_type": "display_data",
          "data": {
            "image/png": "[encoded data removed]",
            "text/plain": [
              "<Figure size 1080x720 with 2 Axes>"
            ]
          },
          "metadata": {
            "tags": [],
            "needs_background": "light"
          }
        }
      ]
    },
    {
      "cell_type": "markdown",
      "metadata": {
        "id": "g0G1CA0bF3wU"
      },
      "source": [
        "These last two plots are a bit more interesting and show the trend of number of collisions per hour, averaged on year and month. We can see 2 peaks: one at midnight and one at 5pm. In particular, the peak at midnight seems to be much higher than the other hourly values - let's dig more into the hours results to see if something odd is happening in the database. \n",
        "We start with searching for all the occurrences in the dataframe where the time of the collisions was 00:00:00 and all the occurrences in the dataframe where the collisions where recorded at other times than 00:00:00 (but still at 00 hours)"
      ]
    },
    {
      "cell_type": "code",
      "metadata": {
        "id": "dnPQR7AoF3wV",
        "outputId": "01bdc8e2-7003-4e50-e194-87f95b50b5a9",
        "colab": {
          "base_uri": "https://localhost:8080/"
        }
      },
      "source": [
        "len(time_df.loc[(time_df.Hours == 0) & (time_df.Minutes==0) & (time_df.Seconds==0)])"
      ],
      "execution_count": 20,
      "outputs": [
        {
          "output_type": "execute_result",
          "data": {
            "text/plain": [
              "30526"
            ]
          },
          "metadata": {
            "tags": []
          },
          "execution_count": 20
        }
      ]
    },
    {
      "cell_type": "code",
      "metadata": {
        "id": "RWlCbq2PF3wX",
        "outputId": "63264d47-d17d-4ab6-836d-b9a8ce09d824",
        "colab": {
          "base_uri": "https://localhost:8080/"
        }
      },
      "source": [
        "len(time_df.loc[(time_df.Hours == 0)])"
      ],
      "execution_count": 21,
      "outputs": [
        {
          "output_type": "execute_result",
          "data": {
            "text/plain": [
              "34381"
            ]
          },
          "metadata": {
            "tags": []
          },
          "execution_count": 21
        }
      ]
    },
    {
      "cell_type": "code",
      "metadata": {
        "id": "xX1aRkCSF3wZ",
        "outputId": "99fcf4ad-290e-48be-8664-a24cffa62def",
        "colab": {
          "base_uri": "https://localhost:8080/"
        }
      },
      "source": [
        "corrected_midnight = (len(time_df.loc[(time_df.Hours == 0)])-len(time_df.loc[(time_df.Hours == 0) & (time_df.Minutes==0) & (time_df.Seconds==0)]))/(16*12)\n",
        "corrected_midnight"
      ],
      "execution_count": 22,
      "outputs": [
        {
          "output_type": "execute_result",
          "data": {
            "text/plain": [
              "20.078125"
            ]
          },
          "metadata": {
            "tags": []
          },
          "execution_count": 22
        }
      ]
    },
    {
      "cell_type": "markdown",
      "metadata": {
        "id": "LIDuATaaF3wd"
      },
      "source": [
        "From this first simple analysis we see that collisions recorded exactly at 00:00:00 time account for 30526 out of the 34381 that happened at 00 hours (basically between 12am and 1am). We can hypothize that those collisions recorded exactly at 00:00:00 were not updated with the correct time and when we look at the collisions that were recorded betwen 12am and 1am (but not exactly at 00:00:00), the average number of collisions per year, per month between 12am and 1am is much more in line with the rest of chart, that's to say ~20. With this information we can try to modify the plot above to a more realistic one - shown below - which now shows 2 relative peaks: one at 8am and one at 5pm, basically coinciding with peak hours with school runs and office commute, with the majority of Severity 2 accidents occuring towards the late afternoon/early evening."
      ]
    },
    {
      "cell_type": "code",
      "metadata": {
        "id": "B-g9-RlhF3we",
        "outputId": "5227b587-a5c1-431f-9a10-ef3d7d037c13",
        "colab": {
          "base_uri": "https://localhost:8080/",
          "height": 341
        }
      },
      "source": [
        "hourly_trends_corrected = hourly_trends_df\n",
        "hourly_trends_corrected['Severity = 1'][0] = hourly_trends_df['% Sev 1'][0]*corrected_midnight/100\n",
        "hourly_trends_corrected['Severity = 2'][0] = hourly_trends_df['% Sev 2'][0]*corrected_midnight/100\n",
        "\n",
        "plt.figure(figsize=(15,5))\n",
        "plt.bar(hourly_trends_corrected.Hours, hourly_trends_corrected['Severity = 1']);\n",
        "plt.bar(hourly_trends_corrected.Hours, hourly_trends_corrected['Severity = 2'], bottom =hourly_trends_corrected['Severity = 1']);\n",
        "plt.legend(['Severity = 1', 'Severity = 2']);\n",
        "plt.xticks(hourly_trends_corrected.Hours, hourly_trends_corrected['Hours'], rotation='horizontal');\n",
        "plt.ylabel('Average number of collisions per hour from 2004 to 2020');\n",
        "plt.xlabel('Hours');"
      ],
      "execution_count": 23,
      "outputs": [
        {
          "output_type": "display_data",
          "data": {
            "image/png": "[encoded data removed]",
            "text/plain": [
              "<Figure size 1080x360 with 1 Axes>"
            ]
          },
          "metadata": {
            "tags": [],
            "needs_background": "light"
          }
        }
      ]
    },
    {
      "cell_type": "markdown",
      "metadata": {
        "id": "evRTD9agF3wh"
      },
      "source": [
        "Now we consider the third group of features, i.e. __collision type__ made up of COLLISIONTYPE, SDOT_COLCODE, SDOT_COLDESC. We invoke the dictionary defined at the beginning of this report to remind ourselves what these features are."
      ]
    },
    {
      "cell_type": "code",
      "metadata": {
        "id": "HOL6SoXOF3wh",
        "outputId": "41fd0f4f-6233-4e21-9982-104aa16eec4b",
        "colab": {
          "base_uri": "https://localhost:8080/"
        }
      },
      "source": [
        "print('COLLISIONTYPE:',coll_dict['COLLISIONTYPE'], '\\nSDOT_COLCODE:', coll_dict['SDOT_COLCODE'], '\\nSDOT_COLDESC:', coll_dict['SDOT_COLDESC'])\n",
        "\n",
        "#coll_df.COLLISIONTYPE.unique()"
      ],
      "execution_count": 24,
      "outputs": [
        {
          "output_type": "stream",
          "text": [
            "COLLISIONTYPE: Collision type \n",
            "SDOT_COLCODE: A code given to the collision by SDOT \n",
            "SDOT_COLDESC: A description of the collision corresponding to the collision code\n"
          ],
          "name": "stdout"
        }
      ]
    },
    {
      "cell_type": "markdown",
      "metadata": {
        "id": "Ft1fE8nuF3wl"
      },
      "source": [
        "We assemble a new dataframe called coltype_df with the features above to examine them."
      ]
    },
    {
      "cell_type": "code",
      "metadata": {
        "id": "UPTQ5P6AF3wl",
        "outputId": "aadf17c4-c981-4dfc-f7a2-2ecc2cb20904",
        "colab": {
          "base_uri": "https://localhost:8080/",
          "height": 195
        }
      },
      "source": [
        "colltype_df = coll_df[['SEVERITYCODE','COLLISIONTYPE','SDOT_COLCODE','SDOT_COLDESC']]\n",
        "colltype_df.head()"
      ],
      "execution_count": 25,
      "outputs": [
        {
          "output_type": "execute_result",
          "data": {
            "text/html": [
              "<div>\n",
              "<style scoped>\n",
              "    .dataframe tbody tr th:only-of-type {\n",
              "        vertical-align: middle;\n",
              "    }\n",
              "\n",
              "    .dataframe tbody tr th {\n",
              "        vertical-align: top;\n",
              "    }\n",
              "\n",
              "    .dataframe thead th {\n",
              "        text-align: right;\n",
              "    }\n",
              "</style>\n",
              "<table border=\"1\" class=\"dataframe\">\n",
              "  <thead>\n",
              "    <tr style=\"text-align: right;\">\n",
              "      <th></th>\n",
              "      <th>SEVERITYCODE</th>\n",
              "      <th>COLLISIONTYPE</th>\n",
              "      <th>SDOT_COLCODE</th>\n",
              "      <th>SDOT_COLDESC</th>\n",
              "    </tr>\n",
              "  </thead>\n",
              "  <tbody>\n",
              "    <tr>\n",
              "      <th>0</th>\n",
              "      <td>2</td>\n",
              "      <td>Angles</td>\n",
              "      <td>11</td>\n",
              "      <td>MOTOR VEHICLE STRUCK MOTOR VEHICLE, FRONT END ...</td>\n",
              "    </tr>\n",
              "    <tr>\n",
              "      <th>1</th>\n",
              "      <td>1</td>\n",
              "      <td>Sideswipe</td>\n",
              "      <td>16</td>\n",
              "      <td>MOTOR VEHICLE STRUCK MOTOR VEHICLE, LEFT SIDE ...</td>\n",
              "    </tr>\n",
              "    <tr>\n",
              "      <th>2</th>\n",
              "      <td>1</td>\n",
              "      <td>Parked Car</td>\n",
              "      <td>14</td>\n",
              "      <td>MOTOR VEHICLE STRUCK MOTOR VEHICLE, REAR END</td>\n",
              "    </tr>\n",
              "    <tr>\n",
              "      <th>3</th>\n",
              "      <td>1</td>\n",
              "      <td>Other</td>\n",
              "      <td>11</td>\n",
              "      <td>MOTOR VEHICLE STRUCK MOTOR VEHICLE, FRONT END ...</td>\n",
              "    </tr>\n",
              "    <tr>\n",
              "      <th>4</th>\n",
              "      <td>2</td>\n",
              "      <td>Angles</td>\n",
              "      <td>11</td>\n",
              "      <td>MOTOR VEHICLE STRUCK MOTOR VEHICLE, FRONT END ...</td>\n",
              "    </tr>\n",
              "  </tbody>\n",
              "</table>\n",
              "</div>"
            ],
            "text/plain": [
              "   SEVERITYCODE  ...                                       SDOT_COLDESC\n",
              "0             2  ...  MOTOR VEHICLE STRUCK MOTOR VEHICLE, FRONT END ...\n",
              "1             1  ...  MOTOR VEHICLE STRUCK MOTOR VEHICLE, LEFT SIDE ...\n",
              "2             1  ...       MOTOR VEHICLE STRUCK MOTOR VEHICLE, REAR END\n",
              "3             1  ...  MOTOR VEHICLE STRUCK MOTOR VEHICLE, FRONT END ...\n",
              "4             2  ...  MOTOR VEHICLE STRUCK MOTOR VEHICLE, FRONT END ...\n",
              "\n",
              "[5 rows x 4 columns]"
            ]
          },
          "metadata": {
            "tags": []
          },
          "execution_count": 25
        }
      ]
    },
    {
      "cell_type": "markdown",
      "metadata": {
        "id": "jkAsEki8F3wo"
      },
      "source": [
        "Looking at this dataframe we notice how some of the information is redundant and in fact can be retrieved by including also the group of features that is number of pedestrian, vehicle, bicycles involved and dropping the columns SDOT_COLCODE and SDOT_COLDESC."
      ]
    },
    {
      "cell_type": "code",
      "metadata": {
        "id": "Ec8KI65PF3wo",
        "outputId": "3ac653aa-aacf-41af-95bb-bdc9c95491b7",
        "colab": {
          "base_uri": "https://localhost:8080/",
          "height": 195
        }
      },
      "source": [
        "colltype_df['PERSONCOUNT'] = coll_df['PERSONCOUNT']\n",
        "colltype_df['PEDCOUNT'] = coll_df['PEDCOUNT']\n",
        "colltype_df['PEDCYLCOUNT'] = coll_df['PEDCYLCOUNT']\n",
        "colltype_df['VEHCOUNT'] = coll_df['VEHCOUNT']\n",
        "colltype_df = colltype_df.drop(columns=['SDOT_COLCODE','SDOT_COLDESC'])\n",
        "#one hot encoding to transform SEVERITYCODE column into 2 separate columns\n",
        "colltype_df['Severity = 1']= colltype_df['SEVERITYCODE'].apply(lambda x: 1 if (x<2)  else 0)\n",
        "colltype_df['Severity = 2']= colltype_df['SEVERITYCODE'].apply(lambda x: 1 if (x>=2)  else 0)\n",
        "colltype_df.head()"
      ],
      "execution_count": 26,
      "outputs": [
        {
          "output_type": "execute_result",
          "data": {
            "text/html": [
              "<div>\n",
              "<style scoped>\n",
              "    .dataframe tbody tr th:only-of-type {\n",
              "        vertical-align: middle;\n",
              "    }\n",
              "\n",
              "    .dataframe tbody tr th {\n",
              "        vertical-align: top;\n",
              "    }\n",
              "\n",
              "    .dataframe thead th {\n",
              "        text-align: right;\n",
              "    }\n",
              "</style>\n",
              "<table border=\"1\" class=\"dataframe\">\n",
              "  <thead>\n",
              "    <tr style=\"text-align: right;\">\n",
              "      <th></th>\n",
              "      <th>SEVERITYCODE</th>\n",
              "      <th>COLLISIONTYPE</th>\n",
              "      <th>PERSONCOUNT</th>\n",
              "      <th>PEDCOUNT</th>\n",
              "      <th>PEDCYLCOUNT</th>\n",
              "      <th>VEHCOUNT</th>\n",
              "      <th>Severity = 1</th>\n",
              "      <th>Severity = 2</th>\n",
              "    </tr>\n",
              "  </thead>\n",
              "  <tbody>\n",
              "    <tr>\n",
              "      <th>0</th>\n",
              "      <td>2</td>\n",
              "      <td>Angles</td>\n",
              "      <td>2</td>\n",
              "      <td>0</td>\n",
              "      <td>0</td>\n",
              "      <td>2</td>\n",
              "      <td>0</td>\n",
              "      <td>1</td>\n",
              "    </tr>\n",
              "    <tr>\n",
              "      <th>1</th>\n",
              "      <td>1</td>\n",
              "      <td>Sideswipe</td>\n",
              "      <td>2</td>\n",
              "      <td>0</td>\n",
              "      <td>0</td>\n",
              "      <td>2</td>\n",
              "      <td>1</td>\n",
              "      <td>0</td>\n",
              "    </tr>\n",
              "    <tr>\n",
              "      <th>2</th>\n",
              "      <td>1</td>\n",
              "      <td>Parked Car</td>\n",
              "      <td>4</td>\n",
              "      <td>0</td>\n",
              "      <td>0</td>\n",
              "      <td>3</td>\n",
              "      <td>1</td>\n",
              "      <td>0</td>\n",
              "    </tr>\n",
              "    <tr>\n",
              "      <th>3</th>\n",
              "      <td>1</td>\n",
              "      <td>Other</td>\n",
              "      <td>3</td>\n",
              "      <td>0</td>\n",
              "      <td>0</td>\n",
              "      <td>3</td>\n",
              "      <td>1</td>\n",
              "      <td>0</td>\n",
              "    </tr>\n",
              "    <tr>\n",
              "      <th>4</th>\n",
              "      <td>2</td>\n",
              "      <td>Angles</td>\n",
              "      <td>2</td>\n",
              "      <td>0</td>\n",
              "      <td>0</td>\n",
              "      <td>2</td>\n",
              "      <td>0</td>\n",
              "      <td>1</td>\n",
              "    </tr>\n",
              "  </tbody>\n",
              "</table>\n",
              "</div>"
            ],
            "text/plain": [
              "   SEVERITYCODE COLLISIONTYPE  ...  Severity = 1  Severity = 2\n",
              "0             2        Angles  ...             0             1\n",
              "1             1     Sideswipe  ...             1             0\n",
              "2             1    Parked Car  ...             1             0\n",
              "3             1         Other  ...             1             0\n",
              "4             2        Angles  ...             0             1\n",
              "\n",
              "[5 rows x 8 columns]"
            ]
          },
          "metadata": {
            "tags": []
          },
          "execution_count": 26
        }
      ]
    },
    {
      "cell_type": "markdown",
      "metadata": {
        "id": "m9GfTrN4F3wq"
      },
      "source": [
        "We can now run some statistics on this dataframe. For example we can have a look at how many accidents occured per collision type and how many vehicles, pedestrians and bicycles were involved."
      ]
    },
    {
      "cell_type": "code",
      "metadata": {
        "id": "e4yLBRueF3wr",
        "outputId": "b76f284b-8a2d-4c95-a762-391d86eaf0c1",
        "colab": {
          "base_uri": "https://localhost:8080/",
          "height": 373
        }
      },
      "source": [
        "colltype_df.groupby('COLLISIONTYPE')['Severity = 1','Severity = 2','PEDCOUNT','PEDCYLCOUNT','VEHCOUNT'].sum()"
      ],
      "execution_count": 27,
      "outputs": [
        {
          "output_type": "execute_result",
          "data": {
            "text/html": [
              "<div>\n",
              "<style scoped>\n",
              "    .dataframe tbody tr th:only-of-type {\n",
              "        vertical-align: middle;\n",
              "    }\n",
              "\n",
              "    .dataframe tbody tr th {\n",
              "        vertical-align: top;\n",
              "    }\n",
              "\n",
              "    .dataframe thead th {\n",
              "        text-align: right;\n",
              "    }\n",
              "</style>\n",
              "<table border=\"1\" class=\"dataframe\">\n",
              "  <thead>\n",
              "    <tr style=\"text-align: right;\">\n",
              "      <th></th>\n",
              "      <th>Severity = 1</th>\n",
              "      <th>Severity = 2</th>\n",
              "      <th>PEDCOUNT</th>\n",
              "      <th>PEDCYLCOUNT</th>\n",
              "      <th>VEHCOUNT</th>\n",
              "    </tr>\n",
              "    <tr>\n",
              "      <th>COLLISIONTYPE</th>\n",
              "      <th></th>\n",
              "      <th></th>\n",
              "      <th></th>\n",
              "      <th></th>\n",
              "      <th></th>\n",
              "    </tr>\n",
              "  </thead>\n",
              "  <tbody>\n",
              "    <tr>\n",
              "      <th>Angles</th>\n",
              "      <td>21050</td>\n",
              "      <td>13624</td>\n",
              "      <td>60</td>\n",
              "      <td>17</td>\n",
              "      <td>71978</td>\n",
              "    </tr>\n",
              "    <tr>\n",
              "      <th>Cycles</th>\n",
              "      <td>671</td>\n",
              "      <td>4744</td>\n",
              "      <td>98</td>\n",
              "      <td>5447</td>\n",
              "      <td>5295</td>\n",
              "    </tr>\n",
              "    <tr>\n",
              "      <th>Head On</th>\n",
              "      <td>1152</td>\n",
              "      <td>872</td>\n",
              "      <td>0</td>\n",
              "      <td>1</td>\n",
              "      <td>4305</td>\n",
              "    </tr>\n",
              "    <tr>\n",
              "      <th>Left Turn</th>\n",
              "      <td>8292</td>\n",
              "      <td>5411</td>\n",
              "      <td>22</td>\n",
              "      <td>14</td>\n",
              "      <td>28117</td>\n",
              "    </tr>\n",
              "    <tr>\n",
              "      <th>Other</th>\n",
              "      <td>17591</td>\n",
              "      <td>6112</td>\n",
              "      <td>71</td>\n",
              "      <td>7</td>\n",
              "      <td>34276</td>\n",
              "    </tr>\n",
              "    <tr>\n",
              "      <th>Parked Car</th>\n",
              "      <td>45325</td>\n",
              "      <td>2662</td>\n",
              "      <td>72</td>\n",
              "      <td>6</td>\n",
              "      <td>102983</td>\n",
              "    </tr>\n",
              "    <tr>\n",
              "      <th>Pedestrian</th>\n",
              "      <td>672</td>\n",
              "      <td>5936</td>\n",
              "      <td>6857</td>\n",
              "      <td>4</td>\n",
              "      <td>6702</td>\n",
              "    </tr>\n",
              "    <tr>\n",
              "      <th>Rear Ended</th>\n",
              "      <td>19419</td>\n",
              "      <td>14671</td>\n",
              "      <td>27</td>\n",
              "      <td>7</td>\n",
              "      <td>75753</td>\n",
              "    </tr>\n",
              "    <tr>\n",
              "      <th>Right Turn</th>\n",
              "      <td>2347</td>\n",
              "      <td>609</td>\n",
              "      <td>5</td>\n",
              "      <td>3</td>\n",
              "      <td>5985</td>\n",
              "    </tr>\n",
              "    <tr>\n",
              "      <th>Sideswipe</th>\n",
              "      <td>16103</td>\n",
              "      <td>2506</td>\n",
              "      <td>18</td>\n",
              "      <td>5</td>\n",
              "      <td>38505</td>\n",
              "    </tr>\n",
              "  </tbody>\n",
              "</table>\n",
              "</div>"
            ],
            "text/plain": [
              "               Severity = 1  Severity = 2  PEDCOUNT  PEDCYLCOUNT  VEHCOUNT\n",
              "COLLISIONTYPE                                                             \n",
              "Angles                21050         13624        60           17     71978\n",
              "Cycles                  671          4744        98         5447      5295\n",
              "Head On                1152           872         0            1      4305\n",
              "Left Turn              8292          5411        22           14     28117\n",
              "Other                 17591          6112        71            7     34276\n",
              "Parked Car            45325          2662        72            6    102983\n",
              "Pedestrian              672          5936      6857            4      6702\n",
              "Rear Ended            19419         14671        27            7     75753\n",
              "Right Turn             2347           609         5            3      5985\n",
              "Sideswipe             16103          2506        18            5     38505"
            ]
          },
          "metadata": {
            "tags": []
          },
          "execution_count": 27
        }
      ]
    },
    {
      "cell_type": "code",
      "metadata": {
        "id": "gksqTAd3F3wu"
      },
      "source": [
        ""
      ],
      "execution_count": 27,
      "outputs": []
    }
  ]
}