{
 "cells": [
  {
   "cell_type": "markdown",
   "metadata": {
    "colab_type": "text",
    "id": "view-in-github"
   },
   "source": [
    "<a href=\"https://colab.research.google.com/github/pcarugno/Coursera_Capstone/blob/coursera_capstone/Coursera_Capstone/Coursera_Capstone%20Project%20-%20Report.ipynb\" target=\"_parent\"><img src=\"https://colab.research.google.com/assets/colab-badge.svg\" alt=\"Open In Colab\"/></a>"
   ]
  },
  {
   "cell_type": "markdown",
   "metadata": {
    "id": "C8z9XV03F3vS"
   },
   "source": [
    "# Coursera Capstone Project \n",
    "## Predict the severity of an accident in Seattle - Final Report"
   ]
  },
  {
   "cell_type": "markdown",
   "metadata": {
    "id": "p13OAm4xF3vT"
   },
   "source": [
    "## 1. Introduction\n",
    "\n",
    "The aim of this project is to develop a machine learning tool that will help predicting the severity of an accident based on some key features (such as weather, driving conditions, road conditions etc). This problem is particularly important for the city of Seattle: the city has been moving towards achieving 0 traffic deaths and serious injuries by 2030 and has launched [Vision Zero](https://www.seattle.gov/visionzero) in 2015, but as explained in [this Seattle Transit Blog entry from 2018](https://seattletransitblog.com/2018/01/05/traffic-volumes-collision-rate/), collisions with fatal or serious injury jumped *16.5%* in 2016, even as traffic volumes remained nearly unchanged. It is hence of paramount importance to develop techniques that can help understand, predict and even avoid accidents based on their severity and that's what this project is about.\n",
    "\n",
    "\n",
    "## 2. Data\n",
    "\n",
    "The data being used comprises every accident occurred in the city of Seattle between 2004 and 2020. The dimensions of the dataset are:"
   ]
  },
  {
   "cell_type": "code",
   "execution_count": 4,
   "metadata": {
    "id": "fp8k019pF3vU"
   },
   "outputs": [],
   "source": [
    "import pandas as pd\n",
    "import numpy as np\n",
    "import matplotlib.pyplot as plt\n",
    "%matplotlib inline\n",
    "import seaborn as sns\n",
    "import folium"
   ]
  },
  {
   "cell_type": "code",
   "execution_count": 5,
   "metadata": {
    "id": "ytQ6j7FbF3vY"
   },
   "outputs": [],
   "source": [
    "import warnings\n",
    "warnings.filterwarnings(\"ignore\")"
   ]
  },
  {
   "cell_type": "code",
   "execution_count": 6,
   "metadata": {
    "colab": {
     "base_uri": "https://localhost:8080/"
    },
    "id": "QQiPWP33F3vc",
    "outputId": "35f9a689-529f-49cb-c7c5-49a734798e7a"
   },
   "outputs": [
    {
     "name": "stdout",
     "output_type": "stream",
     "text": [
      "Dimensions of dataset: (194673, 38)\n"
     ]
    }
   ],
   "source": [
    "coll_df = pd.read_csv(r'../Python/Data-Collisions.csv')\n",
    "print('Dimensions of dataset:', coll_df.shape)"
   ]
  },
  {
   "cell_type": "markdown",
   "metadata": {
    "id": "oCqoOsOlF3vh"
   },
   "source": [
    "The dataset is hence comprised of 194673 records and 38 features. More information on the data and the adopted methodology are presented in the next section"
   ]
  },
  {
   "cell_type": "markdown",
   "metadata": {
    "id": "mhEZ0ZdkF3vh"
   },
   "source": [
    "## 3. Methodology\n",
    "\n",
    "In this section the exploratory data analysis, statistical testing and machine learning methodology adopted will be described.\n",
    "\n",
    "## 3.a Exploratory Data Analysis\n",
    "\n",
    "To perform a meaningful exploratory data analysis we start by looking at the provided dataset global characteristics, such as number of features, whether these can be grouped in categories and what are the global statistics of the dataset."
   ]
  },
  {
   "cell_type": "code",
   "execution_count": 7,
   "metadata": {
    "colab": {
     "base_uri": "https://localhost:8080/",
     "height": 660
    },
    "id": "1BJ8BI_fF3vj",
    "outputId": "26fa10b1-51db-44cc-c9a4-d6e2c5d157d9"
   },
   "outputs": [
    {
     "data": {
      "text/html": [
       "<div>\n",
       "<style scoped>\n",
       "    .dataframe tbody tr th:only-of-type {\n",
       "        vertical-align: middle;\n",
       "    }\n",
       "\n",
       "    .dataframe tbody tr th {\n",
       "        vertical-align: top;\n",
       "    }\n",
       "\n",
       "    .dataframe thead th {\n",
       "        text-align: right;\n",
       "    }\n",
       "</style>\n",
       "<table border=\"1\" class=\"dataframe\">\n",
       "  <thead>\n",
       "    <tr style=\"text-align: right;\">\n",
       "      <th></th>\n",
       "      <th>SEVERITYCODE</th>\n",
       "      <th>X</th>\n",
       "      <th>Y</th>\n",
       "      <th>OBJECTID</th>\n",
       "      <th>INCKEY</th>\n",
       "      <th>COLDETKEY</th>\n",
       "      <th>REPORTNO</th>\n",
       "      <th>STATUS</th>\n",
       "      <th>ADDRTYPE</th>\n",
       "      <th>INTKEY</th>\n",
       "      <th>...</th>\n",
       "      <th>ROADCOND</th>\n",
       "      <th>LIGHTCOND</th>\n",
       "      <th>PEDROWNOTGRNT</th>\n",
       "      <th>SDOTCOLNUM</th>\n",
       "      <th>SPEEDING</th>\n",
       "      <th>ST_COLCODE</th>\n",
       "      <th>ST_COLDESC</th>\n",
       "      <th>SEGLANEKEY</th>\n",
       "      <th>CROSSWALKKEY</th>\n",
       "      <th>HITPARKEDCAR</th>\n",
       "    </tr>\n",
       "  </thead>\n",
       "  <tbody>\n",
       "    <tr>\n",
       "      <th>0</th>\n",
       "      <td>2</td>\n",
       "      <td>-122.323148</td>\n",
       "      <td>47.703140</td>\n",
       "      <td>1</td>\n",
       "      <td>1307</td>\n",
       "      <td>1307</td>\n",
       "      <td>3502005</td>\n",
       "      <td>Matched</td>\n",
       "      <td>Intersection</td>\n",
       "      <td>37475.0</td>\n",
       "      <td>...</td>\n",
       "      <td>Wet</td>\n",
       "      <td>Daylight</td>\n",
       "      <td>NaN</td>\n",
       "      <td>NaN</td>\n",
       "      <td>NaN</td>\n",
       "      <td>10</td>\n",
       "      <td>Entering at angle</td>\n",
       "      <td>0</td>\n",
       "      <td>0</td>\n",
       "      <td>N</td>\n",
       "    </tr>\n",
       "    <tr>\n",
       "      <th>1</th>\n",
       "      <td>1</td>\n",
       "      <td>-122.347294</td>\n",
       "      <td>47.647172</td>\n",
       "      <td>2</td>\n",
       "      <td>52200</td>\n",
       "      <td>52200</td>\n",
       "      <td>2607959</td>\n",
       "      <td>Matched</td>\n",
       "      <td>Block</td>\n",
       "      <td>NaN</td>\n",
       "      <td>...</td>\n",
       "      <td>Wet</td>\n",
       "      <td>Dark - Street Lights On</td>\n",
       "      <td>NaN</td>\n",
       "      <td>6354039.0</td>\n",
       "      <td>NaN</td>\n",
       "      <td>11</td>\n",
       "      <td>From same direction - both going straight - bo...</td>\n",
       "      <td>0</td>\n",
       "      <td>0</td>\n",
       "      <td>N</td>\n",
       "    </tr>\n",
       "    <tr>\n",
       "      <th>2</th>\n",
       "      <td>1</td>\n",
       "      <td>-122.334540</td>\n",
       "      <td>47.607871</td>\n",
       "      <td>3</td>\n",
       "      <td>26700</td>\n",
       "      <td>26700</td>\n",
       "      <td>1482393</td>\n",
       "      <td>Matched</td>\n",
       "      <td>Block</td>\n",
       "      <td>NaN</td>\n",
       "      <td>...</td>\n",
       "      <td>Dry</td>\n",
       "      <td>Daylight</td>\n",
       "      <td>NaN</td>\n",
       "      <td>4323031.0</td>\n",
       "      <td>NaN</td>\n",
       "      <td>32</td>\n",
       "      <td>One parked--one moving</td>\n",
       "      <td>0</td>\n",
       "      <td>0</td>\n",
       "      <td>N</td>\n",
       "    </tr>\n",
       "    <tr>\n",
       "      <th>3</th>\n",
       "      <td>1</td>\n",
       "      <td>-122.334803</td>\n",
       "      <td>47.604803</td>\n",
       "      <td>4</td>\n",
       "      <td>1144</td>\n",
       "      <td>1144</td>\n",
       "      <td>3503937</td>\n",
       "      <td>Matched</td>\n",
       "      <td>Block</td>\n",
       "      <td>NaN</td>\n",
       "      <td>...</td>\n",
       "      <td>Dry</td>\n",
       "      <td>Daylight</td>\n",
       "      <td>NaN</td>\n",
       "      <td>NaN</td>\n",
       "      <td>NaN</td>\n",
       "      <td>23</td>\n",
       "      <td>From same direction - all others</td>\n",
       "      <td>0</td>\n",
       "      <td>0</td>\n",
       "      <td>N</td>\n",
       "    </tr>\n",
       "    <tr>\n",
       "      <th>4</th>\n",
       "      <td>2</td>\n",
       "      <td>-122.306426</td>\n",
       "      <td>47.545739</td>\n",
       "      <td>5</td>\n",
       "      <td>17700</td>\n",
       "      <td>17700</td>\n",
       "      <td>1807429</td>\n",
       "      <td>Matched</td>\n",
       "      <td>Intersection</td>\n",
       "      <td>34387.0</td>\n",
       "      <td>...</td>\n",
       "      <td>Wet</td>\n",
       "      <td>Daylight</td>\n",
       "      <td>NaN</td>\n",
       "      <td>4028032.0</td>\n",
       "      <td>NaN</td>\n",
       "      <td>10</td>\n",
       "      <td>Entering at angle</td>\n",
       "      <td>0</td>\n",
       "      <td>0</td>\n",
       "      <td>N</td>\n",
       "    </tr>\n",
       "  </tbody>\n",
       "</table>\n",
       "<p>5 rows × 38 columns</p>\n",
       "</div>"
      ],
      "text/plain": [
       "   SEVERITYCODE           X          Y  OBJECTID  INCKEY  COLDETKEY REPORTNO  \\\n",
       "0             2 -122.323148  47.703140         1    1307       1307  3502005   \n",
       "1             1 -122.347294  47.647172         2   52200      52200  2607959   \n",
       "2             1 -122.334540  47.607871         3   26700      26700  1482393   \n",
       "3             1 -122.334803  47.604803         4    1144       1144  3503937   \n",
       "4             2 -122.306426  47.545739         5   17700      17700  1807429   \n",
       "\n",
       "    STATUS      ADDRTYPE   INTKEY  ... ROADCOND                LIGHTCOND  \\\n",
       "0  Matched  Intersection  37475.0  ...      Wet                 Daylight   \n",
       "1  Matched         Block      NaN  ...      Wet  Dark - Street Lights On   \n",
       "2  Matched         Block      NaN  ...      Dry                 Daylight   \n",
       "3  Matched         Block      NaN  ...      Dry                 Daylight   \n",
       "4  Matched  Intersection  34387.0  ...      Wet                 Daylight   \n",
       "\n",
       "  PEDROWNOTGRNT  SDOTCOLNUM SPEEDING ST_COLCODE  \\\n",
       "0           NaN         NaN      NaN         10   \n",
       "1           NaN   6354039.0      NaN         11   \n",
       "2           NaN   4323031.0      NaN         32   \n",
       "3           NaN         NaN      NaN         23   \n",
       "4           NaN   4028032.0      NaN         10   \n",
       "\n",
       "                                          ST_COLDESC  SEGLANEKEY  \\\n",
       "0                                  Entering at angle           0   \n",
       "1  From same direction - both going straight - bo...           0   \n",
       "2                             One parked--one moving           0   \n",
       "3                   From same direction - all others           0   \n",
       "4                                  Entering at angle           0   \n",
       "\n",
       "   CROSSWALKKEY  HITPARKEDCAR  \n",
       "0             0             N  \n",
       "1             0             N  \n",
       "2             0             N  \n",
       "3             0             N  \n",
       "4             0             N  \n",
       "\n",
       "[5 rows x 38 columns]"
      ]
     },
     "execution_count": 7,
     "metadata": {},
     "output_type": "execute_result"
    }
   ],
   "source": [
    "coll_df.head()"
   ]
  },
  {
   "cell_type": "code",
   "execution_count": 8,
   "metadata": {
    "colab": {
     "base_uri": "https://localhost:8080/"
    },
    "id": "xDw3EbtWF3vm",
    "outputId": "373f6394-1694-4cdc-c5c9-a7731d365a24"
   },
   "outputs": [
    {
     "data": {
      "text/plain": [
       "Index(['SEVERITYCODE', 'X', 'Y', 'OBJECTID', 'INCKEY', 'COLDETKEY', 'REPORTNO',\n",
       "       'STATUS', 'ADDRTYPE', 'INTKEY', 'LOCATION', 'EXCEPTRSNCODE',\n",
       "       'EXCEPTRSNDESC', 'SEVERITYCODE.1', 'SEVERITYDESC', 'COLLISIONTYPE',\n",
       "       'PERSONCOUNT', 'PEDCOUNT', 'PEDCYLCOUNT', 'VEHCOUNT', 'INCDATE',\n",
       "       'INCDTTM', 'JUNCTIONTYPE', 'SDOT_COLCODE', 'SDOT_COLDESC',\n",
       "       'INATTENTIONIND', 'UNDERINFL', 'WEATHER', 'ROADCOND', 'LIGHTCOND',\n",
       "       'PEDROWNOTGRNT', 'SDOTCOLNUM', 'SPEEDING', 'ST_COLCODE', 'ST_COLDESC',\n",
       "       'SEGLANEKEY', 'CROSSWALKKEY', 'HITPARKEDCAR'],\n",
       "      dtype='object')"
      ]
     },
     "execution_count": 8,
     "metadata": {},
     "output_type": "execute_result"
    }
   ],
   "source": [
    "coll_df.columns"
   ]
  },
  {
   "cell_type": "markdown",
   "metadata": {
    "id": "mD0t3zVWF3vp"
   },
   "source": [
    "We create a dictionary that contains the description of each feature in order to have a better idea of what each predictor/label means. To do so, we use the metadata associated with this dataset."
   ]
  },
  {
   "cell_type": "code",
   "execution_count": 9,
   "metadata": {
    "id": "coxN3qBJF3vp"
   },
   "outputs": [],
   "source": [
    "coll_dict = {\n",
    "    \"SEVERITYCODE\": \"A code that corresponds to the severity of the collision 3-fatality, 2b-serious injury, 2-injury, 1-prop damage, 0-unknown\", \n",
    "    \"X\": \"X location of accident (lat)\", \n",
    "    \"Y\": \"Y location of accident (long)\",\n",
    "    \"OBJECTID\": \"ESRI unique identifier\", \n",
    "    \"INCKEY\": \"A unique key for the incident\", \n",
    "    \"COLDETKEY\": \"Secondary key for the incident\",\n",
    "    \"REPORTNO\": \"Number of report (?)\", \n",
    "    \"STATUS\": \"Status of report (?)\",\n",
    "    \"ADDRTYPE\": \"Collision address type: Alley, Block, Intersection\", \n",
    "    \"INTKEY\": \"Key that corresponds to the intersection associated with a collision\", \n",
    "    \"LOCATION\": \"Description of the general location of the collision\",\n",
    "    \"EXCEPTRSNCODE\": \"\", \n",
    "    \"EXCEPTRSNDESC\": \"\", \n",
    "    \"SEVERITYCODE.1\": \"\",\n",
    "    \"SEVERITYDESC\": \"A detailed description of the severity of the collision\", \n",
    "    \"COLLISIONTYPE\": \"Collision type\", \n",
    "    \"PERSONCOUNT\": \"The total number of people involved in the collision\",\n",
    "    \"PEDCOUNT\": \"The number of pedestrians involved in the collision. This is entered by the state.\", \n",
    "    \"PEDCYLCOUNT\": \"The number of bicycles involved in the collision. This is entered by the state.\", \n",
    "    \"VEHCOUNT\": \"The number of vehicles involved in the collision. This is entered by the state.\",\n",
    "    \"INCDATE\": \"The date of the incident\", \n",
    "    \"INCDTTM\": \"The date and time of the incident\", \n",
    "    \"JUNCTIONTYPE\": \"Category of junction at which collision took place\",\n",
    "    \"SDOT_COLCODE\": \"A code given to the collision by SDOT\", \n",
    "    \"SDOT_COLDESC\": \"A description of the collision corresponding to the collision code\", \n",
    "    \"INATTENTIONIND\": \"Whether or not collision was due to inattention (Y/N)\",\n",
    "    \"UNDERINFL\": \"Whether or not a driver involved was under the influence of drugs or alcohol\", \n",
    "    \"WEATHER\": \"A description of the weather conditions during the time of the collision\", \n",
    "    \"ROADCOND\": \"The condition of the road during the collision\",\n",
    "    \"LIGHTCOND\": \"The light conditions during the collision\", \n",
    "    \"PEDROWNOTGRNT\": \"Whether or not the pedestrian right of way was not granted (Y/N)\", \n",
    "    \"SDOTCOLNUM\": \"A number given to the collision by SDOT\",\n",
    "    \"SPEEDING\": \"Whether or not speeding was a factor in the collision (Y/N)\", \n",
    "    \"ST_COLCODE\": \"State-defined collision code\", \n",
    "    \"ST_COLDESC\": \"A description taht corresponds to the state's coding designation\",\n",
    "    \"SEGLANEKEY\": \"A key for the lane segment in which the collision occurred\",\n",
    "    \"CROSSWALKKEY\" : \"A key for the crosswalk at which the collision occurred\",\n",
    "    \"HITPARKEDCAR\" : \"Whether or not the collision in volved hitting a parked car (Y/N)\" \n",
    "}\n"
   ]
  },
  {
   "cell_type": "markdown",
   "metadata": {
    "id": "lO_6_WuBF3vt"
   },
   "source": [
    "From these preliminaries we can already see a potential grouping of features of the dataset:\n",
    "- location -> X, Y, ADDRTYPE, LOCATION, JUNCTIONTYPE;\n",
    "- date/time - season too -> INCDATE, INCDTTM;\n",
    "- collision type -> SEVERITYDESC, COLLISIONTYPE, SDOT_COLCODE, SDOT_COLDESC\n",
    "- collision causes and circumstances (including weather, road and light conditions) -> INATTENTIONIND, UNDERINFL, PEDROWNOTGRNT, SPEEDING, HITPARKEDCAR,WEATHER, ROADCOND, LIGHTCOND;\n",
    "- number of pedestrian, vehicle, bicycles involved -> PERSONCOUNT, PEDCOUNT, PEDCYLCOUNT, VEHCOUNT.\n",
    "\n",
    "## 3.a.1 - Location\n",
    "\n",
    "So we start by looking at the first group of features: __location__. We do so by creating a location dataframe: loc_df."
   ]
  },
  {
   "cell_type": "code",
   "execution_count": 10,
   "metadata": {
    "colab": {
     "base_uri": "https://localhost:8080/",
     "height": 206
    },
    "id": "FXCn7kVUF3vu",
    "outputId": "4a8818df-3291-4ac7-e80b-ce5b91b89a24"
   },
   "outputs": [
    {
     "data": {
      "text/html": [
       "<div>\n",
       "<style scoped>\n",
       "    .dataframe tbody tr th:only-of-type {\n",
       "        vertical-align: middle;\n",
       "    }\n",
       "\n",
       "    .dataframe tbody tr th {\n",
       "        vertical-align: top;\n",
       "    }\n",
       "\n",
       "    .dataframe thead th {\n",
       "        text-align: right;\n",
       "    }\n",
       "</style>\n",
       "<table border=\"1\" class=\"dataframe\">\n",
       "  <thead>\n",
       "    <tr style=\"text-align: right;\">\n",
       "      <th></th>\n",
       "      <th>SEVERITYCODE</th>\n",
       "      <th>X</th>\n",
       "      <th>Y</th>\n",
       "      <th>ADDRTYPE</th>\n",
       "      <th>LOCATION</th>\n",
       "      <th>JUNCTIONTYPE</th>\n",
       "    </tr>\n",
       "  </thead>\n",
       "  <tbody>\n",
       "    <tr>\n",
       "      <th>0</th>\n",
       "      <td>2</td>\n",
       "      <td>-122.323148</td>\n",
       "      <td>47.703140</td>\n",
       "      <td>Intersection</td>\n",
       "      <td>5TH AVE NE AND NE 103RD ST</td>\n",
       "      <td>At Intersection (intersection related)</td>\n",
       "    </tr>\n",
       "    <tr>\n",
       "      <th>1</th>\n",
       "      <td>1</td>\n",
       "      <td>-122.347294</td>\n",
       "      <td>47.647172</td>\n",
       "      <td>Block</td>\n",
       "      <td>AURORA BR BETWEEN RAYE ST AND BRIDGE WAY N</td>\n",
       "      <td>Mid-Block (not related to intersection)</td>\n",
       "    </tr>\n",
       "    <tr>\n",
       "      <th>2</th>\n",
       "      <td>1</td>\n",
       "      <td>-122.334540</td>\n",
       "      <td>47.607871</td>\n",
       "      <td>Block</td>\n",
       "      <td>4TH AVE BETWEEN SENECA ST AND UNIVERSITY ST</td>\n",
       "      <td>Mid-Block (not related to intersection)</td>\n",
       "    </tr>\n",
       "    <tr>\n",
       "      <th>3</th>\n",
       "      <td>1</td>\n",
       "      <td>-122.334803</td>\n",
       "      <td>47.604803</td>\n",
       "      <td>Block</td>\n",
       "      <td>2ND AVE BETWEEN MARION ST AND MADISON ST</td>\n",
       "      <td>Mid-Block (not related to intersection)</td>\n",
       "    </tr>\n",
       "    <tr>\n",
       "      <th>4</th>\n",
       "      <td>2</td>\n",
       "      <td>-122.306426</td>\n",
       "      <td>47.545739</td>\n",
       "      <td>Intersection</td>\n",
       "      <td>SWIFT AVE S AND SWIFT AV OFF RP</td>\n",
       "      <td>At Intersection (intersection related)</td>\n",
       "    </tr>\n",
       "  </tbody>\n",
       "</table>\n",
       "</div>"
      ],
      "text/plain": [
       "   SEVERITYCODE           X          Y      ADDRTYPE  \\\n",
       "0             2 -122.323148  47.703140  Intersection   \n",
       "1             1 -122.347294  47.647172         Block   \n",
       "2             1 -122.334540  47.607871         Block   \n",
       "3             1 -122.334803  47.604803         Block   \n",
       "4             2 -122.306426  47.545739  Intersection   \n",
       "\n",
       "                                      LOCATION  \\\n",
       "0                   5TH AVE NE AND NE 103RD ST   \n",
       "1   AURORA BR BETWEEN RAYE ST AND BRIDGE WAY N   \n",
       "2  4TH AVE BETWEEN SENECA ST AND UNIVERSITY ST   \n",
       "3     2ND AVE BETWEEN MARION ST AND MADISON ST   \n",
       "4              SWIFT AVE S AND SWIFT AV OFF RP   \n",
       "\n",
       "                              JUNCTIONTYPE  \n",
       "0   At Intersection (intersection related)  \n",
       "1  Mid-Block (not related to intersection)  \n",
       "2  Mid-Block (not related to intersection)  \n",
       "3  Mid-Block (not related to intersection)  \n",
       "4   At Intersection (intersection related)  "
      ]
     },
     "execution_count": 10,
     "metadata": {},
     "output_type": "execute_result"
    }
   ],
   "source": [
    "loc_df = coll_df[['SEVERITYCODE','X','Y','ADDRTYPE','LOCATION','JUNCTIONTYPE']]\n",
    "loc_df.head()"
   ]
  },
  {
   "cell_type": "markdown",
   "metadata": {
    "id": "j4qcTYiEF3vx"
   },
   "source": [
    "We can have a look at the number of occurrences for each severity code based on ADDRTYPE and JUNCTIONTYPE to understand whether accidents occurred in some particular location rather than others."
   ]
  },
  {
   "cell_type": "code",
   "execution_count": 11,
   "metadata": {
    "colab": {
     "base_uri": "https://localhost:8080/",
     "height": 558
    },
    "id": "zcjIb_SfF3vx",
    "outputId": "0731f362-0c96-49c2-dc9e-4ef78ee43806"
   },
   "outputs": [
    {
     "data": {
      "image/png": "[encoded data removed]",
      "text/plain": [
       "<Figure size 1080x360 with 2 Axes>"
      ]
     },
     "metadata": {
      "needs_background": "light"
     },
     "output_type": "display_data"
    }
   ],
   "source": [
    "figure, (ax1, ax2) = plt.subplots(1, 2, figsize=(15, 5));\n",
    "# figure.tight_layout()\n",
    "plt.subplots_adjust(wspace=0.4)\n",
    "\n",
    "pd.crosstab(loc_df['JUNCTIONTYPE'],loc_df['SEVERITYCODE'] ).plot(kind='bar', stacked=True,ax=ax1);\n",
    "pd.crosstab(loc_df['ADDRTYPE'],loc_df['SEVERITYCODE'] ).plot(kind='bar', stacked=True,ax=ax2);"
   ]
  },
  {
   "cell_type": "markdown",
   "metadata": {
    "id": "oLMcLNCJF3v0"
   },
   "source": [
    "From this first 2 plots we can observe that: \n",
    "- almost no accidents are occurring at ramp junction or at intersections (but not related to intersections)\n",
    "- the majority of the accidents are either happening at intersection (intersection related) or at mid-block but not related to intersections\n",
    "- of these two, the accidents happening at intersection (intersection related) are split half-half in terms of severity while for the mid-block related accidents the majority of the accidents are of severity 1\n",
    "- when accidents are occurring at intersection, the severity is split between 1 and 2 almost equally in terms of occurrences while the type of accidents occurring at \"block\" are dominated by severity 1 accidents.\n",
    "\n",
    "We can also have a look at the statistics of the loc_df database and observe where the mean location of accidents is within Seattle. Using the standard deviation along the x and y axes (i.e. longitude and latitude) we can draw a square around this mean location which could represent a rough estimation of the area where accidents occurred between 2004 and 2020."
   ]
  },
  {
   "cell_type": "code",
   "execution_count": 12,
   "metadata": {
    "id": "kOFqYrx9F3v1"
   },
   "outputs": [],
   "source": [
    "X_std = loc_df.X.std()\n",
    "X_mean = loc_df.X.mean()\n",
    "Y_std = loc_df.Y.std()\n",
    "Y_mean = loc_df.Y.mean()"
   ]
  },
  {
   "cell_type": "code",
   "execution_count": 13,
   "metadata": {
    "colab": {
     "base_uri": "https://localhost:8080/",
     "height": 719
    },
    "id": "2XM09PDuF3v3",
    "outputId": "ef795985-fe3c-4bfe-ed57-f6b9ce5d0d35"
   },
   "outputs": [
    {
     "data": {
      "text/html": [
       "<div style=\"width:100%;\"><div style=\"position:relative;width:100%;height:0;padding-bottom:60%;\"><span style=\"color:#565656\">Make this Notebook Trusted to load map: File -> Trust Notebook</span><iframe src=\"about:blank\" style=\"position:absolute;width:100%;height:100%;left:0;top:0;border:none !important;\" data-html=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 onload=\"this.contentDocument.open();this.contentDocument.write(atob(this.getAttribute('data-html')));this.contentDocument.close();\" allowfullscreen webkitallowfullscreen mozallowfullscreen></iframe></div></div>"
      ],
      "text/plain": [
       "<folium.folium.Map at 0x16f560e7df0>"
      ]
     },
     "execution_count": 13,
     "metadata": {},
     "output_type": "execute_result"
    }
   ],
   "source": [
    "# define the world map centered around Canada with a low zoom level\n",
    "seattle = folium.Map(location=[Y_mean, X_mean], zoom_start=12)\n",
    "folium.Marker([Y_mean, X_mean]).add_to(seattle)\n",
    "# now I define the square of the box that should contain > 95% of collisions\n",
    "points=[[Y_mean+Y_std,X_mean-X_std],[Y_std+Y_mean,X_mean+X_std],[Y_mean-Y_std,X_mean+X_std],[Y_mean-Y_std,X_mean-X_std],[Y_mean+Y_std,X_mean-X_std]]\n",
    "folium.PolyLine(points,color=\"red\", weight=2.5, opacity=1).add_to(seattle)\n",
    "seattle"
   ]
  },
  {
   "cell_type": "markdown",
   "metadata": {
    "id": "WcmCUW6SF3v5"
   },
   "source": [
    "## 3.a.2 Date/time\n",
    "\n",
    "Now we move on to analysing the __date/time__ group of features, i.e. INCDATE, INCDTTM. We create a new dataframe called time_df."
   ]
  },
  {
   "cell_type": "code",
   "execution_count": 14,
   "metadata": {
    "colab": {
     "base_uri": "https://localhost:8080/",
     "height": 206
    },
    "id": "ilP6vcG5F3v6",
    "outputId": "04153a22-0cbc-469a-a7f7-f07114670df8"
   },
   "outputs": [
    {
     "data": {
      "text/html": [
       "<div>\n",
       "<style scoped>\n",
       "    .dataframe tbody tr th:only-of-type {\n",
       "        vertical-align: middle;\n",
       "    }\n",
       "\n",
       "    .dataframe tbody tr th {\n",
       "        vertical-align: top;\n",
       "    }\n",
       "\n",
       "    .dataframe thead th {\n",
       "        text-align: right;\n",
       "    }\n",
       "</style>\n",
       "<table border=\"1\" class=\"dataframe\">\n",
       "  <thead>\n",
       "    <tr style=\"text-align: right;\">\n",
       "      <th></th>\n",
       "      <th>SEVERITYCODE</th>\n",
       "      <th>INCDATE</th>\n",
       "      <th>INCDTTM</th>\n",
       "    </tr>\n",
       "  </thead>\n",
       "  <tbody>\n",
       "    <tr>\n",
       "      <th>0</th>\n",
       "      <td>2</td>\n",
       "      <td>2013/03/27 00:00:00+00</td>\n",
       "      <td>3/27/2013 2:54:00 PM</td>\n",
       "    </tr>\n",
       "    <tr>\n",
       "      <th>1</th>\n",
       "      <td>1</td>\n",
       "      <td>2006/12/20 00:00:00+00</td>\n",
       "      <td>12/20/2006 6:55:00 PM</td>\n",
       "    </tr>\n",
       "    <tr>\n",
       "      <th>2</th>\n",
       "      <td>1</td>\n",
       "      <td>2004/11/18 00:00:00+00</td>\n",
       "      <td>11/18/2004 10:20:00 AM</td>\n",
       "    </tr>\n",
       "    <tr>\n",
       "      <th>3</th>\n",
       "      <td>1</td>\n",
       "      <td>2013/03/29 00:00:00+00</td>\n",
       "      <td>3/29/2013 9:26:00 AM</td>\n",
       "    </tr>\n",
       "    <tr>\n",
       "      <th>4</th>\n",
       "      <td>2</td>\n",
       "      <td>2004/01/28 00:00:00+00</td>\n",
       "      <td>1/28/2004 8:04:00 AM</td>\n",
       "    </tr>\n",
       "  </tbody>\n",
       "</table>\n",
       "</div>"
      ],
      "text/plain": [
       "   SEVERITYCODE                 INCDATE                 INCDTTM\n",
       "0             2  2013/03/27 00:00:00+00    3/27/2013 2:54:00 PM\n",
       "1             1  2006/12/20 00:00:00+00   12/20/2006 6:55:00 PM\n",
       "2             1  2004/11/18 00:00:00+00  11/18/2004 10:20:00 AM\n",
       "3             1  2013/03/29 00:00:00+00    3/29/2013 9:26:00 AM\n",
       "4             2  2004/01/28 00:00:00+00    1/28/2004 8:04:00 AM"
      ]
     },
     "execution_count": 14,
     "metadata": {},
     "output_type": "execute_result"
    }
   ],
   "source": [
    "time_df = coll_df[['SEVERITYCODE','INCDATE','INCDTTM']]\n",
    "time_df.head()"
   ]
  },
  {
   "cell_type": "markdown",
   "metadata": {
    "id": "rmdhp1w6F3v9"
   },
   "source": [
    "We notice already that INCDATE is superficial, so we can drop it, split the INCDTTM in year, month, day, hours, minutes, seconds"
   ]
  },
  {
   "cell_type": "code",
   "execution_count": 15,
   "metadata": {
    "id": "5jfS499aF3v9"
   },
   "outputs": [],
   "source": [
    "import datetime"
   ]
  },
  {
   "cell_type": "code",
   "execution_count": 16,
   "metadata": {
    "id": "xvIRL_akF3wB"
   },
   "outputs": [],
   "source": [
    "time_df['INCDTTM'] =  pd.to_datetime(time_df['INCDTTM'], infer_datetime_format=True)\n",
    "time_df['Time'] = [datetime.datetime.time(d) for d in time_df['INCDTTM']] \n",
    "time_df['Date'] = [datetime.datetime.date(d) for d in time_df['INCDTTM']]\n",
    "time_df['Year'] = [datetime.datetime.date(d).year for d in time_df['INCDTTM']] \n",
    "time_df['Month'] = [datetime.datetime.date(d).month for d in time_df['INCDTTM']] \n",
    "time_df['Day'] = [datetime.datetime.date(d).day for d in time_df['INCDTTM']] \n",
    "time_df['Hours'] = [datetime.datetime.time(d).hour for d in time_df['INCDTTM']] \n",
    "time_df['Minutes'] = [datetime.datetime.time(d).minute for d in time_df['INCDTTM']] \n",
    "time_df['Seconds'] = [datetime.datetime.time(d).second for d in time_df['INCDTTM']]\n",
    "time_df = time_df.drop(columns = ['INCDATE'])"
   ]
  },
  {
   "cell_type": "code",
   "execution_count": 17,
   "metadata": {
    "colab": {
     "base_uri": "https://localhost:8080/",
     "height": 206
    },
    "id": "sdObpev0F3wE",
    "outputId": "75623362-b810-435d-b774-1c14c7f66064"
   },
   "outputs": [
    {
     "data": {
      "text/html": [
       "<div>\n",
       "<style scoped>\n",
       "    .dataframe tbody tr th:only-of-type {\n",
       "        vertical-align: middle;\n",
       "    }\n",
       "\n",
       "    .dataframe tbody tr th {\n",
       "        vertical-align: top;\n",
       "    }\n",
       "\n",
       "    .dataframe thead th {\n",
       "        text-align: right;\n",
       "    }\n",
       "</style>\n",
       "<table border=\"1\" class=\"dataframe\">\n",
       "  <thead>\n",
       "    <tr style=\"text-align: right;\">\n",
       "      <th></th>\n",
       "      <th>SEVERITYCODE</th>\n",
       "      <th>INCDTTM</th>\n",
       "      <th>Time</th>\n",
       "      <th>Date</th>\n",
       "      <th>Year</th>\n",
       "      <th>Month</th>\n",
       "      <th>Day</th>\n",
       "      <th>Hours</th>\n",
       "      <th>Minutes</th>\n",
       "      <th>Seconds</th>\n",
       "    </tr>\n",
       "  </thead>\n",
       "  <tbody>\n",
       "    <tr>\n",
       "      <th>0</th>\n",
       "      <td>2</td>\n",
       "      <td>2013-03-27 14:54:00</td>\n",
       "      <td>14:54:00</td>\n",
       "      <td>2013-03-27</td>\n",
       "      <td>2013</td>\n",
       "      <td>3</td>\n",
       "      <td>27</td>\n",
       "      <td>14</td>\n",
       "      <td>54</td>\n",
       "      <td>0</td>\n",
       "    </tr>\n",
       "    <tr>\n",
       "      <th>1</th>\n",
       "      <td>1</td>\n",
       "      <td>2006-12-20 18:55:00</td>\n",
       "      <td>18:55:00</td>\n",
       "      <td>2006-12-20</td>\n",
       "      <td>2006</td>\n",
       "      <td>12</td>\n",
       "      <td>20</td>\n",
       "      <td>18</td>\n",
       "      <td>55</td>\n",
       "      <td>0</td>\n",
       "    </tr>\n",
       "    <tr>\n",
       "      <th>2</th>\n",
       "      <td>1</td>\n",
       "      <td>2004-11-18 10:20:00</td>\n",
       "      <td>10:20:00</td>\n",
       "      <td>2004-11-18</td>\n",
       "      <td>2004</td>\n",
       "      <td>11</td>\n",
       "      <td>18</td>\n",
       "      <td>10</td>\n",
       "      <td>20</td>\n",
       "      <td>0</td>\n",
       "    </tr>\n",
       "    <tr>\n",
       "      <th>3</th>\n",
       "      <td>1</td>\n",
       "      <td>2013-03-29 09:26:00</td>\n",
       "      <td>09:26:00</td>\n",
       "      <td>2013-03-29</td>\n",
       "      <td>2013</td>\n",
       "      <td>3</td>\n",
       "      <td>29</td>\n",
       "      <td>9</td>\n",
       "      <td>26</td>\n",
       "      <td>0</td>\n",
       "    </tr>\n",
       "    <tr>\n",
       "      <th>4</th>\n",
       "      <td>2</td>\n",
       "      <td>2004-01-28 08:04:00</td>\n",
       "      <td>08:04:00</td>\n",
       "      <td>2004-01-28</td>\n",
       "      <td>2004</td>\n",
       "      <td>1</td>\n",
       "      <td>28</td>\n",
       "      <td>8</td>\n",
       "      <td>4</td>\n",
       "      <td>0</td>\n",
       "    </tr>\n",
       "  </tbody>\n",
       "</table>\n",
       "</div>"
      ],
      "text/plain": [
       "   SEVERITYCODE             INCDTTM      Time        Date  Year  Month  Day  \\\n",
       "0             2 2013-03-27 14:54:00  14:54:00  2013-03-27  2013      3   27   \n",
       "1             1 2006-12-20 18:55:00  18:55:00  2006-12-20  2006     12   20   \n",
       "2             1 2004-11-18 10:20:00  10:20:00  2004-11-18  2004     11   18   \n",
       "3             1 2013-03-29 09:26:00  09:26:00  2013-03-29  2013      3   29   \n",
       "4             2 2004-01-28 08:04:00  08:04:00  2004-01-28  2004      1   28   \n",
       "\n",
       "   Hours  Minutes  Seconds  \n",
       "0     14       54        0  \n",
       "1     18       55        0  \n",
       "2     10       20        0  \n",
       "3      9       26        0  \n",
       "4      8        4        0  "
      ]
     },
     "execution_count": 17,
     "metadata": {},
     "output_type": "execute_result"
    }
   ],
   "source": [
    "time_df.head()"
   ]
  },
  {
   "cell_type": "markdown",
   "metadata": {
    "id": "Maw3q4bUF3wH"
   },
   "source": [
    "We perform a One Hot Encoding operation to convert the SEVERITYCODE feature into columns \"Severity = 1\" and \"Severity = 2\""
   ]
  },
  {
   "cell_type": "code",
   "execution_count": 18,
   "metadata": {
    "colab": {
     "base_uri": "https://localhost:8080/",
     "height": 206
    },
    "id": "NKcTg3f6F3wH",
    "outputId": "475fd5b6-05c0-4ae8-ba59-e52d8d625102"
   },
   "outputs": [
    {
     "data": {
      "text/html": [
       "<div>\n",
       "<style scoped>\n",
       "    .dataframe tbody tr th:only-of-type {\n",
       "        vertical-align: middle;\n",
       "    }\n",
       "\n",
       "    .dataframe tbody tr th {\n",
       "        vertical-align: top;\n",
       "    }\n",
       "\n",
       "    .dataframe thead th {\n",
       "        text-align: right;\n",
       "    }\n",
       "</style>\n",
       "<table border=\"1\" class=\"dataframe\">\n",
       "  <thead>\n",
       "    <tr style=\"text-align: right;\">\n",
       "      <th></th>\n",
       "      <th>SEVERITYCODE</th>\n",
       "      <th>INCDTTM</th>\n",
       "      <th>Time</th>\n",
       "      <th>Date</th>\n",
       "      <th>Year</th>\n",
       "      <th>Month</th>\n",
       "      <th>Day</th>\n",
       "      <th>Hours</th>\n",
       "      <th>Minutes</th>\n",
       "      <th>Seconds</th>\n",
       "      <th>Severity = 1</th>\n",
       "      <th>Severity = 2</th>\n",
       "    </tr>\n",
       "  </thead>\n",
       "  <tbody>\n",
       "    <tr>\n",
       "      <th>0</th>\n",
       "      <td>2</td>\n",
       "      <td>2013-03-27 14:54:00</td>\n",
       "      <td>14:54:00</td>\n",
       "      <td>2013-03-27</td>\n",
       "      <td>2013</td>\n",
       "      <td>3</td>\n",
       "      <td>27</td>\n",
       "      <td>14</td>\n",
       "      <td>54</td>\n",
       "      <td>0</td>\n",
       "      <td>0</td>\n",
       "      <td>1</td>\n",
       "    </tr>\n",
       "    <tr>\n",
       "      <th>1</th>\n",
       "      <td>1</td>\n",
       "      <td>2006-12-20 18:55:00</td>\n",
       "      <td>18:55:00</td>\n",
       "      <td>2006-12-20</td>\n",
       "      <td>2006</td>\n",
       "      <td>12</td>\n",
       "      <td>20</td>\n",
       "      <td>18</td>\n",
       "      <td>55</td>\n",
       "      <td>0</td>\n",
       "      <td>1</td>\n",
       "      <td>0</td>\n",
       "    </tr>\n",
       "    <tr>\n",
       "      <th>2</th>\n",
       "      <td>1</td>\n",
       "      <td>2004-11-18 10:20:00</td>\n",
       "      <td>10:20:00</td>\n",
       "      <td>2004-11-18</td>\n",
       "      <td>2004</td>\n",
       "      <td>11</td>\n",
       "      <td>18</td>\n",
       "      <td>10</td>\n",
       "      <td>20</td>\n",
       "      <td>0</td>\n",
       "      <td>1</td>\n",
       "      <td>0</td>\n",
       "    </tr>\n",
       "    <tr>\n",
       "      <th>3</th>\n",
       "      <td>1</td>\n",
       "      <td>2013-03-29 09:26:00</td>\n",
       "      <td>09:26:00</td>\n",
       "      <td>2013-03-29</td>\n",
       "      <td>2013</td>\n",
       "      <td>3</td>\n",
       "      <td>29</td>\n",
       "      <td>9</td>\n",
       "      <td>26</td>\n",
       "      <td>0</td>\n",
       "      <td>1</td>\n",
       "      <td>0</td>\n",
       "    </tr>\n",
       "    <tr>\n",
       "      <th>4</th>\n",
       "      <td>2</td>\n",
       "      <td>2004-01-28 08:04:00</td>\n",
       "      <td>08:04:00</td>\n",
       "      <td>2004-01-28</td>\n",
       "      <td>2004</td>\n",
       "      <td>1</td>\n",
       "      <td>28</td>\n",
       "      <td>8</td>\n",
       "      <td>4</td>\n",
       "      <td>0</td>\n",
       "      <td>0</td>\n",
       "      <td>1</td>\n",
       "    </tr>\n",
       "  </tbody>\n",
       "</table>\n",
       "</div>"
      ],
      "text/plain": [
       "   SEVERITYCODE             INCDTTM      Time        Date  Year  Month  Day  \\\n",
       "0             2 2013-03-27 14:54:00  14:54:00  2013-03-27  2013      3   27   \n",
       "1             1 2006-12-20 18:55:00  18:55:00  2006-12-20  2006     12   20   \n",
       "2             1 2004-11-18 10:20:00  10:20:00  2004-11-18  2004     11   18   \n",
       "3             1 2013-03-29 09:26:00  09:26:00  2013-03-29  2013      3   29   \n",
       "4             2 2004-01-28 08:04:00  08:04:00  2004-01-28  2004      1   28   \n",
       "\n",
       "   Hours  Minutes  Seconds  Severity = 1  Severity = 2  \n",
       "0     14       54        0             0             1  \n",
       "1     18       55        0             1             0  \n",
       "2     10       20        0             1             0  \n",
       "3      9       26        0             1             0  \n",
       "4      8        4        0             0             1  "
      ]
     },
     "execution_count": 18,
     "metadata": {},
     "output_type": "execute_result"
    }
   ],
   "source": [
    "time_df['Severity = 1']= time_df['SEVERITYCODE'].apply(lambda x: 1 if (x<2)  else 0)\n",
    "time_df['Severity = 2']= time_df['SEVERITYCODE'].apply(lambda x: 1 if (x>=2)  else 0)\n",
    "time_df.head()\n",
    "#Alternative method using pd.get_dummies:\n",
    "#time_df = pd.merge(time_df, pd.get_dummies(time_df.SEVERITYCODE),left_index=True, right_index=True)"
   ]
  },
  {
   "cell_type": "markdown",
   "metadata": {
    "id": "7NlTnLiaF3wK"
   },
   "source": [
    "We now look at the average number of collisions per month averaged between 2004 and 2020 to see if there are any obvious spikes or odd behaviours - this is shown as percentage of Severity 1 and percentage of Severity 2 accidents."
   ]
  },
  {
   "cell_type": "code",
   "execution_count": 19,
   "metadata": {
    "colab": {
     "base_uri": "https://localhost:8080/",
     "height": 497
    },
    "id": "1rqljGOEF3wL",
    "outputId": "c5aeac33-2c56-46c6-f30a-dacddcee9b0f"
   },
   "outputs": [
    {
     "data": {
      "image/png": "[encoded data removed]",
      "text/plain": [
       "<Figure size 1080x576 with 2 Axes>"
      ]
     },
     "metadata": {
      "needs_background": "light"
     },
     "output_type": "display_data"
    }
   ],
   "source": [
    "monthly_average = time_df.groupby(['Month'])['Severity = 1','Severity = 2'].sum()/(17*12)\n",
    "monthly_average = monthly_average.reset_index()\n",
    "monthly_average.head()\n",
    "\n",
    "from matplotlib.pyplot import figure;\n",
    "\n",
    "monthly_average['% Sev 1'] = 100*monthly_average['Severity = 1'] / (monthly_average['Severity = 1']+monthly_average['Severity = 2'])\n",
    "monthly_average['% Sev 2'] = 100*monthly_average['Severity = 2'] / (monthly_average['Severity = 1']+monthly_average['Severity = 2'])\n",
    "\n",
    "plt.figure(figsize=(15,8))\n",
    "plt.subplot(2,1,1)\n",
    "plt.bar(monthly_average.Month, monthly_average['% Sev 1']);\n",
    "plt.bar(monthly_average.Month, monthly_average['% Sev 2'], bottom =monthly_average['% Sev 1']);\n",
    "plt.legend(['% Sev 1', '% Sev 2']);\n",
    "plt.xticks(monthly_average.Month, monthly_average['Month'], rotation='horizontal');\n",
    "plt.ylabel('% of average collisions per month');\n",
    "plt.xlabel('Months');\n",
    "\n",
    "plt.subplot(2,1,2)\n",
    "plt.bar(monthly_average.Month, monthly_average['Severity = 1']);\n",
    "plt.bar(monthly_average.Month, monthly_average['Severity = 2'], bottom =monthly_average['Severity = 1']);\n",
    "plt.legend(['Severity = 1', 'Severity = 2']);\n",
    "plt.xticks(monthly_average.Month, monthly_average['Month'], rotation='horizontal');\n",
    "plt.ylabel('Average number of collisions per month');\n",
    "plt.xlabel('Months');\n",
    "\n",
    "#Alternative way (without doing reset_index above)\n",
    "#monthly_average.plot.bar(stacked=True)"
   ]
  },
  {
   "cell_type": "markdown",
   "metadata": {
    "id": "D8RVL1AlF3wO"
   },
   "source": [
    "We can see from the plot above that there is no apparent trend and that Severity 1 accidents made up ~70% of total accidents per month between 2004 and 2020. Even looking at the average number of collisions per month doesn't seem to offer much more information. We now turn our attention to the annual trends."
   ]
  },
  {
   "cell_type": "code",
   "execution_count": 20,
   "metadata": {
    "colab": {
     "base_uri": "https://localhost:8080/",
     "height": 497
    },
    "id": "0RDQ2T2qF3wO",
    "outputId": "2c0f03e9-c989-4cc6-8b9e-0411de5a4f1d"
   },
   "outputs": [
    {
     "data": {
      "image/png": "[encoded data removed]",
      "text/plain": [
       "<Figure size 1080x576 with 2 Axes>"
      ]
     },
     "metadata": {
      "needs_background": "light"
     },
     "output_type": "display_data"
    }
   ],
   "source": [
    "annual_trends_df = time_df.groupby(['Year'])['Severity = 1','Severity = 2'].sum();\n",
    "annual_trends_df = annual_trends_df.reset_index()\n",
    "plt.figure(figsize=(15,8))\n",
    "annual_trends_df['% Sev 1'] = 100*annual_trends_df['Severity = 1'] / (annual_trends_df['Severity = 1']+annual_trends_df['Severity = 2'])\n",
    "annual_trends_df['% Sev 2'] = 100*annual_trends_df['Severity = 2'] / (annual_trends_df['Severity = 1']+annual_trends_df['Severity = 2'])\n",
    "plt.subplot(2,1,1)\n",
    "plt.bar(annual_trends_df.Year, annual_trends_df['% Sev 1']);\n",
    "plt.bar(annual_trends_df.Year, annual_trends_df['% Sev 2'], bottom =annual_trends_df['% Sev 1']);\n",
    "plt.legend(['% Sev 1', '% Sev 2']);\n",
    "plt.xticks(annual_trends_df.Year, annual_trends_df['Year'], rotation='horizontal');\n",
    "plt.ylabel('% of average collisions per year');\n",
    "plt.xlabel('Years');\n",
    "\n",
    "plt.subplot(2,1,2)\n",
    "plt.bar(annual_trends_df.Year, annual_trends_df['Severity = 1']);\n",
    "plt.bar(annual_trends_df.Year, annual_trends_df['Severity = 1'], bottom =annual_trends_df['Severity = 1']);\n",
    "plt.legend(['Severity = 1','Severity = 2']);\n",
    "plt.xticks(annual_trends_df.Year, annual_trends_df['Year'], rotation='horizontal');\n",
    "plt.ylabel('Average number of collisions per year');\n",
    "plt.xlabel('Years');"
   ]
  },
  {
   "cell_type": "markdown",
   "metadata": {
    "id": "S94FpRtqF3wR"
   },
   "source": [
    "From the first plot we can see that Severity 1 accidents made up ~70% of total accidents per year between 2004 and 2020. However, when looking at the average number of collisions per year we can see that between 2011/2012 to 2015 there was a constant increase in the total number accidents - we then observe a decrease from 2015 to 2019 - this coincides with the introduction of [Vision Zero](https://www.seattle.gov/visionzero) in 2015. The 2020 numbers are obviously only partial as the database stops at May 2020."
   ]
  },
  {
   "cell_type": "code",
   "execution_count": 21,
   "metadata": {
    "colab": {
     "base_uri": "https://localhost:8080/",
     "height": 606
    },
    "id": "fAvRECqQF3wR",
    "outputId": "f18d132b-534d-4cf5-8d63-390516a1f05d"
   },
   "outputs": [
    {
     "data": {
      "image/png": "[encoded data removed]",
      "text/plain": [
       "<Figure size 1080x720 with 2 Axes>"
      ]
     },
     "metadata": {
      "needs_background": "light"
     },
     "output_type": "display_data"
    }
   ],
   "source": [
    "hourly_trends_df = time_df.groupby(['Hours'])['Severity = 1','Severity = 2'].sum()/(16*12);\n",
    "hourly_trends_df = hourly_trends_df.reset_index()\n",
    "plt.figure(figsize=(15,10))\n",
    "hourly_trends_df['% Sev 1'] = 100*hourly_trends_df['Severity = 1'] / (hourly_trends_df['Severity = 1']+hourly_trends_df['Severity = 2'])\n",
    "hourly_trends_df['% Sev 2'] = 100*hourly_trends_df['Severity = 2'] / (hourly_trends_df['Severity = 1']+hourly_trends_df['Severity = 2'])\n",
    "plt.subplot(2,1,1)\n",
    "plt.bar(hourly_trends_df.Hours, hourly_trends_df['% Sev 1']);\n",
    "plt.bar(hourly_trends_df.Hours, hourly_trends_df['% Sev 2'], bottom =hourly_trends_df['% Sev 1']);\n",
    "plt.legend(['% Sev 1', '% Sev 2']);\n",
    "plt.xticks(hourly_trends_df.Hours, hourly_trends_df['Hours'], rotation='horizontal');\n",
    "plt.ylabel('% of collisions per hour from 2004 to 2020');\n",
    "plt.xlabel('Hours');\n",
    "\n",
    "plt.subplot(2,1,2)\n",
    "plt.bar(hourly_trends_df.Hours, hourly_trends_df['Severity = 1']);\n",
    "plt.bar(hourly_trends_df.Hours, hourly_trends_df['Severity = 2'], bottom =hourly_trends_df['Severity = 1']);\n",
    "plt.legend(['Severity = 1', 'Severity = 2']);\n",
    "plt.xticks(hourly_trends_df.Hours, hourly_trends_df['Hours'], rotation='horizontal');\n",
    "plt.ylabel('Average number of collisions per hour from 2004 to 2020');\n",
    "plt.xlabel('Hours');"
   ]
  },
  {
   "cell_type": "markdown",
   "metadata": {
    "id": "g0G1CA0bF3wU"
   },
   "source": [
    "These last two plots are a bit more interesting and show the trend of number of collisions per hour, averaged on year and month. We can see 2 peaks: one at midnight and one at 5pm. In particular, the peak at midnight seems to be much higher than the other hourly values - let's dig more into the hours results to see if something odd is happening in the database. \n",
    "We start with searching for all the occurrences in the dataframe where the time of the collisions was 00:00:00 and all the occurrences in the dataframe where the collisions where recorded at other times than 00:00:00 (but still at 00 hours)"
   ]
  },
  {
   "cell_type": "code",
   "execution_count": 22,
   "metadata": {
    "colab": {
     "base_uri": "https://localhost:8080/"
    },
    "id": "dnPQR7AoF3wV",
    "outputId": "433bcd65-76b9-45a5-8b61-22b772217b45"
   },
   "outputs": [
    {
     "data": {
      "text/plain": [
       "30526"
      ]
     },
     "execution_count": 22,
     "metadata": {},
     "output_type": "execute_result"
    }
   ],
   "source": [
    "len(time_df.loc[(time_df.Hours == 0) & (time_df.Minutes==0) & (time_df.Seconds==0)])"
   ]
  },
  {
   "cell_type": "code",
   "execution_count": 23,
   "metadata": {
    "colab": {
     "base_uri": "https://localhost:8080/"
    },
    "id": "RWlCbq2PF3wX",
    "outputId": "f1fe6b44-648d-45c1-ab90-9a377fc06a9f"
   },
   "outputs": [
    {
     "data": {
      "text/plain": [
       "34381"
      ]
     },
     "execution_count": 23,
     "metadata": {},
     "output_type": "execute_result"
    }
   ],
   "source": [
    "len(time_df.loc[(time_df.Hours == 0)])"
   ]
  },
  {
   "cell_type": "code",
   "execution_count": 24,
   "metadata": {
    "colab": {
     "base_uri": "https://localhost:8080/"
    },
    "id": "xX1aRkCSF3wZ",
    "outputId": "0e28300a-d2c3-4c22-923c-e3c2ead5878a"
   },
   "outputs": [
    {
     "data": {
      "text/plain": [
       "20.078125"
      ]
     },
     "execution_count": 24,
     "metadata": {},
     "output_type": "execute_result"
    }
   ],
   "source": [
    "corrected_midnight = (len(time_df.loc[(time_df.Hours == 0)])-len(time_df.loc[(time_df.Hours == 0) & (time_df.Minutes==0) & (time_df.Seconds==0)]))/(16*12)\n",
    "corrected_midnight"
   ]
  },
  {
   "cell_type": "markdown",
   "metadata": {
    "id": "LIDuATaaF3wd"
   },
   "source": [
    "From this first simple analysis we see that collisions recorded exactly at 00:00:00 time account for 30526 out of the 34381 that happened at 00 hours (basically between 12am and 1am). We can hypothize that those collisions recorded exactly at 00:00:00 were not updated with the correct time and when we look at the collisions that were recorded betwen 12am and 1am (but not exactly at 00:00:00), the average number of collisions per year, per month between 12am and 1am is much more in line with the rest of chart, that's to say ~20. With this information we can try to modify the plot above to a more realistic one - shown below - which now shows 2 relative peaks: one at 8am and one at 5pm, basically coinciding with peak hours with school runs and office commute, with the majority of Severity 2 accidents occuring towards the late afternoon/early evening."
   ]
  },
  {
   "cell_type": "code",
   "execution_count": 25,
   "metadata": {
    "colab": {
     "base_uri": "https://localhost:8080/",
     "height": 341
    },
    "id": "B-g9-RlhF3we",
    "outputId": "0393f236-3f88-4207-db9a-c8c3332c505f"
   },
   "outputs": [
    {
     "data": {
      "image/png": "[encoded data removed]",
      "text/plain": [
       "<Figure size 1080x360 with 1 Axes>"
      ]
     },
     "metadata": {
      "needs_background": "light"
     },
     "output_type": "display_data"
    }
   ],
   "source": [
    "hourly_trends_corrected = hourly_trends_df\n",
    "hourly_trends_corrected['Severity = 1'][0] = hourly_trends_df['% Sev 1'][0]*corrected_midnight/100\n",
    "hourly_trends_corrected['Severity = 2'][0] = hourly_trends_df['% Sev 2'][0]*corrected_midnight/100\n",
    "\n",
    "plt.figure(figsize=(15,5))\n",
    "plt.bar(hourly_trends_corrected.Hours, hourly_trends_corrected['Severity = 1']);\n",
    "plt.bar(hourly_trends_corrected.Hours, hourly_trends_corrected['Severity = 2'], bottom =hourly_trends_corrected['Severity = 1']);\n",
    "plt.legend(['Severity = 1', 'Severity = 2']);\n",
    "plt.xticks(hourly_trends_corrected.Hours, hourly_trends_corrected['Hours'], rotation='horizontal');\n",
    "plt.ylabel('Average number of collisions per hour from 2004 to 2020');\n",
    "plt.xlabel('Hours');"
   ]
  },
  {
   "cell_type": "markdown",
   "metadata": {
    "id": "evRTD9agF3wh"
   },
   "source": [
    "## 3.a.3 Collision type\n",
    "\n",
    "Now we consider the third group of features, i.e. __collision type__ made up of COLLISIONTYPE, SDOT_COLCODE, SDOT_COLDESC. We invoke the dictionary defined at the beginning of this report to remind ourselves what these features are."
   ]
  },
  {
   "cell_type": "code",
   "execution_count": 26,
   "metadata": {
    "colab": {
     "base_uri": "https://localhost:8080/"
    },
    "id": "HOL6SoXOF3wh",
    "outputId": "49af30fb-8df1-4c50-8f45-1599c08b30d4"
   },
   "outputs": [
    {
     "name": "stdout",
     "output_type": "stream",
     "text": [
      "COLLISIONTYPE: Collision type \n",
      "SDOT_COLCODE: A code given to the collision by SDOT \n",
      "SDOT_COLDESC: A description of the collision corresponding to the collision code\n"
     ]
    }
   ],
   "source": [
    "print('COLLISIONTYPE:',coll_dict['COLLISIONTYPE'], '\\nSDOT_COLCODE:', coll_dict['SDOT_COLCODE'], '\\nSDOT_COLDESC:', coll_dict['SDOT_COLDESC'])\n",
    "\n",
    "#coll_df.COLLISIONTYPE.unique()"
   ]
  },
  {
   "cell_type": "markdown",
   "metadata": {
    "id": "Ft1fE8nuF3wl"
   },
   "source": [
    "We assemble a new dataframe called coltype_df with the features above to examine them."
   ]
  },
  {
   "cell_type": "code",
   "execution_count": 27,
   "metadata": {
    "colab": {
     "base_uri": "https://localhost:8080/",
     "height": 206
    },
    "id": "UPTQ5P6AF3wl",
    "outputId": "4551bc5e-bda8-4708-b73f-2e6cb6e2983e"
   },
   "outputs": [
    {
     "data": {
      "text/html": [
       "<div>\n",
       "<style scoped>\n",
       "    .dataframe tbody tr th:only-of-type {\n",
       "        vertical-align: middle;\n",
       "    }\n",
       "\n",
       "    .dataframe tbody tr th {\n",
       "        vertical-align: top;\n",
       "    }\n",
       "\n",
       "    .dataframe thead th {\n",
       "        text-align: right;\n",
       "    }\n",
       "</style>\n",
       "<table border=\"1\" class=\"dataframe\">\n",
       "  <thead>\n",
       "    <tr style=\"text-align: right;\">\n",
       "      <th></th>\n",
       "      <th>SEVERITYCODE</th>\n",
       "      <th>COLLISIONTYPE</th>\n",
       "      <th>SDOT_COLCODE</th>\n",
       "      <th>SDOT_COLDESC</th>\n",
       "    </tr>\n",
       "  </thead>\n",
       "  <tbody>\n",
       "    <tr>\n",
       "      <th>0</th>\n",
       "      <td>2</td>\n",
       "      <td>Angles</td>\n",
       "      <td>11</td>\n",
       "      <td>MOTOR VEHICLE STRUCK MOTOR VEHICLE, FRONT END ...</td>\n",
       "    </tr>\n",
       "    <tr>\n",
       "      <th>1</th>\n",
       "      <td>1</td>\n",
       "      <td>Sideswipe</td>\n",
       "      <td>16</td>\n",
       "      <td>MOTOR VEHICLE STRUCK MOTOR VEHICLE, LEFT SIDE ...</td>\n",
       "    </tr>\n",
       "    <tr>\n",
       "      <th>2</th>\n",
       "      <td>1</td>\n",
       "      <td>Parked Car</td>\n",
       "      <td>14</td>\n",
       "      <td>MOTOR VEHICLE STRUCK MOTOR VEHICLE, REAR END</td>\n",
       "    </tr>\n",
       "    <tr>\n",
       "      <th>3</th>\n",
       "      <td>1</td>\n",
       "      <td>Other</td>\n",
       "      <td>11</td>\n",
       "      <td>MOTOR VEHICLE STRUCK MOTOR VEHICLE, FRONT END ...</td>\n",
       "    </tr>\n",
       "    <tr>\n",
       "      <th>4</th>\n",
       "      <td>2</td>\n",
       "      <td>Angles</td>\n",
       "      <td>11</td>\n",
       "      <td>MOTOR VEHICLE STRUCK MOTOR VEHICLE, FRONT END ...</td>\n",
       "    </tr>\n",
       "  </tbody>\n",
       "</table>\n",
       "</div>"
      ],
      "text/plain": [
       "   SEVERITYCODE COLLISIONTYPE  SDOT_COLCODE  \\\n",
       "0             2        Angles            11   \n",
       "1             1     Sideswipe            16   \n",
       "2             1    Parked Car            14   \n",
       "3             1         Other            11   \n",
       "4             2        Angles            11   \n",
       "\n",
       "                                        SDOT_COLDESC  \n",
       "0  MOTOR VEHICLE STRUCK MOTOR VEHICLE, FRONT END ...  \n",
       "1  MOTOR VEHICLE STRUCK MOTOR VEHICLE, LEFT SIDE ...  \n",
       "2       MOTOR VEHICLE STRUCK MOTOR VEHICLE, REAR END  \n",
       "3  MOTOR VEHICLE STRUCK MOTOR VEHICLE, FRONT END ...  \n",
       "4  MOTOR VEHICLE STRUCK MOTOR VEHICLE, FRONT END ...  "
      ]
     },
     "execution_count": 27,
     "metadata": {},
     "output_type": "execute_result"
    }
   ],
   "source": [
    "colltype_df = coll_df[['SEVERITYCODE','COLLISIONTYPE','SDOT_COLCODE','SDOT_COLDESC']]\n",
    "colltype_df.head()"
   ]
  },
  {
   "cell_type": "markdown",
   "metadata": {
    "id": "jkAsEki8F3wo"
   },
   "source": [
    "Looking at this dataframe we notice how some of the information is redundant and in fact can be retrieved by including also the group of features that is number of pedestrian, vehicle, bicycles involved and dropping the columns SDOT_COLCODE and SDOT_COLDESC."
   ]
  },
  {
   "cell_type": "code",
   "execution_count": 28,
   "metadata": {
    "colab": {
     "base_uri": "https://localhost:8080/",
     "height": 206
    },
    "id": "Ec8KI65PF3wo",
    "outputId": "0f331dc3-8929-4485-b814-2da2e4ebe579"
   },
   "outputs": [
    {
     "data": {
      "text/html": [
       "<div>\n",
       "<style scoped>\n",
       "    .dataframe tbody tr th:only-of-type {\n",
       "        vertical-align: middle;\n",
       "    }\n",
       "\n",
       "    .dataframe tbody tr th {\n",
       "        vertical-align: top;\n",
       "    }\n",
       "\n",
       "    .dataframe thead th {\n",
       "        text-align: right;\n",
       "    }\n",
       "</style>\n",
       "<table border=\"1\" class=\"dataframe\">\n",
       "  <thead>\n",
       "    <tr style=\"text-align: right;\">\n",
       "      <th></th>\n",
       "      <th>SEVERITYCODE</th>\n",
       "      <th>COLLISIONTYPE</th>\n",
       "      <th>PERSONCOUNT</th>\n",
       "      <th>PEDCOUNT</th>\n",
       "      <th>PEDCYLCOUNT</th>\n",
       "      <th>VEHCOUNT</th>\n",
       "      <th>Severity = 1</th>\n",
       "      <th>Severity = 2</th>\n",
       "      <th>Tot_collisions</th>\n",
       "    </tr>\n",
       "  </thead>\n",
       "  <tbody>\n",
       "    <tr>\n",
       "      <th>0</th>\n",
       "      <td>2</td>\n",
       "      <td>Angles</td>\n",
       "      <td>2</td>\n",
       "      <td>0</td>\n",
       "      <td>0</td>\n",
       "      <td>2</td>\n",
       "      <td>0</td>\n",
       "      <td>1</td>\n",
       "      <td>1</td>\n",
       "    </tr>\n",
       "    <tr>\n",
       "      <th>1</th>\n",
       "      <td>1</td>\n",
       "      <td>Sideswipe</td>\n",
       "      <td>2</td>\n",
       "      <td>0</td>\n",
       "      <td>0</td>\n",
       "      <td>2</td>\n",
       "      <td>1</td>\n",
       "      <td>0</td>\n",
       "      <td>1</td>\n",
       "    </tr>\n",
       "    <tr>\n",
       "      <th>2</th>\n",
       "      <td>1</td>\n",
       "      <td>Parked Car</td>\n",
       "      <td>4</td>\n",
       "      <td>0</td>\n",
       "      <td>0</td>\n",
       "      <td>3</td>\n",
       "      <td>1</td>\n",
       "      <td>0</td>\n",
       "      <td>1</td>\n",
       "    </tr>\n",
       "    <tr>\n",
       "      <th>3</th>\n",
       "      <td>1</td>\n",
       "      <td>Other</td>\n",
       "      <td>3</td>\n",
       "      <td>0</td>\n",
       "      <td>0</td>\n",
       "      <td>3</td>\n",
       "      <td>1</td>\n",
       "      <td>0</td>\n",
       "      <td>1</td>\n",
       "    </tr>\n",
       "    <tr>\n",
       "      <th>4</th>\n",
       "      <td>2</td>\n",
       "      <td>Angles</td>\n",
       "      <td>2</td>\n",
       "      <td>0</td>\n",
       "      <td>0</td>\n",
       "      <td>2</td>\n",
       "      <td>0</td>\n",
       "      <td>1</td>\n",
       "      <td>1</td>\n",
       "    </tr>\n",
       "  </tbody>\n",
       "</table>\n",
       "</div>"
      ],
      "text/plain": [
       "   SEVERITYCODE COLLISIONTYPE  PERSONCOUNT  PEDCOUNT  PEDCYLCOUNT  VEHCOUNT  \\\n",
       "0             2        Angles            2         0            0         2   \n",
       "1             1     Sideswipe            2         0            0         2   \n",
       "2             1    Parked Car            4         0            0         3   \n",
       "3             1         Other            3         0            0         3   \n",
       "4             2        Angles            2         0            0         2   \n",
       "\n",
       "   Severity = 1  Severity = 2  Tot_collisions  \n",
       "0             0             1               1  \n",
       "1             1             0               1  \n",
       "2             1             0               1  \n",
       "3             1             0               1  \n",
       "4             0             1               1  "
      ]
     },
     "execution_count": 28,
     "metadata": {},
     "output_type": "execute_result"
    }
   ],
   "source": [
    "colltype_df['PERSONCOUNT'] = coll_df['PERSONCOUNT']\n",
    "colltype_df['PEDCOUNT'] = coll_df['PEDCOUNT']\n",
    "colltype_df['PEDCYLCOUNT'] = coll_df['PEDCYLCOUNT']\n",
    "colltype_df['VEHCOUNT'] = coll_df['VEHCOUNT']\n",
    "colltype_df = colltype_df.drop(columns=['SDOT_COLCODE','SDOT_COLDESC'])\n",
    "#one hot encoding to transform SEVERITYCODE column into 2 separate columns\n",
    "colltype_df['Severity = 1']= colltype_df['SEVERITYCODE'].apply(lambda x: 1 if (x<2)  else 0)\n",
    "colltype_df['Severity = 2']= colltype_df['SEVERITYCODE'].apply(lambda x: 1 if (x>=2)  else 0)\n",
    "colltype_df['Tot_collisions'] = colltype_df['Severity = 1']+colltype_df['Severity = 2']\n",
    "colltype_df.head()"
   ]
  },
  {
   "cell_type": "markdown",
   "metadata": {
    "id": "m9GfTrN4F3wq"
   },
   "source": [
    "We can now run some statistics on this dataframe. For example we can have a look at how many accidents occured per collision type and how many vehicles, pedestrians and bicycles were involved."
   ]
  },
  {
   "cell_type": "code",
   "execution_count": 29,
   "metadata": {
    "colab": {
     "base_uri": "https://localhost:8080/",
     "height": 394
    },
    "id": "e4yLBRueF3wr",
    "outputId": "05a11fe2-490b-4ef7-c0f6-a839f3039f49"
   },
   "outputs": [
    {
     "data": {
      "text/html": [
       "<div>\n",
       "<style scoped>\n",
       "    .dataframe tbody tr th:only-of-type {\n",
       "        vertical-align: middle;\n",
       "    }\n",
       "\n",
       "    .dataframe tbody tr th {\n",
       "        vertical-align: top;\n",
       "    }\n",
       "\n",
       "    .dataframe thead th {\n",
       "        text-align: right;\n",
       "    }\n",
       "</style>\n",
       "<table border=\"1\" class=\"dataframe\">\n",
       "  <thead>\n",
       "    <tr style=\"text-align: right;\">\n",
       "      <th></th>\n",
       "      <th>Severity = 1</th>\n",
       "      <th>Severity = 2</th>\n",
       "      <th>Tot_collisions</th>\n",
       "      <th>PEDCOUNT</th>\n",
       "      <th>PEDCYLCOUNT</th>\n",
       "      <th>VEHCOUNT</th>\n",
       "    </tr>\n",
       "    <tr>\n",
       "      <th>COLLISIONTYPE</th>\n",
       "      <th></th>\n",
       "      <th></th>\n",
       "      <th></th>\n",
       "      <th></th>\n",
       "      <th></th>\n",
       "      <th></th>\n",
       "    </tr>\n",
       "  </thead>\n",
       "  <tbody>\n",
       "    <tr>\n",
       "      <th>Angles</th>\n",
       "      <td>21050</td>\n",
       "      <td>13624</td>\n",
       "      <td>34674</td>\n",
       "      <td>60</td>\n",
       "      <td>17</td>\n",
       "      <td>71978</td>\n",
       "    </tr>\n",
       "    <tr>\n",
       "      <th>Cycles</th>\n",
       "      <td>671</td>\n",
       "      <td>4744</td>\n",
       "      <td>5415</td>\n",
       "      <td>98</td>\n",
       "      <td>5447</td>\n",
       "      <td>5295</td>\n",
       "    </tr>\n",
       "    <tr>\n",
       "      <th>Head On</th>\n",
       "      <td>1152</td>\n",
       "      <td>872</td>\n",
       "      <td>2024</td>\n",
       "      <td>0</td>\n",
       "      <td>1</td>\n",
       "      <td>4305</td>\n",
       "    </tr>\n",
       "    <tr>\n",
       "      <th>Left Turn</th>\n",
       "      <td>8292</td>\n",
       "      <td>5411</td>\n",
       "      <td>13703</td>\n",
       "      <td>22</td>\n",
       "      <td>14</td>\n",
       "      <td>28117</td>\n",
       "    </tr>\n",
       "    <tr>\n",
       "      <th>Other</th>\n",
       "      <td>17591</td>\n",
       "      <td>6112</td>\n",
       "      <td>23703</td>\n",
       "      <td>71</td>\n",
       "      <td>7</td>\n",
       "      <td>34276</td>\n",
       "    </tr>\n",
       "    <tr>\n",
       "      <th>Parked Car</th>\n",
       "      <td>45325</td>\n",
       "      <td>2662</td>\n",
       "      <td>47987</td>\n",
       "      <td>72</td>\n",
       "      <td>6</td>\n",
       "      <td>102983</td>\n",
       "    </tr>\n",
       "    <tr>\n",
       "      <th>Pedestrian</th>\n",
       "      <td>672</td>\n",
       "      <td>5936</td>\n",
       "      <td>6608</td>\n",
       "      <td>6857</td>\n",
       "      <td>4</td>\n",
       "      <td>6702</td>\n",
       "    </tr>\n",
       "    <tr>\n",
       "      <th>Rear Ended</th>\n",
       "      <td>19419</td>\n",
       "      <td>14671</td>\n",
       "      <td>34090</td>\n",
       "      <td>27</td>\n",
       "      <td>7</td>\n",
       "      <td>75753</td>\n",
       "    </tr>\n",
       "    <tr>\n",
       "      <th>Right Turn</th>\n",
       "      <td>2347</td>\n",
       "      <td>609</td>\n",
       "      <td>2956</td>\n",
       "      <td>5</td>\n",
       "      <td>3</td>\n",
       "      <td>5985</td>\n",
       "    </tr>\n",
       "    <tr>\n",
       "      <th>Sideswipe</th>\n",
       "      <td>16103</td>\n",
       "      <td>2506</td>\n",
       "      <td>18609</td>\n",
       "      <td>18</td>\n",
       "      <td>5</td>\n",
       "      <td>38505</td>\n",
       "    </tr>\n",
       "  </tbody>\n",
       "</table>\n",
       "</div>"
      ],
      "text/plain": [
       "               Severity = 1  Severity = 2  Tot_collisions  PEDCOUNT  \\\n",
       "COLLISIONTYPE                                                         \n",
       "Angles                21050         13624           34674        60   \n",
       "Cycles                  671          4744            5415        98   \n",
       "Head On                1152           872            2024         0   \n",
       "Left Turn              8292          5411           13703        22   \n",
       "Other                 17591          6112           23703        71   \n",
       "Parked Car            45325          2662           47987        72   \n",
       "Pedestrian              672          5936            6608      6857   \n",
       "Rear Ended            19419         14671           34090        27   \n",
       "Right Turn             2347           609            2956         5   \n",
       "Sideswipe             16103          2506           18609        18   \n",
       "\n",
       "               PEDCYLCOUNT  VEHCOUNT  \n",
       "COLLISIONTYPE                         \n",
       "Angles                  17     71978  \n",
       "Cycles                5447      5295  \n",
       "Head On                  1      4305  \n",
       "Left Turn               14     28117  \n",
       "Other                    7     34276  \n",
       "Parked Car               6    102983  \n",
       "Pedestrian               4      6702  \n",
       "Rear Ended               7     75753  \n",
       "Right Turn               3      5985  \n",
       "Sideswipe                5     38505  "
      ]
     },
     "execution_count": 29,
     "metadata": {},
     "output_type": "execute_result"
    }
   ],
   "source": [
    "colltype_df.groupby('COLLISIONTYPE')['Severity = 1','Severity = 2','Tot_collisions','PEDCOUNT','PEDCYLCOUNT','VEHCOUNT'].sum()"
   ]
  },
  {
   "cell_type": "markdown",
   "metadata": {
    "id": "bdcUc28JPbzW"
   },
   "source": [
    "From this dataframe we can see that between 2004 and 2020 the majority of accidents of Severity 1 occurred with parked cars, while the majority of accidents of Severity 2 involved either rear-ended type collisions or angles type collision. Looking at the total amount of collisions, we can also deduce that whenever a rear-ended type collision took place, more than 2 vehicles were involved given the fact that for this type of collisions, VEHCOUNT is more than double the total amount of accidents - this is the same for the collisions type \"Angles\" and \"Parked Car\" and it seems to suggest that these were accidents that occurred with multiple cars close to each other e.g. in stationary traffic. From this dataframe we can also read that whenever a collision involved a bicycle, this was of severity 2 for the majority of the cases and a small number of these collisions involved more than one bicycle per single occurrence (PEDCYLCOUNT > VEHCOUNT). This same rationale can be applied to accidents involving pedestrian (PEDCOUNT > VEHCOUNT).\n",
    "\n",
    "## 3.a.4 Collision causes and circumstances\n",
    "\n",
    "Lastly we turn our attention to the group of features named __collisions causes and circumstances__, which is made up not only of features indicating the circumstances surrounding the people involved in the accident but also information about weather, road and light conditions. First, let's remind ourselves what each of these features mean by invoking the *coll_dict* dictionary and then let's create a dataframe called cond_df to start making some analyses."
   ]
  },
  {
   "cell_type": "code",
   "execution_count": 30,
   "metadata": {
    "colab": {
     "base_uri": "https://localhost:8080/"
    },
    "id": "xSqJzaZa-sWk",
    "outputId": "75b4794a-2ebe-48be-ba2b-fb6aed0f0ac9"
   },
   "outputs": [
    {
     "name": "stdout",
     "output_type": "stream",
     "text": [
      "INATTENTIONIND: Whether or not collision was due to inattention (Y/N) \n",
      "UNDERINFL: Whether or not a driver involved was under the influence of drugs or alcohol \n",
      "PEDROWNOTGRNT: Whether or not the pedestrian right of way was not granted (Y/N) \n",
      "SPEEDING: Whether or not speeding was a factor in the collision (Y/N)\n",
      "HITPARKEDCAR: Whether or not the collision in volved hitting a parked car (Y/N) \n",
      "WEATHER: A description of the weather conditions during the time of the collision \n",
      "ROADCOND: The condition of the road during the collision \n",
      "LIGHTCOND: The light conditions during the collision\n"
     ]
    }
   ],
   "source": [
    "print('INATTENTIONIND:',coll_dict['INATTENTIONIND'], '\\nUNDERINFL:', coll_dict['UNDERINFL'], '\\nPEDROWNOTGRNT:', coll_dict['PEDROWNOTGRNT'], '\\nSPEEDING:', coll_dict['SPEEDING'])\n",
    "print('HITPARKEDCAR:',coll_dict['HITPARKEDCAR'], '\\nWEATHER:', coll_dict['WEATHER'], '\\nROADCOND:', coll_dict['ROADCOND'], '\\nLIGHTCOND:', coll_dict['LIGHTCOND'])\n",
    "\n"
   ]
  },
  {
   "cell_type": "code",
   "execution_count": 31,
   "metadata": {
    "colab": {
     "base_uri": "https://localhost:8080/",
     "height": 363
    },
    "id": "witmCZxq_yrT",
    "outputId": "0dfe926d-8a27-4b2f-e6b6-5ade013acba9"
   },
   "outputs": [
    {
     "data": {
      "text/html": [
       "<div>\n",
       "<style scoped>\n",
       "    .dataframe tbody tr th:only-of-type {\n",
       "        vertical-align: middle;\n",
       "    }\n",
       "\n",
       "    .dataframe tbody tr th {\n",
       "        vertical-align: top;\n",
       "    }\n",
       "\n",
       "    .dataframe thead th {\n",
       "        text-align: right;\n",
       "    }\n",
       "</style>\n",
       "<table border=\"1\" class=\"dataframe\">\n",
       "  <thead>\n",
       "    <tr style=\"text-align: right;\">\n",
       "      <th></th>\n",
       "      <th>SEVERITYCODE</th>\n",
       "      <th>INATTENTIONIND</th>\n",
       "      <th>UNDERINFL</th>\n",
       "      <th>PEDROWNOTGRNT</th>\n",
       "      <th>SPEEDING</th>\n",
       "      <th>HITPARKEDCAR</th>\n",
       "      <th>WEATHER</th>\n",
       "      <th>ROADCOND</th>\n",
       "      <th>LIGHTCOND</th>\n",
       "    </tr>\n",
       "  </thead>\n",
       "  <tbody>\n",
       "    <tr>\n",
       "      <th>0</th>\n",
       "      <td>2</td>\n",
       "      <td>NaN</td>\n",
       "      <td>N</td>\n",
       "      <td>NaN</td>\n",
       "      <td>NaN</td>\n",
       "      <td>N</td>\n",
       "      <td>Overcast</td>\n",
       "      <td>Wet</td>\n",
       "      <td>Daylight</td>\n",
       "    </tr>\n",
       "    <tr>\n",
       "      <th>1</th>\n",
       "      <td>1</td>\n",
       "      <td>NaN</td>\n",
       "      <td>0</td>\n",
       "      <td>NaN</td>\n",
       "      <td>NaN</td>\n",
       "      <td>N</td>\n",
       "      <td>Raining</td>\n",
       "      <td>Wet</td>\n",
       "      <td>Dark - Street Lights On</td>\n",
       "    </tr>\n",
       "    <tr>\n",
       "      <th>2</th>\n",
       "      <td>1</td>\n",
       "      <td>NaN</td>\n",
       "      <td>0</td>\n",
       "      <td>NaN</td>\n",
       "      <td>NaN</td>\n",
       "      <td>N</td>\n",
       "      <td>Overcast</td>\n",
       "      <td>Dry</td>\n",
       "      <td>Daylight</td>\n",
       "    </tr>\n",
       "    <tr>\n",
       "      <th>3</th>\n",
       "      <td>1</td>\n",
       "      <td>NaN</td>\n",
       "      <td>N</td>\n",
       "      <td>NaN</td>\n",
       "      <td>NaN</td>\n",
       "      <td>N</td>\n",
       "      <td>Clear</td>\n",
       "      <td>Dry</td>\n",
       "      <td>Daylight</td>\n",
       "    </tr>\n",
       "    <tr>\n",
       "      <th>4</th>\n",
       "      <td>2</td>\n",
       "      <td>NaN</td>\n",
       "      <td>0</td>\n",
       "      <td>NaN</td>\n",
       "      <td>NaN</td>\n",
       "      <td>N</td>\n",
       "      <td>Raining</td>\n",
       "      <td>Wet</td>\n",
       "      <td>Daylight</td>\n",
       "    </tr>\n",
       "    <tr>\n",
       "      <th>5</th>\n",
       "      <td>1</td>\n",
       "      <td>NaN</td>\n",
       "      <td>N</td>\n",
       "      <td>NaN</td>\n",
       "      <td>NaN</td>\n",
       "      <td>N</td>\n",
       "      <td>Clear</td>\n",
       "      <td>Dry</td>\n",
       "      <td>Daylight</td>\n",
       "    </tr>\n",
       "    <tr>\n",
       "      <th>6</th>\n",
       "      <td>1</td>\n",
       "      <td>NaN</td>\n",
       "      <td>0</td>\n",
       "      <td>NaN</td>\n",
       "      <td>NaN</td>\n",
       "      <td>N</td>\n",
       "      <td>Raining</td>\n",
       "      <td>Wet</td>\n",
       "      <td>Daylight</td>\n",
       "    </tr>\n",
       "    <tr>\n",
       "      <th>7</th>\n",
       "      <td>2</td>\n",
       "      <td>NaN</td>\n",
       "      <td>N</td>\n",
       "      <td>NaN</td>\n",
       "      <td>NaN</td>\n",
       "      <td>N</td>\n",
       "      <td>Clear</td>\n",
       "      <td>Dry</td>\n",
       "      <td>Daylight</td>\n",
       "    </tr>\n",
       "    <tr>\n",
       "      <th>8</th>\n",
       "      <td>1</td>\n",
       "      <td>NaN</td>\n",
       "      <td>0</td>\n",
       "      <td>NaN</td>\n",
       "      <td>NaN</td>\n",
       "      <td>N</td>\n",
       "      <td>Clear</td>\n",
       "      <td>Dry</td>\n",
       "      <td>Daylight</td>\n",
       "    </tr>\n",
       "    <tr>\n",
       "      <th>9</th>\n",
       "      <td>2</td>\n",
       "      <td>NaN</td>\n",
       "      <td>0</td>\n",
       "      <td>NaN</td>\n",
       "      <td>NaN</td>\n",
       "      <td>N</td>\n",
       "      <td>Clear</td>\n",
       "      <td>Dry</td>\n",
       "      <td>Daylight</td>\n",
       "    </tr>\n",
       "  </tbody>\n",
       "</table>\n",
       "</div>"
      ],
      "text/plain": [
       "   SEVERITYCODE INATTENTIONIND UNDERINFL PEDROWNOTGRNT SPEEDING HITPARKEDCAR  \\\n",
       "0             2            NaN         N           NaN      NaN            N   \n",
       "1             1            NaN         0           NaN      NaN            N   \n",
       "2             1            NaN         0           NaN      NaN            N   \n",
       "3             1            NaN         N           NaN      NaN            N   \n",
       "4             2            NaN         0           NaN      NaN            N   \n",
       "5             1            NaN         N           NaN      NaN            N   \n",
       "6             1            NaN         0           NaN      NaN            N   \n",
       "7             2            NaN         N           NaN      NaN            N   \n",
       "8             1            NaN         0           NaN      NaN            N   \n",
       "9             2            NaN         0           NaN      NaN            N   \n",
       "\n",
       "    WEATHER ROADCOND                LIGHTCOND  \n",
       "0  Overcast      Wet                 Daylight  \n",
       "1   Raining      Wet  Dark - Street Lights On  \n",
       "2  Overcast      Dry                 Daylight  \n",
       "3     Clear      Dry                 Daylight  \n",
       "4   Raining      Wet                 Daylight  \n",
       "5     Clear      Dry                 Daylight  \n",
       "6   Raining      Wet                 Daylight  \n",
       "7     Clear      Dry                 Daylight  \n",
       "8     Clear      Dry                 Daylight  \n",
       "9     Clear      Dry                 Daylight  "
      ]
     },
     "execution_count": 31,
     "metadata": {},
     "output_type": "execute_result"
    }
   ],
   "source": [
    "cond_df = coll_df[['SEVERITYCODE','INATTENTIONIND','UNDERINFL','PEDROWNOTGRNT','SPEEDING','HITPARKEDCAR','WEATHER','ROADCOND','LIGHTCOND']]\n",
    "cond_df.head(10)"
   ]
  },
  {
   "cell_type": "markdown",
   "metadata": {},
   "source": [
    "Focusing on the driver/accident conditions first, except weather, road and light conditions, we can first see how many NaN values, incomplete or missing values there are and replace these to create a new df called cond_df_driver."
   ]
  },
  {
   "cell_type": "code",
   "execution_count": 32,
   "metadata": {},
   "outputs": [
    {
     "name": "stdout",
     "output_type": "stream",
     "text": [
      "---- SEVERITYCODE ---\n",
      "1    136485\n",
      "2     58188\n",
      "Name: SEVERITYCODE, dtype: int64\n",
      "is nan: 0\n",
      "---- INATTENTIONIND ---\n",
      "Y    29805\n",
      "Name: INATTENTIONIND, dtype: int64\n",
      "is nan: 164868\n",
      "---- UNDERINFL ---\n",
      "N    100274\n",
      "0     80394\n",
      "Y      5126\n",
      "1      3995\n",
      "Name: UNDERINFL, dtype: int64\n",
      "is nan: 4884\n",
      "---- PEDROWNOTGRNT ---\n",
      "Y    4667\n",
      "Name: PEDROWNOTGRNT, dtype: int64\n",
      "is nan: 190006\n",
      "---- SPEEDING ---\n",
      "Y    9333\n",
      "Name: SPEEDING, dtype: int64\n",
      "is nan: 185340\n",
      "---- HITPARKEDCAR ---\n",
      "N    187457\n",
      "Y      7216\n",
      "Name: HITPARKEDCAR, dtype: int64\n",
      "is nan: 0\n"
     ]
    }
   ],
   "source": [
    "cond_df_driver = cond_df[['SEVERITYCODE','INATTENTIONIND','UNDERINFL','PEDROWNOTGRNT','SPEEDING','HITPARKEDCAR']]\n",
    "for c in cond_df_driver.columns:\n",
    "    print (\"---- %s ---\" % c)\n",
    "    print (cond_df_driver[c].value_counts())\n",
    "    print (\"is nan:\", cond_df_driver[c].isnull().sum())"
   ]
  },
  {
   "cell_type": "code",
   "execution_count": 33,
   "metadata": {},
   "outputs": [
    {
     "data": {
      "text/html": [
       "<div>\n",
       "<style scoped>\n",
       "    .dataframe tbody tr th:only-of-type {\n",
       "        vertical-align: middle;\n",
       "    }\n",
       "\n",
       "    .dataframe tbody tr th {\n",
       "        vertical-align: top;\n",
       "    }\n",
       "\n",
       "    .dataframe thead th {\n",
       "        text-align: right;\n",
       "    }\n",
       "</style>\n",
       "<table border=\"1\" class=\"dataframe\">\n",
       "  <thead>\n",
       "    <tr style=\"text-align: right;\">\n",
       "      <th></th>\n",
       "      <th>SEVERITYCODE</th>\n",
       "      <th>INATTENTIONIND</th>\n",
       "      <th>UNDERINFL</th>\n",
       "      <th>PEDROWNOTGRNT</th>\n",
       "      <th>SPEEDING</th>\n",
       "      <th>HITPARKEDCAR</th>\n",
       "    </tr>\n",
       "  </thead>\n",
       "  <tbody>\n",
       "    <tr>\n",
       "      <th>0</th>\n",
       "      <td>2</td>\n",
       "      <td>0.0</td>\n",
       "      <td>0</td>\n",
       "      <td>0.0</td>\n",
       "      <td>0.0</td>\n",
       "      <td>0</td>\n",
       "    </tr>\n",
       "    <tr>\n",
       "      <th>1</th>\n",
       "      <td>1</td>\n",
       "      <td>0.0</td>\n",
       "      <td>0</td>\n",
       "      <td>0.0</td>\n",
       "      <td>0.0</td>\n",
       "      <td>0</td>\n",
       "    </tr>\n",
       "    <tr>\n",
       "      <th>2</th>\n",
       "      <td>1</td>\n",
       "      <td>0.0</td>\n",
       "      <td>0</td>\n",
       "      <td>0.0</td>\n",
       "      <td>0.0</td>\n",
       "      <td>0</td>\n",
       "    </tr>\n",
       "    <tr>\n",
       "      <th>3</th>\n",
       "      <td>1</td>\n",
       "      <td>0.0</td>\n",
       "      <td>0</td>\n",
       "      <td>0.0</td>\n",
       "      <td>0.0</td>\n",
       "      <td>0</td>\n",
       "    </tr>\n",
       "    <tr>\n",
       "      <th>4</th>\n",
       "      <td>2</td>\n",
       "      <td>0.0</td>\n",
       "      <td>0</td>\n",
       "      <td>0.0</td>\n",
       "      <td>0.0</td>\n",
       "      <td>0</td>\n",
       "    </tr>\n",
       "  </tbody>\n",
       "</table>\n",
       "</div>"
      ],
      "text/plain": [
       "   SEVERITYCODE  INATTENTIONIND UNDERINFL  PEDROWNOTGRNT  SPEEDING  \\\n",
       "0             2             0.0         0            0.0       0.0   \n",
       "1             1             0.0         0            0.0       0.0   \n",
       "2             1             0.0         0            0.0       0.0   \n",
       "3             1             0.0         0            0.0       0.0   \n",
       "4             2             0.0         0            0.0       0.0   \n",
       "\n",
       "   HITPARKEDCAR  \n",
       "0             0  \n",
       "1             0  \n",
       "2             0  \n",
       "3             0  \n",
       "4             0  "
      ]
     },
     "execution_count": 33,
     "metadata": {},
     "output_type": "execute_result"
    }
   ],
   "source": [
    "#Encoding INATTENTIONIND (0 = No, 1 = Yes)\n",
    "cond_df_driver[\"INATTENTIONIND\"].replace(\"Y\", 1, inplace=True)\n",
    "cond_df_driver[\"INATTENTIONIND\"].replace(np.nan, 0, inplace=True)\n",
    "\n",
    "#Encoding UNDERINFL (0 = No, 1 = Yes)\n",
    "cond_df_driver[\"UNDERINFL\"].replace(\"N\", 0, inplace=True)\n",
    "cond_df_driver[\"UNDERINFL\"].replace(\"Y\", 1, inplace=True)\n",
    "\n",
    "#Encoding SPEEDING (0 = No, 1 = Yes)\n",
    "cond_df_driver[\"SPEEDING\"].replace(\"Y\", 1, inplace=True)\n",
    "cond_df_driver[\"SPEEDING\"].replace(np.nan, 0, inplace=True)\n",
    "\n",
    "#Encoding PEDROWNOTGRNT(0 = No, 1 = Yes)\n",
    "cond_df_driver[\"PEDROWNOTGRNT\"].replace(\"Y\", 1, inplace=True)\n",
    "cond_df_driver[\"PEDROWNOTGRNT\"].replace(np.nan, 0, inplace=True)\n",
    "\n",
    "#Encoding HITPARKEDCAR(0 = No, 1 = Yes)\n",
    "cond_df_driver[\"HITPARKEDCAR\"].replace(\"Y\", 1, inplace=True)\n",
    "cond_df_driver[\"HITPARKEDCAR\"].replace(\"N\", 0, inplace=True)\n",
    "cond_df_driver[\"HITPARKEDCAR\"].replace(np.nan, 0, inplace=True)\n",
    "\n",
    "cond_df_driver.head()"
   ]
  },
  {
   "cell_type": "code",
   "execution_count": 34,
   "metadata": {},
   "outputs": [
    {
     "data": {
      "text/html": [
       "<div>\n",
       "<style scoped>\n",
       "    .dataframe tbody tr th:only-of-type {\n",
       "        vertical-align: middle;\n",
       "    }\n",
       "\n",
       "    .dataframe tbody tr th {\n",
       "        vertical-align: top;\n",
       "    }\n",
       "\n",
       "    .dataframe thead th {\n",
       "        text-align: right;\n",
       "    }\n",
       "</style>\n",
       "<table border=\"1\" class=\"dataframe\">\n",
       "  <thead>\n",
       "    <tr style=\"text-align: right;\">\n",
       "      <th></th>\n",
       "      <th>SEVERITYCODE</th>\n",
       "      <th>INATTENTIONIND</th>\n",
       "      <th>UNDERINFL</th>\n",
       "      <th>PEDROWNOTGRNT</th>\n",
       "      <th>SPEEDING</th>\n",
       "      <th>HITPARKEDCAR</th>\n",
       "      <th>Severity = 1</th>\n",
       "      <th>Severity = 2</th>\n",
       "    </tr>\n",
       "  </thead>\n",
       "  <tbody>\n",
       "    <tr>\n",
       "      <th>0</th>\n",
       "      <td>2</td>\n",
       "      <td>0.0</td>\n",
       "      <td>0</td>\n",
       "      <td>0.0</td>\n",
       "      <td>0.0</td>\n",
       "      <td>0</td>\n",
       "      <td>0</td>\n",
       "      <td>1</td>\n",
       "    </tr>\n",
       "    <tr>\n",
       "      <th>1</th>\n",
       "      <td>1</td>\n",
       "      <td>0.0</td>\n",
       "      <td>0</td>\n",
       "      <td>0.0</td>\n",
       "      <td>0.0</td>\n",
       "      <td>0</td>\n",
       "      <td>1</td>\n",
       "      <td>0</td>\n",
       "    </tr>\n",
       "    <tr>\n",
       "      <th>2</th>\n",
       "      <td>1</td>\n",
       "      <td>0.0</td>\n",
       "      <td>0</td>\n",
       "      <td>0.0</td>\n",
       "      <td>0.0</td>\n",
       "      <td>0</td>\n",
       "      <td>1</td>\n",
       "      <td>0</td>\n",
       "    </tr>\n",
       "    <tr>\n",
       "      <th>3</th>\n",
       "      <td>1</td>\n",
       "      <td>0.0</td>\n",
       "      <td>0</td>\n",
       "      <td>0.0</td>\n",
       "      <td>0.0</td>\n",
       "      <td>0</td>\n",
       "      <td>1</td>\n",
       "      <td>0</td>\n",
       "    </tr>\n",
       "    <tr>\n",
       "      <th>4</th>\n",
       "      <td>2</td>\n",
       "      <td>0.0</td>\n",
       "      <td>0</td>\n",
       "      <td>0.0</td>\n",
       "      <td>0.0</td>\n",
       "      <td>0</td>\n",
       "      <td>0</td>\n",
       "      <td>1</td>\n",
       "    </tr>\n",
       "  </tbody>\n",
       "</table>\n",
       "</div>"
      ],
      "text/plain": [
       "   SEVERITYCODE  INATTENTIONIND UNDERINFL  PEDROWNOTGRNT  SPEEDING  \\\n",
       "0             2             0.0         0            0.0       0.0   \n",
       "1             1             0.0         0            0.0       0.0   \n",
       "2             1             0.0         0            0.0       0.0   \n",
       "3             1             0.0         0            0.0       0.0   \n",
       "4             2             0.0         0            0.0       0.0   \n",
       "\n",
       "   HITPARKEDCAR  Severity = 1  Severity = 2  \n",
       "0             0             0             1  \n",
       "1             0             1             0  \n",
       "2             0             1             0  \n",
       "3             0             1             0  \n",
       "4             0             0             1  "
      ]
     },
     "execution_count": 34,
     "metadata": {},
     "output_type": "execute_result"
    }
   ],
   "source": [
    "cond_df_driver['Severity = 1']= cond_df_driver['SEVERITYCODE'].apply(lambda x: 1 if (x<2)  else 0)\n",
    "cond_df_driver['Severity = 2']= cond_df_driver['SEVERITYCODE'].apply(lambda x: 1 if (x>=2)  else 0)\n",
    "cond_df_driver.head()"
   ]
  },
  {
   "cell_type": "markdown",
   "metadata": {},
   "source": [
    "We now look at the correlation matrix for these driver/accident conditions to see whether there's any strong correlation or not."
   ]
  },
  {
   "cell_type": "code",
   "execution_count": 35,
   "metadata": {},
   "outputs": [
    {
     "data": {
      "image/png": "[encoded data removed]",
      "text/plain": [
       "<Figure size 640x320 with 2 Axes>"
      ]
     },
     "metadata": {},
     "output_type": "display_data"
    }
   ],
   "source": [
    "cond_df_driver_corr = cond_df_driver.drop(columns = ['SEVERITYCODE','Severity = 1']).corr()\n",
    "fig = plt.figure(num=None, figsize=(8, 4), dpi=80, facecolor='w', edgecolor='k')\n",
    "sns.set(font_scale=1)\n",
    "cmap = sns.diverging_palette(220, 10, as_cmap=True)\n",
    "sns.heatmap(cond_df_driver_corr, cmap=cmap,annot=True, vmin=-1, vmax=1);"
   ]
  },
  {
   "cell_type": "markdown",
   "metadata": {},
   "source": [
    "From this correlation matrix we can see that there's no strong 1 to 1 correlation with the output.\n",
    "We continue the analyses by looking at weather, road and light conditions."
   ]
  },
  {
   "cell_type": "code",
   "execution_count": 36,
   "metadata": {
    "colab": {
     "base_uri": "https://localhost:8080/",
     "height": 206
    },
    "id": "ox-CMcMKEJEB",
    "outputId": "9d25e932-e9ed-40e3-c44a-fdf0e51214ec"
   },
   "outputs": [
    {
     "data": {
      "text/html": [
       "<div>\n",
       "<style scoped>\n",
       "    .dataframe tbody tr th:only-of-type {\n",
       "        vertical-align: middle;\n",
       "    }\n",
       "\n",
       "    .dataframe tbody tr th {\n",
       "        vertical-align: top;\n",
       "    }\n",
       "\n",
       "    .dataframe thead th {\n",
       "        text-align: right;\n",
       "    }\n",
       "</style>\n",
       "<table border=\"1\" class=\"dataframe\">\n",
       "  <thead>\n",
       "    <tr style=\"text-align: right;\">\n",
       "      <th></th>\n",
       "      <th>SEVERITYCODE</th>\n",
       "      <th>INATTENTIONIND</th>\n",
       "      <th>UNDERINFL</th>\n",
       "      <th>PEDROWNOTGRNT</th>\n",
       "      <th>SPEEDING</th>\n",
       "      <th>HITPARKEDCAR</th>\n",
       "      <th>WEATHER</th>\n",
       "      <th>ROADCOND</th>\n",
       "      <th>LIGHTCOND</th>\n",
       "      <th>Severity = 1</th>\n",
       "      <th>Severity = 2</th>\n",
       "    </tr>\n",
       "  </thead>\n",
       "  <tbody>\n",
       "    <tr>\n",
       "      <th>0</th>\n",
       "      <td>2</td>\n",
       "      <td>NaN</td>\n",
       "      <td>N</td>\n",
       "      <td>NaN</td>\n",
       "      <td>NaN</td>\n",
       "      <td>N</td>\n",
       "      <td>Overcast</td>\n",
       "      <td>Wet</td>\n",
       "      <td>Daylight</td>\n",
       "      <td>0</td>\n",
       "      <td>1</td>\n",
       "    </tr>\n",
       "    <tr>\n",
       "      <th>1</th>\n",
       "      <td>1</td>\n",
       "      <td>NaN</td>\n",
       "      <td>0</td>\n",
       "      <td>NaN</td>\n",
       "      <td>NaN</td>\n",
       "      <td>N</td>\n",
       "      <td>Raining</td>\n",
       "      <td>Wet</td>\n",
       "      <td>Dark - Street Lights On</td>\n",
       "      <td>1</td>\n",
       "      <td>0</td>\n",
       "    </tr>\n",
       "    <tr>\n",
       "      <th>2</th>\n",
       "      <td>1</td>\n",
       "      <td>NaN</td>\n",
       "      <td>0</td>\n",
       "      <td>NaN</td>\n",
       "      <td>NaN</td>\n",
       "      <td>N</td>\n",
       "      <td>Overcast</td>\n",
       "      <td>Dry</td>\n",
       "      <td>Daylight</td>\n",
       "      <td>1</td>\n",
       "      <td>0</td>\n",
       "    </tr>\n",
       "    <tr>\n",
       "      <th>3</th>\n",
       "      <td>1</td>\n",
       "      <td>NaN</td>\n",
       "      <td>N</td>\n",
       "      <td>NaN</td>\n",
       "      <td>NaN</td>\n",
       "      <td>N</td>\n",
       "      <td>Clear</td>\n",
       "      <td>Dry</td>\n",
       "      <td>Daylight</td>\n",
       "      <td>1</td>\n",
       "      <td>0</td>\n",
       "    </tr>\n",
       "    <tr>\n",
       "      <th>4</th>\n",
       "      <td>2</td>\n",
       "      <td>NaN</td>\n",
       "      <td>0</td>\n",
       "      <td>NaN</td>\n",
       "      <td>NaN</td>\n",
       "      <td>N</td>\n",
       "      <td>Raining</td>\n",
       "      <td>Wet</td>\n",
       "      <td>Daylight</td>\n",
       "      <td>0</td>\n",
       "      <td>1</td>\n",
       "    </tr>\n",
       "  </tbody>\n",
       "</table>\n",
       "</div>"
      ],
      "text/plain": [
       "   SEVERITYCODE INATTENTIONIND UNDERINFL PEDROWNOTGRNT SPEEDING HITPARKEDCAR  \\\n",
       "0             2            NaN         N           NaN      NaN            N   \n",
       "1             1            NaN         0           NaN      NaN            N   \n",
       "2             1            NaN         0           NaN      NaN            N   \n",
       "3             1            NaN         N           NaN      NaN            N   \n",
       "4             2            NaN         0           NaN      NaN            N   \n",
       "\n",
       "    WEATHER ROADCOND                LIGHTCOND  Severity = 1  Severity = 2  \n",
       "0  Overcast      Wet                 Daylight             0             1  \n",
       "1   Raining      Wet  Dark - Street Lights On             1             0  \n",
       "2  Overcast      Dry                 Daylight             1             0  \n",
       "3     Clear      Dry                 Daylight             1             0  \n",
       "4   Raining      Wet                 Daylight             0             1  "
      ]
     },
     "execution_count": 36,
     "metadata": {},
     "output_type": "execute_result"
    }
   ],
   "source": [
    "cond_df['Severity = 1']= cond_df['SEVERITYCODE'].apply(lambda x: 1 if (x<2)  else 0)\n",
    "cond_df['Severity = 2']= cond_df['SEVERITYCODE'].apply(lambda x: 1 if (x>=2)  else 0)\n",
    "cond_df.head()"
   ]
  },
  {
   "cell_type": "code",
   "execution_count": 37,
   "metadata": {
    "colab": {
     "base_uri": "https://localhost:8080/",
     "height": 426
    },
    "id": "RiuztvELEi2a",
    "outputId": "566d6e6d-5563-43da-8ee9-a29033997cc3"
   },
   "outputs": [
    {
     "data": {
      "text/html": [
       "<div>\n",
       "<style scoped>\n",
       "    .dataframe tbody tr th:only-of-type {\n",
       "        vertical-align: middle;\n",
       "    }\n",
       "\n",
       "    .dataframe tbody tr th {\n",
       "        vertical-align: top;\n",
       "    }\n",
       "\n",
       "    .dataframe thead th {\n",
       "        text-align: right;\n",
       "    }\n",
       "</style>\n",
       "<table border=\"1\" class=\"dataframe\">\n",
       "  <thead>\n",
       "    <tr style=\"text-align: right;\">\n",
       "      <th></th>\n",
       "      <th>Severity = 1</th>\n",
       "      <th>Severity = 2</th>\n",
       "    </tr>\n",
       "    <tr>\n",
       "      <th>WEATHER</th>\n",
       "      <th></th>\n",
       "      <th></th>\n",
       "    </tr>\n",
       "  </thead>\n",
       "  <tbody>\n",
       "    <tr>\n",
       "      <th>Blowing Sand/Dirt</th>\n",
       "      <td>41</td>\n",
       "      <td>15</td>\n",
       "    </tr>\n",
       "    <tr>\n",
       "      <th>Clear</th>\n",
       "      <td>75295</td>\n",
       "      <td>35840</td>\n",
       "    </tr>\n",
       "    <tr>\n",
       "      <th>Fog/Smog/Smoke</th>\n",
       "      <td>382</td>\n",
       "      <td>187</td>\n",
       "    </tr>\n",
       "    <tr>\n",
       "      <th>Other</th>\n",
       "      <td>716</td>\n",
       "      <td>116</td>\n",
       "    </tr>\n",
       "    <tr>\n",
       "      <th>Overcast</th>\n",
       "      <td>18969</td>\n",
       "      <td>8745</td>\n",
       "    </tr>\n",
       "    <tr>\n",
       "      <th>Partly Cloudy</th>\n",
       "      <td>2</td>\n",
       "      <td>3</td>\n",
       "    </tr>\n",
       "    <tr>\n",
       "      <th>Raining</th>\n",
       "      <td>21969</td>\n",
       "      <td>11176</td>\n",
       "    </tr>\n",
       "    <tr>\n",
       "      <th>Severe Crosswind</th>\n",
       "      <td>18</td>\n",
       "      <td>7</td>\n",
       "    </tr>\n",
       "    <tr>\n",
       "      <th>Sleet/Hail/Freezing Rain</th>\n",
       "      <td>85</td>\n",
       "      <td>28</td>\n",
       "    </tr>\n",
       "    <tr>\n",
       "      <th>Snowing</th>\n",
       "      <td>736</td>\n",
       "      <td>171</td>\n",
       "    </tr>\n",
       "    <tr>\n",
       "      <th>Unknown</th>\n",
       "      <td>14275</td>\n",
       "      <td>816</td>\n",
       "    </tr>\n",
       "  </tbody>\n",
       "</table>\n",
       "</div>"
      ],
      "text/plain": [
       "                          Severity = 1  Severity = 2\n",
       "WEATHER                                             \n",
       "Blowing Sand/Dirt                   41            15\n",
       "Clear                            75295         35840\n",
       "Fog/Smog/Smoke                     382           187\n",
       "Other                              716           116\n",
       "Overcast                         18969          8745\n",
       "Partly Cloudy                        2             3\n",
       "Raining                          21969         11176\n",
       "Severe Crosswind                    18             7\n",
       "Sleet/Hail/Freezing Rain            85            28\n",
       "Snowing                            736           171\n",
       "Unknown                          14275           816"
      ]
     },
     "execution_count": 37,
     "metadata": {},
     "output_type": "execute_result"
    }
   ],
   "source": [
    "cond_df.groupby('WEATHER')['Severity = 1','Severity = 2'].sum()"
   ]
  },
  {
   "cell_type": "code",
   "execution_count": 38,
   "metadata": {
    "colab": {
     "base_uri": "https://localhost:8080/",
     "height": 363
    },
    "id": "SevnZr9EFB5z",
    "outputId": "30c384e0-2b80-438f-e1c5-271a918115cd"
   },
   "outputs": [
    {
     "data": {
      "text/html": [
       "<div>\n",
       "<style scoped>\n",
       "    .dataframe tbody tr th:only-of-type {\n",
       "        vertical-align: middle;\n",
       "    }\n",
       "\n",
       "    .dataframe tbody tr th {\n",
       "        vertical-align: top;\n",
       "    }\n",
       "\n",
       "    .dataframe thead th {\n",
       "        text-align: right;\n",
       "    }\n",
       "</style>\n",
       "<table border=\"1\" class=\"dataframe\">\n",
       "  <thead>\n",
       "    <tr style=\"text-align: right;\">\n",
       "      <th></th>\n",
       "      <th>Severity = 1</th>\n",
       "      <th>Severity = 2</th>\n",
       "    </tr>\n",
       "    <tr>\n",
       "      <th>ROADCOND</th>\n",
       "      <th></th>\n",
       "      <th></th>\n",
       "    </tr>\n",
       "  </thead>\n",
       "  <tbody>\n",
       "    <tr>\n",
       "      <th>Dry</th>\n",
       "      <td>84446</td>\n",
       "      <td>40064</td>\n",
       "    </tr>\n",
       "    <tr>\n",
       "      <th>Ice</th>\n",
       "      <td>936</td>\n",
       "      <td>273</td>\n",
       "    </tr>\n",
       "    <tr>\n",
       "      <th>Oil</th>\n",
       "      <td>40</td>\n",
       "      <td>24</td>\n",
       "    </tr>\n",
       "    <tr>\n",
       "      <th>Other</th>\n",
       "      <td>89</td>\n",
       "      <td>43</td>\n",
       "    </tr>\n",
       "    <tr>\n",
       "      <th>Sand/Mud/Dirt</th>\n",
       "      <td>52</td>\n",
       "      <td>23</td>\n",
       "    </tr>\n",
       "    <tr>\n",
       "      <th>Snow/Slush</th>\n",
       "      <td>837</td>\n",
       "      <td>167</td>\n",
       "    </tr>\n",
       "    <tr>\n",
       "      <th>Standing Water</th>\n",
       "      <td>85</td>\n",
       "      <td>30</td>\n",
       "    </tr>\n",
       "    <tr>\n",
       "      <th>Unknown</th>\n",
       "      <td>14329</td>\n",
       "      <td>749</td>\n",
       "    </tr>\n",
       "    <tr>\n",
       "      <th>Wet</th>\n",
       "      <td>31719</td>\n",
       "      <td>15755</td>\n",
       "    </tr>\n",
       "  </tbody>\n",
       "</table>\n",
       "</div>"
      ],
      "text/plain": [
       "                Severity = 1  Severity = 2\n",
       "ROADCOND                                  \n",
       "Dry                    84446         40064\n",
       "Ice                      936           273\n",
       "Oil                       40            24\n",
       "Other                     89            43\n",
       "Sand/Mud/Dirt             52            23\n",
       "Snow/Slush               837           167\n",
       "Standing Water            85            30\n",
       "Unknown                14329           749\n",
       "Wet                    31719         15755"
      ]
     },
     "execution_count": 38,
     "metadata": {},
     "output_type": "execute_result"
    }
   ],
   "source": [
    "cond_df.groupby('ROADCOND')['Severity = 1','Severity = 2'].sum()"
   ]
  },
  {
   "cell_type": "code",
   "execution_count": 39,
   "metadata": {
    "colab": {
     "base_uri": "https://localhost:8080/",
     "height": 363
    },
    "id": "M3QHLyQ6FFEH",
    "outputId": "d4aab6ee-5cb4-4e10-903b-f228b5766210"
   },
   "outputs": [
    {
     "data": {
      "text/html": [
       "<div>\n",
       "<style scoped>\n",
       "    .dataframe tbody tr th:only-of-type {\n",
       "        vertical-align: middle;\n",
       "    }\n",
       "\n",
       "    .dataframe tbody tr th {\n",
       "        vertical-align: top;\n",
       "    }\n",
       "\n",
       "    .dataframe thead th {\n",
       "        text-align: right;\n",
       "    }\n",
       "</style>\n",
       "<table border=\"1\" class=\"dataframe\">\n",
       "  <thead>\n",
       "    <tr style=\"text-align: right;\">\n",
       "      <th></th>\n",
       "      <th>Severity = 1</th>\n",
       "      <th>Severity = 2</th>\n",
       "    </tr>\n",
       "    <tr>\n",
       "      <th>LIGHTCOND</th>\n",
       "      <th></th>\n",
       "      <th></th>\n",
       "    </tr>\n",
       "  </thead>\n",
       "  <tbody>\n",
       "    <tr>\n",
       "      <th>Dark - No Street Lights</th>\n",
       "      <td>1203</td>\n",
       "      <td>334</td>\n",
       "    </tr>\n",
       "    <tr>\n",
       "      <th>Dark - Street Lights Off</th>\n",
       "      <td>883</td>\n",
       "      <td>316</td>\n",
       "    </tr>\n",
       "    <tr>\n",
       "      <th>Dark - Street Lights On</th>\n",
       "      <td>34032</td>\n",
       "      <td>14475</td>\n",
       "    </tr>\n",
       "    <tr>\n",
       "      <th>Dark - Unknown Lighting</th>\n",
       "      <td>7</td>\n",
       "      <td>4</td>\n",
       "    </tr>\n",
       "    <tr>\n",
       "      <th>Dawn</th>\n",
       "      <td>1678</td>\n",
       "      <td>824</td>\n",
       "    </tr>\n",
       "    <tr>\n",
       "      <th>Daylight</th>\n",
       "      <td>77593</td>\n",
       "      <td>38544</td>\n",
       "    </tr>\n",
       "    <tr>\n",
       "      <th>Dusk</th>\n",
       "      <td>3958</td>\n",
       "      <td>1944</td>\n",
       "    </tr>\n",
       "    <tr>\n",
       "      <th>Other</th>\n",
       "      <td>183</td>\n",
       "      <td>52</td>\n",
       "    </tr>\n",
       "    <tr>\n",
       "      <th>Unknown</th>\n",
       "      <td>12868</td>\n",
       "      <td>605</td>\n",
       "    </tr>\n",
       "  </tbody>\n",
       "</table>\n",
       "</div>"
      ],
      "text/plain": [
       "                          Severity = 1  Severity = 2\n",
       "LIGHTCOND                                           \n",
       "Dark - No Street Lights           1203           334\n",
       "Dark - Street Lights Off           883           316\n",
       "Dark - Street Lights On          34032         14475\n",
       "Dark - Unknown Lighting              7             4\n",
       "Dawn                              1678           824\n",
       "Daylight                         77593         38544\n",
       "Dusk                              3958          1944\n",
       "Other                              183            52\n",
       "Unknown                          12868           605"
      ]
     },
     "execution_count": 39,
     "metadata": {},
     "output_type": "execute_result"
    }
   ],
   "source": [
    "cond_df.groupby('LIGHTCOND')['Severity = 1','Severity = 2'].sum()"
   ]
  },
  {
   "cell_type": "markdown",
   "metadata": {
    "id": "D5qLszYJH736"
   },
   "source": [
    "From these 3 groupby we can see:\n",
    "- most of the collisions of severity 1 and severity 2 occurred with clear weather followed by rain\n",
    "- most of the collisions of severity 1 and severity 2 occurred on dry roads followed by wet roads\n",
    "- most of the collisions of severity 1 and 2 occurred in daylight, followed by dark - street lights on\n",
    "\n",
    "We can now plot a correlation matrix to observe whether there's a strong 1 to 1 correlation with the accident severity. To do, we exclude \"Severity = 1\" label from the dataset (otherwise it would show a strong negative correlation with \"Severity = 2\")."
   ]
  },
  {
   "cell_type": "code",
   "execution_count": 40,
   "metadata": {
    "id": "2Zfz1FgUJXHD"
   },
   "outputs": [
    {
     "data": {
      "image/png": "[encoded data removed]",
      "text/plain": [
       "<Figure size 960x640 with 2 Axes>"
      ]
     },
     "metadata": {},
     "output_type": "display_data"
    }
   ],
   "source": [
    "weather_df = pd.get_dummies(cond_df.WEATHER).drop(columns = 'Unknown')\n",
    "roadcond_df = pd.get_dummies(cond_df.ROADCOND).drop(columns = 'Unknown')\n",
    "light_df = pd.get_dummies(cond_df.LIGHTCOND).drop(columns = 'Unknown')\n",
    "cond_df_environment = pd.concat([cond_df, weather_df, roadcond_df, light_df], axis=1).drop(columns=['SEVERITYCODE','WEATHER','ROADCOND','LIGHTCOND','Other', 'Severity = 1'])\n",
    "fig = plt.figure(num=None, figsize=(12, 8), dpi=80, facecolor='w', edgecolor='k')\n",
    "sns.set(font_scale=1)\n",
    "cmap = sns.diverging_palette(220, 20, as_cmap=True)\n",
    "sns.heatmap(cond_df_environment.corr(), cmap=cmap,annot=True, annot_kws={\"size\": 6}, vmin=-1, vmax=1);"
   ]
  },
  {
   "cell_type": "markdown",
   "metadata": {},
   "source": [
    "Even in this case we can see that there isn't a strong 1 to 1 correlation with any of these features.\n",
    "\n",
    "## 3.b Data cleaning and preparation for ML\n",
    "Analysing these features has been very useful in understanding how to clean up the data and organise the dataframe to proceed with the implementation of a classification algorithm (such as decision tree or logistic regression). \n",
    "We have identified and built several dataframes:\n",
    "- time_df with information on the time and date of accidents;\n",
    "- colltype_df with information on the type of collision;\n",
    "- cond_df_driver with information on the condition of the driver and other non-environmental factors;\n",
    "- cond_df_environment with information on the environmental conditions of the accidents.\n",
    "\n",
    "\n",
    "We can use these dataframes, combined, in a decision tree algorithm to predict the probability of future accidents given certain conditions."
   ]
  },
  {
   "cell_type": "code",
   "execution_count": 41,
   "metadata": {},
   "outputs": [
    {
     "data": {
      "text/html": [
       "<div>\n",
       "<style scoped>\n",
       "    .dataframe tbody tr th:only-of-type {\n",
       "        vertical-align: middle;\n",
       "    }\n",
       "\n",
       "    .dataframe tbody tr th {\n",
       "        vertical-align: top;\n",
       "    }\n",
       "\n",
       "    .dataframe thead th {\n",
       "        text-align: right;\n",
       "    }\n",
       "</style>\n",
       "<table border=\"1\" class=\"dataframe\">\n",
       "  <thead>\n",
       "    <tr style=\"text-align: right;\">\n",
       "      <th></th>\n",
       "      <th>Severity = 1</th>\n",
       "      <th>Severity = 2</th>\n",
       "      <th>Year</th>\n",
       "      <th>Hours</th>\n",
       "    </tr>\n",
       "  </thead>\n",
       "  <tbody>\n",
       "    <tr>\n",
       "      <th>0</th>\n",
       "      <td>0</td>\n",
       "      <td>1</td>\n",
       "      <td>2013</td>\n",
       "      <td>14</td>\n",
       "    </tr>\n",
       "    <tr>\n",
       "      <th>1</th>\n",
       "      <td>1</td>\n",
       "      <td>0</td>\n",
       "      <td>2006</td>\n",
       "      <td>18</td>\n",
       "    </tr>\n",
       "    <tr>\n",
       "      <th>2</th>\n",
       "      <td>1</td>\n",
       "      <td>0</td>\n",
       "      <td>2004</td>\n",
       "      <td>10</td>\n",
       "    </tr>\n",
       "    <tr>\n",
       "      <th>3</th>\n",
       "      <td>1</td>\n",
       "      <td>0</td>\n",
       "      <td>2013</td>\n",
       "      <td>9</td>\n",
       "    </tr>\n",
       "    <tr>\n",
       "      <th>4</th>\n",
       "      <td>0</td>\n",
       "      <td>1</td>\n",
       "      <td>2004</td>\n",
       "      <td>8</td>\n",
       "    </tr>\n",
       "  </tbody>\n",
       "</table>\n",
       "</div>"
      ],
      "text/plain": [
       "   Severity = 1  Severity = 2  Year  Hours\n",
       "0             0             1  2013     14\n",
       "1             1             0  2006     18\n",
       "2             1             0  2004     10\n",
       "3             1             0  2013      9\n",
       "4             0             1  2004      8"
      ]
     },
     "execution_count": 41,
     "metadata": {},
     "output_type": "execute_result"
    }
   ],
   "source": [
    "time_clean = time_df.drop(columns = ['SEVERITYCODE','INCDTTM','Time','Date','Month','Day','Minutes','Seconds'])\n",
    "time_clean = time_clean [['Severity = 1','Severity = 2','Year','Hours']]\n",
    "time_clean.head()"
   ]
  },
  {
   "cell_type": "code",
   "execution_count": 42,
   "metadata": {},
   "outputs": [
    {
     "data": {
      "text/html": [
       "<div>\n",
       "<style scoped>\n",
       "    .dataframe tbody tr th:only-of-type {\n",
       "        vertical-align: middle;\n",
       "    }\n",
       "\n",
       "    .dataframe tbody tr th {\n",
       "        vertical-align: top;\n",
       "    }\n",
       "\n",
       "    .dataframe thead th {\n",
       "        text-align: right;\n",
       "    }\n",
       "</style>\n",
       "<table border=\"1\" class=\"dataframe\">\n",
       "  <thead>\n",
       "    <tr style=\"text-align: right;\">\n",
       "      <th></th>\n",
       "      <th>COLLISIONTYPE</th>\n",
       "      <th>PERSONCOUNT</th>\n",
       "      <th>PEDCOUNT</th>\n",
       "      <th>PEDCYLCOUNT</th>\n",
       "      <th>VEHCOUNT</th>\n",
       "    </tr>\n",
       "  </thead>\n",
       "  <tbody>\n",
       "    <tr>\n",
       "      <th>0</th>\n",
       "      <td>Angles</td>\n",
       "      <td>2</td>\n",
       "      <td>0</td>\n",
       "      <td>0</td>\n",
       "      <td>2</td>\n",
       "    </tr>\n",
       "    <tr>\n",
       "      <th>1</th>\n",
       "      <td>Sideswipe</td>\n",
       "      <td>2</td>\n",
       "      <td>0</td>\n",
       "      <td>0</td>\n",
       "      <td>2</td>\n",
       "    </tr>\n",
       "    <tr>\n",
       "      <th>2</th>\n",
       "      <td>Parked Car</td>\n",
       "      <td>4</td>\n",
       "      <td>0</td>\n",
       "      <td>0</td>\n",
       "      <td>3</td>\n",
       "    </tr>\n",
       "    <tr>\n",
       "      <th>3</th>\n",
       "      <td>Other</td>\n",
       "      <td>3</td>\n",
       "      <td>0</td>\n",
       "      <td>0</td>\n",
       "      <td>3</td>\n",
       "    </tr>\n",
       "    <tr>\n",
       "      <th>4</th>\n",
       "      <td>Angles</td>\n",
       "      <td>2</td>\n",
       "      <td>0</td>\n",
       "      <td>0</td>\n",
       "      <td>2</td>\n",
       "    </tr>\n",
       "  </tbody>\n",
       "</table>\n",
       "</div>"
      ],
      "text/plain": [
       "  COLLISIONTYPE  PERSONCOUNT  PEDCOUNT  PEDCYLCOUNT  VEHCOUNT\n",
       "0        Angles            2         0            0         2\n",
       "1     Sideswipe            2         0            0         2\n",
       "2    Parked Car            4         0            0         3\n",
       "3         Other            3         0            0         3\n",
       "4        Angles            2         0            0         2"
      ]
     },
     "execution_count": 42,
     "metadata": {},
     "output_type": "execute_result"
    }
   ],
   "source": [
    "colltype_clean = colltype_df.drop(columns = ['SEVERITYCODE','Severity = 1','Severity = 2','Tot_collisions'])\n",
    "colltype_clean.head()"
   ]
  },
  {
   "cell_type": "code",
   "execution_count": 43,
   "metadata": {},
   "outputs": [
    {
     "data": {
      "text/html": [
       "<div>\n",
       "<style scoped>\n",
       "    .dataframe tbody tr th:only-of-type {\n",
       "        vertical-align: middle;\n",
       "    }\n",
       "\n",
       "    .dataframe tbody tr th {\n",
       "        vertical-align: top;\n",
       "    }\n",
       "\n",
       "    .dataframe thead th {\n",
       "        text-align: right;\n",
       "    }\n",
       "</style>\n",
       "<table border=\"1\" class=\"dataframe\">\n",
       "  <thead>\n",
       "    <tr style=\"text-align: right;\">\n",
       "      <th></th>\n",
       "      <th>INATTENTIONIND</th>\n",
       "      <th>UNDERINFL</th>\n",
       "      <th>PEDROWNOTGRNT</th>\n",
       "      <th>SPEEDING</th>\n",
       "      <th>HITPARKEDCAR</th>\n",
       "    </tr>\n",
       "  </thead>\n",
       "  <tbody>\n",
       "    <tr>\n",
       "      <th>0</th>\n",
       "      <td>0.0</td>\n",
       "      <td>0</td>\n",
       "      <td>0.0</td>\n",
       "      <td>0.0</td>\n",
       "      <td>0</td>\n",
       "    </tr>\n",
       "    <tr>\n",
       "      <th>1</th>\n",
       "      <td>0.0</td>\n",
       "      <td>0</td>\n",
       "      <td>0.0</td>\n",
       "      <td>0.0</td>\n",
       "      <td>0</td>\n",
       "    </tr>\n",
       "    <tr>\n",
       "      <th>2</th>\n",
       "      <td>0.0</td>\n",
       "      <td>0</td>\n",
       "      <td>0.0</td>\n",
       "      <td>0.0</td>\n",
       "      <td>0</td>\n",
       "    </tr>\n",
       "    <tr>\n",
       "      <th>3</th>\n",
       "      <td>0.0</td>\n",
       "      <td>0</td>\n",
       "      <td>0.0</td>\n",
       "      <td>0.0</td>\n",
       "      <td>0</td>\n",
       "    </tr>\n",
       "    <tr>\n",
       "      <th>4</th>\n",
       "      <td>0.0</td>\n",
       "      <td>0</td>\n",
       "      <td>0.0</td>\n",
       "      <td>0.0</td>\n",
       "      <td>0</td>\n",
       "    </tr>\n",
       "  </tbody>\n",
       "</table>\n",
       "</div>"
      ],
      "text/plain": [
       "   INATTENTIONIND UNDERINFL  PEDROWNOTGRNT  SPEEDING  HITPARKEDCAR\n",
       "0             0.0         0            0.0       0.0             0\n",
       "1             0.0         0            0.0       0.0             0\n",
       "2             0.0         0            0.0       0.0             0\n",
       "3             0.0         0            0.0       0.0             0\n",
       "4             0.0         0            0.0       0.0             0"
      ]
     },
     "execution_count": 43,
     "metadata": {},
     "output_type": "execute_result"
    }
   ],
   "source": [
    "cond_driver_clean = cond_df_driver.drop(columns = ['SEVERITYCODE','Severity = 1','Severity = 2'])\n",
    "cond_driver_clean.head()"
   ]
  },
  {
   "cell_type": "code",
   "execution_count": 44,
   "metadata": {},
   "outputs": [
    {
     "data": {
      "text/html": [
       "<div>\n",
       "<style scoped>\n",
       "    .dataframe tbody tr th:only-of-type {\n",
       "        vertical-align: middle;\n",
       "    }\n",
       "\n",
       "    .dataframe tbody tr th {\n",
       "        vertical-align: top;\n",
       "    }\n",
       "\n",
       "    .dataframe thead th {\n",
       "        text-align: right;\n",
       "    }\n",
       "</style>\n",
       "<table border=\"1\" class=\"dataframe\">\n",
       "  <thead>\n",
       "    <tr style=\"text-align: right;\">\n",
       "      <th></th>\n",
       "      <th>Blowing Sand/Dirt</th>\n",
       "      <th>Clear</th>\n",
       "      <th>Fog/Smog/Smoke</th>\n",
       "      <th>Overcast</th>\n",
       "      <th>Partly Cloudy</th>\n",
       "      <th>Raining</th>\n",
       "      <th>Severe Crosswind</th>\n",
       "      <th>Sleet/Hail/Freezing Rain</th>\n",
       "      <th>Snowing</th>\n",
       "      <th>Dry</th>\n",
       "      <th>...</th>\n",
       "      <th>Snow/Slush</th>\n",
       "      <th>Standing Water</th>\n",
       "      <th>Wet</th>\n",
       "      <th>Dark - No Street Lights</th>\n",
       "      <th>Dark - Street Lights Off</th>\n",
       "      <th>Dark - Street Lights On</th>\n",
       "      <th>Dark - Unknown Lighting</th>\n",
       "      <th>Dawn</th>\n",
       "      <th>Daylight</th>\n",
       "      <th>Dusk</th>\n",
       "    </tr>\n",
       "  </thead>\n",
       "  <tbody>\n",
       "    <tr>\n",
       "      <th>0</th>\n",
       "      <td>0</td>\n",
       "      <td>0</td>\n",
       "      <td>0</td>\n",
       "      <td>1</td>\n",
       "      <td>0</td>\n",
       "      <td>0</td>\n",
       "      <td>0</td>\n",
       "      <td>0</td>\n",
       "      <td>0</td>\n",
       "      <td>0</td>\n",
       "      <td>...</td>\n",
       "      <td>0</td>\n",
       "      <td>0</td>\n",
       "      <td>1</td>\n",
       "      <td>0</td>\n",
       "      <td>0</td>\n",
       "      <td>0</td>\n",
       "      <td>0</td>\n",
       "      <td>0</td>\n",
       "      <td>1</td>\n",
       "      <td>0</td>\n",
       "    </tr>\n",
       "    <tr>\n",
       "      <th>1</th>\n",
       "      <td>0</td>\n",
       "      <td>0</td>\n",
       "      <td>0</td>\n",
       "      <td>0</td>\n",
       "      <td>0</td>\n",
       "      <td>1</td>\n",
       "      <td>0</td>\n",
       "      <td>0</td>\n",
       "      <td>0</td>\n",
       "      <td>0</td>\n",
       "      <td>...</td>\n",
       "      <td>0</td>\n",
       "      <td>0</td>\n",
       "      <td>1</td>\n",
       "      <td>0</td>\n",
       "      <td>0</td>\n",
       "      <td>1</td>\n",
       "      <td>0</td>\n",
       "      <td>0</td>\n",
       "      <td>0</td>\n",
       "      <td>0</td>\n",
       "    </tr>\n",
       "    <tr>\n",
       "      <th>2</th>\n",
       "      <td>0</td>\n",
       "      <td>0</td>\n",
       "      <td>0</td>\n",
       "      <td>1</td>\n",
       "      <td>0</td>\n",
       "      <td>0</td>\n",
       "      <td>0</td>\n",
       "      <td>0</td>\n",
       "      <td>0</td>\n",
       "      <td>1</td>\n",
       "      <td>...</td>\n",
       "      <td>0</td>\n",
       "      <td>0</td>\n",
       "      <td>0</td>\n",
       "      <td>0</td>\n",
       "      <td>0</td>\n",
       "      <td>0</td>\n",
       "      <td>0</td>\n",
       "      <td>0</td>\n",
       "      <td>1</td>\n",
       "      <td>0</td>\n",
       "    </tr>\n",
       "    <tr>\n",
       "      <th>3</th>\n",
       "      <td>0</td>\n",
       "      <td>1</td>\n",
       "      <td>0</td>\n",
       "      <td>0</td>\n",
       "      <td>0</td>\n",
       "      <td>0</td>\n",
       "      <td>0</td>\n",
       "      <td>0</td>\n",
       "      <td>0</td>\n",
       "      <td>1</td>\n",
       "      <td>...</td>\n",
       "      <td>0</td>\n",
       "      <td>0</td>\n",
       "      <td>0</td>\n",
       "      <td>0</td>\n",
       "      <td>0</td>\n",
       "      <td>0</td>\n",
       "      <td>0</td>\n",
       "      <td>0</td>\n",
       "      <td>1</td>\n",
       "      <td>0</td>\n",
       "    </tr>\n",
       "    <tr>\n",
       "      <th>4</th>\n",
       "      <td>0</td>\n",
       "      <td>0</td>\n",
       "      <td>0</td>\n",
       "      <td>0</td>\n",
       "      <td>0</td>\n",
       "      <td>1</td>\n",
       "      <td>0</td>\n",
       "      <td>0</td>\n",
       "      <td>0</td>\n",
       "      <td>0</td>\n",
       "      <td>...</td>\n",
       "      <td>0</td>\n",
       "      <td>0</td>\n",
       "      <td>1</td>\n",
       "      <td>0</td>\n",
       "      <td>0</td>\n",
       "      <td>0</td>\n",
       "      <td>0</td>\n",
       "      <td>0</td>\n",
       "      <td>1</td>\n",
       "      <td>0</td>\n",
       "    </tr>\n",
       "  </tbody>\n",
       "</table>\n",
       "<p>5 rows × 23 columns</p>\n",
       "</div>"
      ],
      "text/plain": [
       "   Blowing Sand/Dirt  Clear  Fog/Smog/Smoke  Overcast  Partly Cloudy  Raining  \\\n",
       "0                  0      0               0         1              0        0   \n",
       "1                  0      0               0         0              0        1   \n",
       "2                  0      0               0         1              0        0   \n",
       "3                  0      1               0         0              0        0   \n",
       "4                  0      0               0         0              0        1   \n",
       "\n",
       "   Severe Crosswind  Sleet/Hail/Freezing Rain  Snowing  Dry  ...  Snow/Slush  \\\n",
       "0                 0                         0        0    0  ...           0   \n",
       "1                 0                         0        0    0  ...           0   \n",
       "2                 0                         0        0    1  ...           0   \n",
       "3                 0                         0        0    1  ...           0   \n",
       "4                 0                         0        0    0  ...           0   \n",
       "\n",
       "   Standing Water  Wet  Dark - No Street Lights  Dark - Street Lights Off  \\\n",
       "0               0    1                        0                         0   \n",
       "1               0    1                        0                         0   \n",
       "2               0    0                        0                         0   \n",
       "3               0    0                        0                         0   \n",
       "4               0    1                        0                         0   \n",
       "\n",
       "   Dark - Street Lights On  Dark - Unknown Lighting  Dawn  Daylight  Dusk  \n",
       "0                        0                        0     0         1     0  \n",
       "1                        1                        0     0         0     0  \n",
       "2                        0                        0     0         1     0  \n",
       "3                        0                        0     0         1     0  \n",
       "4                        0                        0     0         1     0  \n",
       "\n",
       "[5 rows x 23 columns]"
      ]
     },
     "execution_count": 44,
     "metadata": {},
     "output_type": "execute_result"
    }
   ],
   "source": [
    "cond_env_clean = cond_df_environment.drop(columns = ['INATTENTIONIND','UNDERINFL','PEDROWNOTGRNT','SPEEDING','HITPARKEDCAR','Severity = 2'])\n",
    "cond_env_clean.head()"
   ]
  },
  {
   "cell_type": "code",
   "execution_count": 45,
   "metadata": {},
   "outputs": [
    {
     "data": {
      "text/html": [
       "<div>\n",
       "<style scoped>\n",
       "    .dataframe tbody tr th:only-of-type {\n",
       "        vertical-align: middle;\n",
       "    }\n",
       "\n",
       "    .dataframe tbody tr th {\n",
       "        vertical-align: top;\n",
       "    }\n",
       "\n",
       "    .dataframe thead th {\n",
       "        text-align: right;\n",
       "    }\n",
       "</style>\n",
       "<table border=\"1\" class=\"dataframe\">\n",
       "  <thead>\n",
       "    <tr style=\"text-align: right;\">\n",
       "      <th></th>\n",
       "      <th>Severity = 1</th>\n",
       "      <th>Severity = 2</th>\n",
       "      <th>Year</th>\n",
       "      <th>Hours</th>\n",
       "      <th>Angles</th>\n",
       "      <th>Cycles</th>\n",
       "      <th>Head On</th>\n",
       "      <th>Left Turn</th>\n",
       "      <th>Other</th>\n",
       "      <th>Parked Car</th>\n",
       "      <th>...</th>\n",
       "      <th>Snow/Slush</th>\n",
       "      <th>Standing Water</th>\n",
       "      <th>Wet</th>\n",
       "      <th>Dark - No Street Lights</th>\n",
       "      <th>Dark - Street Lights Off</th>\n",
       "      <th>Dark - Street Lights On</th>\n",
       "      <th>Dark - Unknown Lighting</th>\n",
       "      <th>Dawn</th>\n",
       "      <th>Daylight</th>\n",
       "      <th>Dusk</th>\n",
       "    </tr>\n",
       "  </thead>\n",
       "  <tbody>\n",
       "    <tr>\n",
       "      <th>0</th>\n",
       "      <td>0</td>\n",
       "      <td>1</td>\n",
       "      <td>2013</td>\n",
       "      <td>14</td>\n",
       "      <td>1</td>\n",
       "      <td>0</td>\n",
       "      <td>0</td>\n",
       "      <td>0</td>\n",
       "      <td>0</td>\n",
       "      <td>0</td>\n",
       "      <td>...</td>\n",
       "      <td>0</td>\n",
       "      <td>0</td>\n",
       "      <td>1</td>\n",
       "      <td>0</td>\n",
       "      <td>0</td>\n",
       "      <td>0</td>\n",
       "      <td>0</td>\n",
       "      <td>0</td>\n",
       "      <td>1</td>\n",
       "      <td>0</td>\n",
       "    </tr>\n",
       "    <tr>\n",
       "      <th>1</th>\n",
       "      <td>1</td>\n",
       "      <td>0</td>\n",
       "      <td>2006</td>\n",
       "      <td>18</td>\n",
       "      <td>0</td>\n",
       "      <td>0</td>\n",
       "      <td>0</td>\n",
       "      <td>0</td>\n",
       "      <td>0</td>\n",
       "      <td>0</td>\n",
       "      <td>...</td>\n",
       "      <td>0</td>\n",
       "      <td>0</td>\n",
       "      <td>1</td>\n",
       "      <td>0</td>\n",
       "      <td>0</td>\n",
       "      <td>1</td>\n",
       "      <td>0</td>\n",
       "      <td>0</td>\n",
       "      <td>0</td>\n",
       "      <td>0</td>\n",
       "    </tr>\n",
       "    <tr>\n",
       "      <th>2</th>\n",
       "      <td>1</td>\n",
       "      <td>0</td>\n",
       "      <td>2004</td>\n",
       "      <td>10</td>\n",
       "      <td>0</td>\n",
       "      <td>0</td>\n",
       "      <td>0</td>\n",
       "      <td>0</td>\n",
       "      <td>0</td>\n",
       "      <td>1</td>\n",
       "      <td>...</td>\n",
       "      <td>0</td>\n",
       "      <td>0</td>\n",
       "      <td>0</td>\n",
       "      <td>0</td>\n",
       "      <td>0</td>\n",
       "      <td>0</td>\n",
       "      <td>0</td>\n",
       "      <td>0</td>\n",
       "      <td>1</td>\n",
       "      <td>0</td>\n",
       "    </tr>\n",
       "    <tr>\n",
       "      <th>3</th>\n",
       "      <td>1</td>\n",
       "      <td>0</td>\n",
       "      <td>2013</td>\n",
       "      <td>9</td>\n",
       "      <td>0</td>\n",
       "      <td>0</td>\n",
       "      <td>0</td>\n",
       "      <td>0</td>\n",
       "      <td>1</td>\n",
       "      <td>0</td>\n",
       "      <td>...</td>\n",
       "      <td>0</td>\n",
       "      <td>0</td>\n",
       "      <td>0</td>\n",
       "      <td>0</td>\n",
       "      <td>0</td>\n",
       "      <td>0</td>\n",
       "      <td>0</td>\n",
       "      <td>0</td>\n",
       "      <td>1</td>\n",
       "      <td>0</td>\n",
       "    </tr>\n",
       "    <tr>\n",
       "      <th>4</th>\n",
       "      <td>0</td>\n",
       "      <td>1</td>\n",
       "      <td>2004</td>\n",
       "      <td>8</td>\n",
       "      <td>1</td>\n",
       "      <td>0</td>\n",
       "      <td>0</td>\n",
       "      <td>0</td>\n",
       "      <td>0</td>\n",
       "      <td>0</td>\n",
       "      <td>...</td>\n",
       "      <td>0</td>\n",
       "      <td>0</td>\n",
       "      <td>1</td>\n",
       "      <td>0</td>\n",
       "      <td>0</td>\n",
       "      <td>0</td>\n",
       "      <td>0</td>\n",
       "      <td>0</td>\n",
       "      <td>1</td>\n",
       "      <td>0</td>\n",
       "    </tr>\n",
       "  </tbody>\n",
       "</table>\n",
       "<p>5 rows × 42 columns</p>\n",
       "</div>"
      ],
      "text/plain": [
       "   Severity = 1  Severity = 2  Year  Hours  Angles  Cycles  Head On  \\\n",
       "0             0             1  2013     14       1       0        0   \n",
       "1             1             0  2006     18       0       0        0   \n",
       "2             1             0  2004     10       0       0        0   \n",
       "3             1             0  2013      9       0       0        0   \n",
       "4             0             1  2004      8       1       0        0   \n",
       "\n",
       "   Left Turn  Other  Parked Car  ...  Snow/Slush  Standing Water  Wet  \\\n",
       "0          0      0           0  ...           0               0    1   \n",
       "1          0      0           0  ...           0               0    1   \n",
       "2          0      0           1  ...           0               0    0   \n",
       "3          0      1           0  ...           0               0    0   \n",
       "4          0      0           0  ...           0               0    1   \n",
       "\n",
       "   Dark - No Street Lights  Dark - Street Lights Off Dark - Street Lights On  \\\n",
       "0                        0                         0                       0   \n",
       "1                        0                         0                       1   \n",
       "2                        0                         0                       0   \n",
       "3                        0                         0                       0   \n",
       "4                        0                         0                       0   \n",
       "\n",
       "   Dark - Unknown Lighting  Dawn  Daylight  Dusk  \n",
       "0                        0     0         1     0  \n",
       "1                        0     0         0     0  \n",
       "2                        0     0         1     0  \n",
       "3                        0     0         1     0  \n",
       "4                        0     0         1     0  \n",
       "\n",
       "[5 rows x 42 columns]"
      ]
     },
     "execution_count": 45,
     "metadata": {},
     "output_type": "execute_result"
    }
   ],
   "source": [
    "# We can stitch these 4 dataframes together and check how to clean the data\n",
    "coll_clean = pd.concat([time_clean, pd.get_dummies(colltype_clean.COLLISIONTYPE), cond_driver_clean, cond_env_clean], axis=1)\n",
    "coll_clean.head()"
   ]
  },
  {
   "cell_type": "markdown",
   "metadata": {},
   "source": [
    "Now we see how many NaN values there are in this dataframe for each column."
   ]
  },
  {
   "cell_type": "code",
   "execution_count": 46,
   "metadata": {},
   "outputs": [
    {
     "name": "stdout",
     "output_type": "stream",
     "text": [
      "---- Severity = 1 ---\n",
      "is nan: 0\n",
      "---- Severity = 2 ---\n",
      "is nan: 0\n",
      "---- Year ---\n",
      "is nan: 0\n",
      "---- Hours ---\n",
      "is nan: 0\n",
      "---- Angles ---\n",
      "is nan: 0\n",
      "---- Cycles ---\n",
      "is nan: 0\n",
      "---- Head On ---\n",
      "is nan: 0\n",
      "---- Left Turn ---\n",
      "is nan: 0\n",
      "---- Other ---\n",
      "is nan: 0\n",
      "---- Parked Car ---\n",
      "is nan: 0\n",
      "---- Pedestrian ---\n",
      "is nan: 0\n",
      "---- Rear Ended ---\n",
      "is nan: 0\n",
      "---- Right Turn ---\n",
      "is nan: 0\n",
      "---- Sideswipe ---\n",
      "is nan: 0\n",
      "---- INATTENTIONIND ---\n",
      "is nan: 0\n",
      "---- UNDERINFL ---\n",
      "is nan: 4884\n",
      "---- PEDROWNOTGRNT ---\n",
      "is nan: 0\n",
      "---- SPEEDING ---\n",
      "is nan: 0\n",
      "---- HITPARKEDCAR ---\n",
      "is nan: 0\n",
      "---- Blowing Sand/Dirt ---\n",
      "is nan: 0\n",
      "---- Clear ---\n",
      "is nan: 0\n",
      "---- Fog/Smog/Smoke ---\n",
      "is nan: 0\n",
      "---- Overcast ---\n",
      "is nan: 0\n",
      "---- Partly Cloudy ---\n",
      "is nan: 0\n",
      "---- Raining ---\n",
      "is nan: 0\n",
      "---- Severe Crosswind ---\n",
      "is nan: 0\n",
      "---- Sleet/Hail/Freezing Rain ---\n",
      "is nan: 0\n",
      "---- Snowing ---\n",
      "is nan: 0\n",
      "---- Dry ---\n",
      "is nan: 0\n",
      "---- Ice ---\n",
      "is nan: 0\n",
      "---- Oil ---\n",
      "is nan: 0\n",
      "---- Sand/Mud/Dirt ---\n",
      "is nan: 0\n",
      "---- Snow/Slush ---\n",
      "is nan: 0\n",
      "---- Standing Water ---\n",
      "is nan: 0\n",
      "---- Wet ---\n",
      "is nan: 0\n",
      "---- Dark - No Street Lights ---\n",
      "is nan: 0\n",
      "---- Dark - Street Lights Off ---\n",
      "is nan: 0\n",
      "---- Dark - Street Lights On ---\n",
      "is nan: 0\n",
      "---- Dark - Unknown Lighting ---\n",
      "is nan: 0\n",
      "---- Dawn ---\n",
      "is nan: 0\n",
      "---- Daylight ---\n",
      "is nan: 0\n",
      "---- Dusk ---\n",
      "is nan: 0\n"
     ]
    }
   ],
   "source": [
    "for c in coll_clean.columns:\n",
    "    print (\"---- %s ---\" % c)\n",
    "    print (\"is nan:\", coll_clean[c].isnull().sum())"
   ]
  },
  {
   "cell_type": "markdown",
   "metadata": {},
   "source": [
    "We notice there are 4884 NaN for UNDERINFL feature. We get rid of these NaN and then check the dataframe again."
   ]
  },
  {
   "cell_type": "code",
   "execution_count": 47,
   "metadata": {},
   "outputs": [
    {
     "name": "stdout",
     "output_type": "stream",
     "text": [
      "---- Severity = 1 ---\n",
      "is nan: 0\n",
      "---- Severity = 2 ---\n",
      "is nan: 0\n",
      "---- Year ---\n",
      "is nan: 0\n",
      "---- Hours ---\n",
      "is nan: 0\n",
      "---- Angles ---\n",
      "is nan: 0\n",
      "---- Cycles ---\n",
      "is nan: 0\n",
      "---- Head On ---\n",
      "is nan: 0\n",
      "---- Left Turn ---\n",
      "is nan: 0\n",
      "---- Other ---\n",
      "is nan: 0\n",
      "---- Parked Car ---\n",
      "is nan: 0\n",
      "---- Pedestrian ---\n",
      "is nan: 0\n",
      "---- Rear Ended ---\n",
      "is nan: 0\n",
      "---- Right Turn ---\n",
      "is nan: 0\n",
      "---- Sideswipe ---\n",
      "is nan: 0\n",
      "---- INATTENTIONIND ---\n",
      "is nan: 0\n",
      "---- UNDERINFL ---\n",
      "is nan: 0\n",
      "---- PEDROWNOTGRNT ---\n",
      "is nan: 0\n",
      "---- SPEEDING ---\n",
      "is nan: 0\n",
      "---- HITPARKEDCAR ---\n",
      "is nan: 0\n",
      "---- Blowing Sand/Dirt ---\n",
      "is nan: 0\n",
      "---- Clear ---\n",
      "is nan: 0\n",
      "---- Fog/Smog/Smoke ---\n",
      "is nan: 0\n",
      "---- Overcast ---\n",
      "is nan: 0\n",
      "---- Partly Cloudy ---\n",
      "is nan: 0\n",
      "---- Raining ---\n",
      "is nan: 0\n",
      "---- Severe Crosswind ---\n",
      "is nan: 0\n",
      "---- Sleet/Hail/Freezing Rain ---\n",
      "is nan: 0\n",
      "---- Snowing ---\n",
      "is nan: 0\n",
      "---- Dry ---\n",
      "is nan: 0\n",
      "---- Ice ---\n",
      "is nan: 0\n",
      "---- Oil ---\n",
      "is nan: 0\n",
      "---- Sand/Mud/Dirt ---\n",
      "is nan: 0\n",
      "---- Snow/Slush ---\n",
      "is nan: 0\n",
      "---- Standing Water ---\n",
      "is nan: 0\n",
      "---- Wet ---\n",
      "is nan: 0\n",
      "---- Dark - No Street Lights ---\n",
      "is nan: 0\n",
      "---- Dark - Street Lights Off ---\n",
      "is nan: 0\n",
      "---- Dark - Street Lights On ---\n",
      "is nan: 0\n",
      "---- Dark - Unknown Lighting ---\n",
      "is nan: 0\n",
      "---- Dawn ---\n",
      "is nan: 0\n",
      "---- Daylight ---\n",
      "is nan: 0\n",
      "---- Dusk ---\n",
      "is nan: 0\n"
     ]
    }
   ],
   "source": [
    "coll_clean = coll_clean.dropna(axis=0)\n",
    "for c in coll_clean.columns:\n",
    "    print (\"---- %s ---\" % c)\n",
    "    print (\"is nan:\", coll_clean[c].isnull().sum())"
   ]
  },
  {
   "cell_type": "markdown",
   "metadata": {},
   "source": [
    "There are now 0 NaN in the whole dataframe. We now turn our attention to the Severity 1 and Severity 2 feature to check if the dataframe is imbalanced or not."
   ]
  },
  {
   "cell_type": "code",
   "execution_count": 48,
   "metadata": {},
   "outputs": [
    {
     "name": "stdout",
     "output_type": "stream",
     "text": [
      "Sum of Severity 1 accidents:  132630\n",
      "Sum of Severity 2 accidents:  57159\n",
      "Percentages of Severity 1 wrt to total number of accidents:  69.8828699239682  %\n",
      "Percentages of Severity 2 wrt to total number of accidents:  30.117130076031806  %\n"
     ]
    }
   ],
   "source": [
    "print(\"Sum of Severity 1 accidents: \", coll_clean['Severity = 1'].sum())\n",
    "print(\"Sum of Severity 2 accidents: \", coll_clean['Severity = 2'].sum())\n",
    "perc_sev1 = coll_clean['Severity = 1'].sum() / ((coll_clean['Severity = 1'].sum()) + (coll_clean['Severity = 2'].sum()))\n",
    "print(\"Percentages of Severity 1 wrt to total number of accidents: \", perc_sev1*100, \" %\")\n",
    "print(\"Percentages of Severity 2 wrt to total number of accidents: \", (1-perc_sev1)*100, \" %\")"
   ]
  },
  {
   "cell_type": "markdown",
   "metadata": {},
   "source": [
    "We see that the dataframe is actually imbalanced and so we perform an __undersampling__ following the instructions [here](https://www.kaggle.com/rafjaa/resampling-strategies-for-imbalanced-datasets#t1)."
   ]
  },
  {
   "cell_type": "code",
   "execution_count": 49,
   "metadata": {},
   "outputs": [
    {
     "data": {
      "text/plain": [
       "0    132630\n",
       "1     57159\n",
       "Name: Severity = 2, dtype: int64"
      ]
     },
     "execution_count": 49,
     "metadata": {},
     "output_type": "execute_result"
    }
   ],
   "source": [
    "coll_clean['Severity = 2'].value_counts()"
   ]
  },
  {
   "cell_type": "code",
   "execution_count": 50,
   "metadata": {},
   "outputs": [],
   "source": [
    "# Class count\n",
    "count_class_0, count_class_1 = coll_clean['Severity = 2'].value_counts()\n",
    "\n",
    "# Divide by class\n",
    "df_class_0 = coll_clean[coll_clean['Severity = 2'] == 0]\n",
    "df_class_1 = coll_clean[coll_clean['Severity = 2'] == 1]"
   ]
  },
  {
   "cell_type": "code",
   "execution_count": 51,
   "metadata": {},
   "outputs": [
    {
     "name": "stdout",
     "output_type": "stream",
     "text": [
      "Random under-sampling:\n",
      "1    57159\n",
      "0    57159\n",
      "Name: Severity = 2, dtype: int64\n"
     ]
    },
    {
     "data": {
      "image/png": "[encoded data removed]",
      "text/plain": [
       "<Figure size 432x288 with 1 Axes>"
      ]
     },
     "metadata": {},
     "output_type": "display_data"
    }
   ],
   "source": [
    "df_class_0_under = df_class_0.sample(count_class_1)\n",
    "coll_clean_under = pd.concat([df_class_0_under, df_class_1], axis=0)\n",
    "\n",
    "print('Random under-sampling:')\n",
    "print(coll_clean_under['Severity = 2'].value_counts())\n",
    "\n",
    "coll_clean_under['Severity = 2'].value_counts().plot(kind='bar', title='Count ''Severity = 2''');"
   ]
  },
  {
   "cell_type": "code",
   "execution_count": 52,
   "metadata": {},
   "outputs": [
    {
     "data": {
      "text/plain": [
       "1    57159\n",
       "0    57159\n",
       "Name: Severity = 2, dtype: int64"
      ]
     },
     "execution_count": 52,
     "metadata": {},
     "output_type": "execute_result"
    }
   ],
   "source": [
    "coll_clean_under['Severity = 2'].value_counts()"
   ]
  },
  {
   "cell_type": "markdown",
   "metadata": {},
   "source": [
    "Now that we have a balanced dataframe, we can now drop the column \"Severity = 1\" as we will only use \"Severity = 2\" as label."
   ]
  },
  {
   "cell_type": "code",
   "execution_count": 53,
   "metadata": {},
   "outputs": [
    {
     "data": {
      "text/html": [
       "<div>\n",
       "<style scoped>\n",
       "    .dataframe tbody tr th:only-of-type {\n",
       "        vertical-align: middle;\n",
       "    }\n",
       "\n",
       "    .dataframe tbody tr th {\n",
       "        vertical-align: top;\n",
       "    }\n",
       "\n",
       "    .dataframe thead th {\n",
       "        text-align: right;\n",
       "    }\n",
       "</style>\n",
       "<table border=\"1\" class=\"dataframe\">\n",
       "  <thead>\n",
       "    <tr style=\"text-align: right;\">\n",
       "      <th></th>\n",
       "      <th>Severity = 2</th>\n",
       "      <th>Year</th>\n",
       "      <th>Hours</th>\n",
       "      <th>Angles</th>\n",
       "      <th>Cycles</th>\n",
       "      <th>Head On</th>\n",
       "      <th>Left Turn</th>\n",
       "      <th>Other</th>\n",
       "      <th>Parked Car</th>\n",
       "      <th>Pedestrian</th>\n",
       "      <th>...</th>\n",
       "      <th>Snow/Slush</th>\n",
       "      <th>Standing Water</th>\n",
       "      <th>Wet</th>\n",
       "      <th>Dark - No Street Lights</th>\n",
       "      <th>Dark - Street Lights Off</th>\n",
       "      <th>Dark - Street Lights On</th>\n",
       "      <th>Dark - Unknown Lighting</th>\n",
       "      <th>Dawn</th>\n",
       "      <th>Daylight</th>\n",
       "      <th>Dusk</th>\n",
       "    </tr>\n",
       "  </thead>\n",
       "  <tbody>\n",
       "    <tr>\n",
       "      <th>0</th>\n",
       "      <td>0</td>\n",
       "      <td>2006</td>\n",
       "      <td>15</td>\n",
       "      <td>0</td>\n",
       "      <td>0</td>\n",
       "      <td>0</td>\n",
       "      <td>0</td>\n",
       "      <td>0</td>\n",
       "      <td>0</td>\n",
       "      <td>0</td>\n",
       "      <td>...</td>\n",
       "      <td>0</td>\n",
       "      <td>0</td>\n",
       "      <td>0</td>\n",
       "      <td>0</td>\n",
       "      <td>0</td>\n",
       "      <td>0</td>\n",
       "      <td>0</td>\n",
       "      <td>0</td>\n",
       "      <td>0</td>\n",
       "      <td>1</td>\n",
       "    </tr>\n",
       "    <tr>\n",
       "      <th>1</th>\n",
       "      <td>0</td>\n",
       "      <td>2013</td>\n",
       "      <td>16</td>\n",
       "      <td>0</td>\n",
       "      <td>0</td>\n",
       "      <td>0</td>\n",
       "      <td>0</td>\n",
       "      <td>0</td>\n",
       "      <td>1</td>\n",
       "      <td>0</td>\n",
       "      <td>...</td>\n",
       "      <td>0</td>\n",
       "      <td>0</td>\n",
       "      <td>0</td>\n",
       "      <td>0</td>\n",
       "      <td>0</td>\n",
       "      <td>0</td>\n",
       "      <td>0</td>\n",
       "      <td>0</td>\n",
       "      <td>1</td>\n",
       "      <td>0</td>\n",
       "    </tr>\n",
       "    <tr>\n",
       "      <th>2</th>\n",
       "      <td>0</td>\n",
       "      <td>2011</td>\n",
       "      <td>23</td>\n",
       "      <td>0</td>\n",
       "      <td>0</td>\n",
       "      <td>0</td>\n",
       "      <td>0</td>\n",
       "      <td>0</td>\n",
       "      <td>0</td>\n",
       "      <td>0</td>\n",
       "      <td>...</td>\n",
       "      <td>0</td>\n",
       "      <td>0</td>\n",
       "      <td>0</td>\n",
       "      <td>0</td>\n",
       "      <td>0</td>\n",
       "      <td>1</td>\n",
       "      <td>0</td>\n",
       "      <td>0</td>\n",
       "      <td>0</td>\n",
       "      <td>0</td>\n",
       "    </tr>\n",
       "    <tr>\n",
       "      <th>3</th>\n",
       "      <td>0</td>\n",
       "      <td>2014</td>\n",
       "      <td>17</td>\n",
       "      <td>0</td>\n",
       "      <td>0</td>\n",
       "      <td>0</td>\n",
       "      <td>0</td>\n",
       "      <td>0</td>\n",
       "      <td>0</td>\n",
       "      <td>0</td>\n",
       "      <td>...</td>\n",
       "      <td>0</td>\n",
       "      <td>0</td>\n",
       "      <td>0</td>\n",
       "      <td>0</td>\n",
       "      <td>0</td>\n",
       "      <td>1</td>\n",
       "      <td>0</td>\n",
       "      <td>0</td>\n",
       "      <td>0</td>\n",
       "      <td>0</td>\n",
       "    </tr>\n",
       "    <tr>\n",
       "      <th>4</th>\n",
       "      <td>0</td>\n",
       "      <td>2020</td>\n",
       "      <td>17</td>\n",
       "      <td>0</td>\n",
       "      <td>0</td>\n",
       "      <td>0</td>\n",
       "      <td>0</td>\n",
       "      <td>0</td>\n",
       "      <td>0</td>\n",
       "      <td>0</td>\n",
       "      <td>...</td>\n",
       "      <td>0</td>\n",
       "      <td>0</td>\n",
       "      <td>0</td>\n",
       "      <td>0</td>\n",
       "      <td>0</td>\n",
       "      <td>0</td>\n",
       "      <td>0</td>\n",
       "      <td>0</td>\n",
       "      <td>1</td>\n",
       "      <td>0</td>\n",
       "    </tr>\n",
       "  </tbody>\n",
       "</table>\n",
       "<p>5 rows × 41 columns</p>\n",
       "</div>"
      ],
      "text/plain": [
       "   Severity = 2  Year  Hours  Angles  Cycles  Head On  Left Turn  Other  \\\n",
       "0             0  2006     15       0       0        0          0      0   \n",
       "1             0  2013     16       0       0        0          0      0   \n",
       "2             0  2011     23       0       0        0          0      0   \n",
       "3             0  2014     17       0       0        0          0      0   \n",
       "4             0  2020     17       0       0        0          0      0   \n",
       "\n",
       "   Parked Car  Pedestrian  ...  Snow/Slush  Standing Water  Wet  \\\n",
       "0           0           0  ...           0               0    0   \n",
       "1           1           0  ...           0               0    0   \n",
       "2           0           0  ...           0               0    0   \n",
       "3           0           0  ...           0               0    0   \n",
       "4           0           0  ...           0               0    0   \n",
       "\n",
       "   Dark - No Street Lights Dark - Street Lights Off  Dark - Street Lights On  \\\n",
       "0                        0                        0                        0   \n",
       "1                        0                        0                        0   \n",
       "2                        0                        0                        1   \n",
       "3                        0                        0                        1   \n",
       "4                        0                        0                        0   \n",
       "\n",
       "   Dark - Unknown Lighting  Dawn  Daylight  Dusk  \n",
       "0                        0     0         0     1  \n",
       "1                        0     0         1     0  \n",
       "2                        0     0         0     0  \n",
       "3                        0     0         0     0  \n",
       "4                        0     0         1     0  \n",
       "\n",
       "[5 rows x 41 columns]"
      ]
     },
     "execution_count": 53,
     "metadata": {},
     "output_type": "execute_result"
    }
   ],
   "source": [
    "coll_clean_under = coll_clean_under.reset_index().drop(columns = 'index').drop(columns ='Severity = 1')\n",
    "coll_clean_under.shape\n",
    "coll_clean_under.head()"
   ]
  },
  {
   "cell_type": "code",
   "execution_count": 54,
   "metadata": {},
   "outputs": [],
   "source": [
    "## Getting rid of Year and Hours for now"
   ]
  },
  {
   "cell_type": "code",
   "execution_count": 55,
   "metadata": {},
   "outputs": [],
   "source": [
    "coll_clean_under = coll_clean_under.drop(columns = ['Year','Hours'])"
   ]
  },
  {
   "cell_type": "markdown",
   "metadata": {},
   "source": [
    "We now perform an __over-sampling__ to use both sampling techniques and compare them when using the machine learning algorithms."
   ]
  },
  {
   "cell_type": "code",
   "execution_count": 56,
   "metadata": {},
   "outputs": [
    {
     "name": "stdout",
     "output_type": "stream",
     "text": [
      "Random over-sampling:\n",
      "1    132630\n",
      "0    132630\n",
      "Name: Severity = 2, dtype: int64\n"
     ]
    },
    {
     "data": {
      "image/png": "[encoded data removed]",
      "text/plain": [
       "<Figure size 432x288 with 1 Axes>"
      ]
     },
     "metadata": {},
     "output_type": "display_data"
    }
   ],
   "source": [
    "df_class_1_over = df_class_1.sample(count_class_0, replace=True)\n",
    "coll_clean_over = pd.concat([df_class_0, df_class_1_over], axis=0)\n",
    "\n",
    "print('Random over-sampling:')\n",
    "print(coll_clean_over['Severity = 2'].value_counts())\n",
    "\n",
    "coll_clean_over['Severity = 2'].value_counts().plot(kind='bar', title='Count (target)');"
   ]
  },
  {
   "cell_type": "code",
   "execution_count": 57,
   "metadata": {},
   "outputs": [
    {
     "data": {
      "text/html": [
       "<div>\n",
       "<style scoped>\n",
       "    .dataframe tbody tr th:only-of-type {\n",
       "        vertical-align: middle;\n",
       "    }\n",
       "\n",
       "    .dataframe tbody tr th {\n",
       "        vertical-align: top;\n",
       "    }\n",
       "\n",
       "    .dataframe thead th {\n",
       "        text-align: right;\n",
       "    }\n",
       "</style>\n",
       "<table border=\"1\" class=\"dataframe\">\n",
       "  <thead>\n",
       "    <tr style=\"text-align: right;\">\n",
       "      <th></th>\n",
       "      <th>Severity = 2</th>\n",
       "      <th>Angles</th>\n",
       "      <th>Cycles</th>\n",
       "      <th>Head On</th>\n",
       "      <th>Left Turn</th>\n",
       "      <th>Other</th>\n",
       "      <th>Parked Car</th>\n",
       "      <th>Pedestrian</th>\n",
       "      <th>Rear Ended</th>\n",
       "      <th>Right Turn</th>\n",
       "      <th>...</th>\n",
       "      <th>Snow/Slush</th>\n",
       "      <th>Standing Water</th>\n",
       "      <th>Wet</th>\n",
       "      <th>Dark - No Street Lights</th>\n",
       "      <th>Dark - Street Lights Off</th>\n",
       "      <th>Dark - Street Lights On</th>\n",
       "      <th>Dark - Unknown Lighting</th>\n",
       "      <th>Dawn</th>\n",
       "      <th>Daylight</th>\n",
       "      <th>Dusk</th>\n",
       "    </tr>\n",
       "  </thead>\n",
       "  <tbody>\n",
       "    <tr>\n",
       "      <th>0</th>\n",
       "      <td>0</td>\n",
       "      <td>0</td>\n",
       "      <td>0</td>\n",
       "      <td>0</td>\n",
       "      <td>0</td>\n",
       "      <td>0</td>\n",
       "      <td>0</td>\n",
       "      <td>0</td>\n",
       "      <td>0</td>\n",
       "      <td>0</td>\n",
       "      <td>...</td>\n",
       "      <td>0</td>\n",
       "      <td>0</td>\n",
       "      <td>1</td>\n",
       "      <td>0</td>\n",
       "      <td>0</td>\n",
       "      <td>1</td>\n",
       "      <td>0</td>\n",
       "      <td>0</td>\n",
       "      <td>0</td>\n",
       "      <td>0</td>\n",
       "    </tr>\n",
       "    <tr>\n",
       "      <th>1</th>\n",
       "      <td>0</td>\n",
       "      <td>0</td>\n",
       "      <td>0</td>\n",
       "      <td>0</td>\n",
       "      <td>0</td>\n",
       "      <td>0</td>\n",
       "      <td>1</td>\n",
       "      <td>0</td>\n",
       "      <td>0</td>\n",
       "      <td>0</td>\n",
       "      <td>...</td>\n",
       "      <td>0</td>\n",
       "      <td>0</td>\n",
       "      <td>0</td>\n",
       "      <td>0</td>\n",
       "      <td>0</td>\n",
       "      <td>0</td>\n",
       "      <td>0</td>\n",
       "      <td>0</td>\n",
       "      <td>1</td>\n",
       "      <td>0</td>\n",
       "    </tr>\n",
       "    <tr>\n",
       "      <th>2</th>\n",
       "      <td>0</td>\n",
       "      <td>0</td>\n",
       "      <td>0</td>\n",
       "      <td>0</td>\n",
       "      <td>0</td>\n",
       "      <td>1</td>\n",
       "      <td>0</td>\n",
       "      <td>0</td>\n",
       "      <td>0</td>\n",
       "      <td>0</td>\n",
       "      <td>...</td>\n",
       "      <td>0</td>\n",
       "      <td>0</td>\n",
       "      <td>0</td>\n",
       "      <td>0</td>\n",
       "      <td>0</td>\n",
       "      <td>0</td>\n",
       "      <td>0</td>\n",
       "      <td>0</td>\n",
       "      <td>1</td>\n",
       "      <td>0</td>\n",
       "    </tr>\n",
       "    <tr>\n",
       "      <th>3</th>\n",
       "      <td>0</td>\n",
       "      <td>1</td>\n",
       "      <td>0</td>\n",
       "      <td>0</td>\n",
       "      <td>0</td>\n",
       "      <td>0</td>\n",
       "      <td>0</td>\n",
       "      <td>0</td>\n",
       "      <td>0</td>\n",
       "      <td>0</td>\n",
       "      <td>...</td>\n",
       "      <td>0</td>\n",
       "      <td>0</td>\n",
       "      <td>0</td>\n",
       "      <td>0</td>\n",
       "      <td>0</td>\n",
       "      <td>0</td>\n",
       "      <td>0</td>\n",
       "      <td>0</td>\n",
       "      <td>1</td>\n",
       "      <td>0</td>\n",
       "    </tr>\n",
       "    <tr>\n",
       "      <th>4</th>\n",
       "      <td>0</td>\n",
       "      <td>1</td>\n",
       "      <td>0</td>\n",
       "      <td>0</td>\n",
       "      <td>0</td>\n",
       "      <td>0</td>\n",
       "      <td>0</td>\n",
       "      <td>0</td>\n",
       "      <td>0</td>\n",
       "      <td>0</td>\n",
       "      <td>...</td>\n",
       "      <td>0</td>\n",
       "      <td>0</td>\n",
       "      <td>1</td>\n",
       "      <td>0</td>\n",
       "      <td>0</td>\n",
       "      <td>0</td>\n",
       "      <td>0</td>\n",
       "      <td>0</td>\n",
       "      <td>1</td>\n",
       "      <td>0</td>\n",
       "    </tr>\n",
       "  </tbody>\n",
       "</table>\n",
       "<p>5 rows × 39 columns</p>\n",
       "</div>"
      ],
      "text/plain": [
       "   Severity = 2  Angles  Cycles  Head On  Left Turn  Other  Parked Car  \\\n",
       "0             0       0       0        0          0      0           0   \n",
       "1             0       0       0        0          0      0           1   \n",
       "2             0       0       0        0          0      1           0   \n",
       "3             0       1       0        0          0      0           0   \n",
       "4             0       1       0        0          0      0           0   \n",
       "\n",
       "   Pedestrian  Rear Ended  Right Turn  ...  Snow/Slush  Standing Water Wet  \\\n",
       "0           0           0           0  ...           0               0   1   \n",
       "1           0           0           0  ...           0               0   0   \n",
       "2           0           0           0  ...           0               0   0   \n",
       "3           0           0           0  ...           0               0   0   \n",
       "4           0           0           0  ...           0               0   1   \n",
       "\n",
       "   Dark - No Street Lights  Dark - Street Lights Off  Dark - Street Lights On  \\\n",
       "0                        0                         0                        1   \n",
       "1                        0                         0                        0   \n",
       "2                        0                         0                        0   \n",
       "3                        0                         0                        0   \n",
       "4                        0                         0                        0   \n",
       "\n",
       "   Dark - Unknown Lighting  Dawn  Daylight  Dusk  \n",
       "0                        0     0         0     0  \n",
       "1                        0     0         1     0  \n",
       "2                        0     0         1     0  \n",
       "3                        0     0         1     0  \n",
       "4                        0     0         1     0  \n",
       "\n",
       "[5 rows x 39 columns]"
      ]
     },
     "execution_count": 57,
     "metadata": {},
     "output_type": "execute_result"
    }
   ],
   "source": [
    "coll_clean_over = coll_clean_over.reset_index().drop(columns = 'index').drop(columns ='Severity = 1')\n",
    "coll_clean_over = coll_clean_over.drop(columns = ['Year','Hours'])\n",
    "coll_clean_over.shape\n",
    "coll_clean_over.head()"
   ]
  },
  {
   "cell_type": "markdown",
   "metadata": {},
   "source": [
    "## 3.c Application of classification algorithms\n",
    "\n",
    "In our dataframe *coll_clean_under*, we now have identified 40 features ranging from environmental condition to time of the day and we're now trying to build a model that is capable of classifying accidents based on these features. \n",
    "We can try to employ different models like random forest classifier, decision tree and logistic regression.\n",
    "\n",
    "## 3.c.1 Decision Tree, Random Forest and Logistic Regression"
   ]
  },
  {
   "cell_type": "markdown",
   "metadata": {},
   "source": [
    "First thing is identifying label and features and then importing the relevant libraries."
   ]
  },
  {
   "cell_type": "code",
   "execution_count": 58,
   "metadata": {},
   "outputs": [],
   "source": [
    "X_under = coll_clean_under.loc[:, coll_clean_under.columns != 'Severity = 2']\n",
    "y_under = coll_clean_under['Severity = 2']"
   ]
  },
  {
   "cell_type": "code",
   "execution_count": 59,
   "metadata": {},
   "outputs": [],
   "source": [
    "from sklearn import tree\n",
    "from sklearn.tree import DecisionTreeClassifier\n",
    "from sklearn.model_selection import GridSearchCV\n",
    "from sklearn.model_selection import train_test_split\n",
    "from sklearn import metrics\n",
    "from sklearn import preprocessing\n",
    "from imblearn.over_sampling import SMOTE\n",
    "from sklearn.linear_model import LogisticRegression"
   ]
  },
  {
   "cell_type": "code",
   "execution_count": 61,
   "metadata": {},
   "outputs": [],
   "source": [
    "### Creating function to plot confusion matrix\n",
    "# Compute confusion matrix\n",
    "from sklearn.metrics import classification_report, confusion_matrix\n",
    "import itertools\n",
    "def plot_confusion_matrix(cm, classes,\n",
    "                          normalize=False,\n",
    "                          title='Confusion matrix',\n",
    "                          cmap=plt.cm.Blues):\n",
    "    \"\"\"\n",
    "    This function prints and plots the confusion matrix.\n",
    "    Normalization can be applied by setting `normalize=True`.\n",
    "    \"\"\"\n",
    "    if normalize:\n",
    "        cm = cm.astype('float') / cm.sum(axis=1)[:, np.newaxis]\n",
    "        print(\"Normalized confusion matrix\")\n",
    "    else:\n",
    "        print('Confusion matrix, without normalization')\n",
    "\n",
    "    print(cm)\n",
    "\n",
    "    plt.imshow(cm, interpolation='nearest', cmap=cmap)\n",
    "    plt.title(title)\n",
    "    plt.colorbar()\n",
    "    tick_marks = np.arange(len(classes))\n",
    "    plt.xticks(tick_marks, classes, rotation=45)\n",
    "    plt.yticks(tick_marks, classes)\n",
    "\n",
    "    fmt = '.2f' if normalize else 'd'\n",
    "    thresh = cm.max() / 2.\n",
    "    for i, j in itertools.product(range(cm.shape[0]), range(cm.shape[1])):\n",
    "        plt.text(j, i, format(cm[i, j], fmt),\n",
    "                 horizontalalignment=\"center\",\n",
    "                 color=\"white\" if cm[i, j] > thresh else \"black\")\n",
    "\n",
    "    plt.tight_layout()\n",
    "    plt.ylabel('True label')\n",
    "    plt.xlabel('Predicted label')"
   ]
  },
  {
   "cell_type": "markdown",
   "metadata": {},
   "source": [
    "We now apply __Decision Tree, Random Forest__ and __Logistic Regression__ to both under- and over-sampled dataframes. For each application of ML algorithms we also look at their confusion matrix which gives an indication of true positives, true negatives, false positives and false negatives."
   ]
  },
  {
   "cell_type": "code",
   "execution_count": 62,
   "metadata": {},
   "outputs": [
    {
     "name": "stdout",
     "output_type": "stream",
     "text": [
      "DT's Metrics: \n",
      "              precision    recall  f1-score   support\n",
      "\n",
      "           0       0.85      0.46      0.60     11530\n",
      "           1       0.63      0.91      0.74     11334\n",
      "\n",
      "    accuracy                           0.69     22864\n",
      "   macro avg       0.74      0.69      0.67     22864\n",
      "weighted avg       0.74      0.69      0.67     22864\n",
      "\n"
     ]
    }
   ],
   "source": [
    "X_trainset_under, X_testset_under, y_trainset_under, y_testset_under = train_test_split(X_under, y_under, test_size=0.2, random_state=3)\n",
    "tree_under = DecisionTreeClassifier(criterion=\"entropy\", max_depth = 4)\n",
    "tree_under.fit(X_trainset_under,y_trainset_under)\n",
    "predTree_under = tree_under.predict(X_testset_under)\n",
    "print(\"DT's Metrics: \") \n",
    "print(metrics.classification_report(y_testset_under, predTree_under))"
   ]
  },
  {
   "cell_type": "code",
   "execution_count": 63,
   "metadata": {},
   "outputs": [
    {
     "name": "stdout",
     "output_type": "stream",
     "text": [
      "Confusion matrix, without normalization\n",
      "[[10365   969]\n",
      " [ 6202  5328]]\n"
     ]
    },
    {
     "data": {
      "image/png": "[encoded data removed]",
      "text/plain": [
       "<Figure size 432x288 with 2 Axes>"
      ]
     },
     "metadata": {},
     "output_type": "display_data"
    }
   ],
   "source": [
    "cnf_matrix_dt_under = confusion_matrix(y_testset_under, predTree_under, labels=[1,0])\n",
    "np.set_printoptions(precision=2)\n",
    "# Plot non-normalized confusion matrix\n",
    "plt.figure()\n",
    "plot_confusion_matrix(cnf_matrix_dt_under, classes=['Sev=1','Sev=2'],normalize= False,  title='Confusion matrix')"
   ]
  },
  {
   "cell_type": "code",
   "execution_count": 65,
   "metadata": {},
   "outputs": [
    {
     "name": "stdout",
     "output_type": "stream",
     "text": [
      "RFC's Metrics: \n",
      "              precision    recall  f1-score   support\n",
      "\n",
      "           0       0.77      0.60      0.67     11530\n",
      "           1       0.67      0.81      0.73     11334\n",
      "\n",
      "    accuracy                           0.70     22864\n",
      "   macro avg       0.72      0.71      0.70     22864\n",
      "weighted avg       0.72      0.70      0.70     22864\n",
      "\n"
     ]
    }
   ],
   "source": [
    "from sklearn.ensemble import RandomForestClassifier\n",
    "rfc_under = RandomForestClassifier(n_estimators=500)\n",
    "rfc_under.fit(X_trainset_under , y_trainset_under)\n",
    "rfcpred_under = rfc_under.predict(X_testset_under)\n",
    "print(\"RFC's Metrics: \") \n",
    "print(metrics.classification_report(y_testset_under, rfcpred_under))"
   ]
  },
  {
   "cell_type": "code",
   "execution_count": 66,
   "metadata": {},
   "outputs": [
    {
     "name": "stdout",
     "output_type": "stream",
     "text": [
      "Confusion matrix, without normalization\n",
      "[[9229 2105]\n",
      " [4646 6884]]\n"
     ]
    },
    {
     "data": {
      "image/png": "[encoded data removed]",
      "text/plain": [
       "<Figure size 432x288 with 2 Axes>"
      ]
     },
     "metadata": {},
     "output_type": "display_data"
    }
   ],
   "source": [
    "cnf_matrix_rfc_under = confusion_matrix(y_testset_under, rfcpred_under, labels=[1,0])\n",
    "np.set_printoptions(precision=2)\n",
    "# Plot non-normalized confusion matrix\n",
    "plt.figure()\n",
    "plot_confusion_matrix(cnf_matrix_rfc_under, classes=['Sev=1','Sev=2'],normalize= False,  title='Confusion matrix')"
   ]
  },
  {
   "cell_type": "code",
   "execution_count": 67,
   "metadata": {},
   "outputs": [
    {
     "name": "stdout",
     "output_type": "stream",
     "text": [
      "LR's Metrics: \n",
      "              precision    recall  f1-score   support\n",
      "\n",
      "           0       0.77      0.60      0.67     11530\n",
      "           1       0.67      0.82      0.74     11334\n",
      "\n",
      "    accuracy                           0.71     22864\n",
      "   macro avg       0.72      0.71      0.70     22864\n",
      "weighted avg       0.72      0.71      0.70     22864\n",
      "\n"
     ]
    }
   ],
   "source": [
    "LR_under=LogisticRegression()\n",
    "LR_under.fit(X_trainset_under , y_trainset_under)\n",
    "LRpredict_under = LR_under.predict(X_testset_under)\n",
    "print(\"LR's Metrics: \") \n",
    "print(metrics.classification_report(y_testset_under, LRpredict_under))"
   ]
  },
  {
   "cell_type": "code",
   "execution_count": 68,
   "metadata": {},
   "outputs": [
    {
     "name": "stdout",
     "output_type": "stream",
     "text": [
      "Confusion matrix, without normalization\n",
      "[[9301 2033]\n",
      " [4647 6883]]\n"
     ]
    },
    {
     "data": {
      "image/png": "[encoded data removed]",
      "text/plain": [
       "<Figure size 432x288 with 2 Axes>"
      ]
     },
     "metadata": {},
     "output_type": "display_data"
    }
   ],
   "source": [
    "cnf_matrix_lr_under = confusion_matrix(y_testset_under, LRpredict_under, labels=[1,0])\n",
    "np.set_printoptions(precision=2)\n",
    "# Plot non-normalized confusion matrix\n",
    "plt.figure()\n",
    "plot_confusion_matrix(cnf_matrix_lr_under, classes=['Sev=1','Sev=2'],normalize= False,  title='Confusion matrix')"
   ]
  },
  {
   "cell_type": "markdown",
   "metadata": {},
   "source": [
    "Now looking to apply the same methologies to the over-sampled dataframe"
   ]
  },
  {
   "cell_type": "code",
   "execution_count": 69,
   "metadata": {},
   "outputs": [
    {
     "data": {
      "text/html": [
       "<div>\n",
       "<style scoped>\n",
       "    .dataframe tbody tr th:only-of-type {\n",
       "        vertical-align: middle;\n",
       "    }\n",
       "\n",
       "    .dataframe tbody tr th {\n",
       "        vertical-align: top;\n",
       "    }\n",
       "\n",
       "    .dataframe thead th {\n",
       "        text-align: right;\n",
       "    }\n",
       "</style>\n",
       "<table border=\"1\" class=\"dataframe\">\n",
       "  <thead>\n",
       "    <tr style=\"text-align: right;\">\n",
       "      <th></th>\n",
       "      <th>Angles</th>\n",
       "      <th>Cycles</th>\n",
       "      <th>Head On</th>\n",
       "      <th>Left Turn</th>\n",
       "      <th>Other</th>\n",
       "      <th>Parked Car</th>\n",
       "      <th>Pedestrian</th>\n",
       "      <th>Rear Ended</th>\n",
       "      <th>Right Turn</th>\n",
       "      <th>Sideswipe</th>\n",
       "      <th>...</th>\n",
       "      <th>Snow/Slush</th>\n",
       "      <th>Standing Water</th>\n",
       "      <th>Wet</th>\n",
       "      <th>Dark - No Street Lights</th>\n",
       "      <th>Dark - Street Lights Off</th>\n",
       "      <th>Dark - Street Lights On</th>\n",
       "      <th>Dark - Unknown Lighting</th>\n",
       "      <th>Dawn</th>\n",
       "      <th>Daylight</th>\n",
       "      <th>Dusk</th>\n",
       "    </tr>\n",
       "  </thead>\n",
       "  <tbody>\n",
       "    <tr>\n",
       "      <th>0</th>\n",
       "      <td>0</td>\n",
       "      <td>0</td>\n",
       "      <td>0</td>\n",
       "      <td>0</td>\n",
       "      <td>0</td>\n",
       "      <td>0</td>\n",
       "      <td>0</td>\n",
       "      <td>0</td>\n",
       "      <td>0</td>\n",
       "      <td>1</td>\n",
       "      <td>...</td>\n",
       "      <td>0</td>\n",
       "      <td>0</td>\n",
       "      <td>1</td>\n",
       "      <td>0</td>\n",
       "      <td>0</td>\n",
       "      <td>1</td>\n",
       "      <td>0</td>\n",
       "      <td>0</td>\n",
       "      <td>0</td>\n",
       "      <td>0</td>\n",
       "    </tr>\n",
       "    <tr>\n",
       "      <th>1</th>\n",
       "      <td>0</td>\n",
       "      <td>0</td>\n",
       "      <td>0</td>\n",
       "      <td>0</td>\n",
       "      <td>0</td>\n",
       "      <td>1</td>\n",
       "      <td>0</td>\n",
       "      <td>0</td>\n",
       "      <td>0</td>\n",
       "      <td>0</td>\n",
       "      <td>...</td>\n",
       "      <td>0</td>\n",
       "      <td>0</td>\n",
       "      <td>0</td>\n",
       "      <td>0</td>\n",
       "      <td>0</td>\n",
       "      <td>0</td>\n",
       "      <td>0</td>\n",
       "      <td>0</td>\n",
       "      <td>1</td>\n",
       "      <td>0</td>\n",
       "    </tr>\n",
       "    <tr>\n",
       "      <th>2</th>\n",
       "      <td>0</td>\n",
       "      <td>0</td>\n",
       "      <td>0</td>\n",
       "      <td>0</td>\n",
       "      <td>1</td>\n",
       "      <td>0</td>\n",
       "      <td>0</td>\n",
       "      <td>0</td>\n",
       "      <td>0</td>\n",
       "      <td>0</td>\n",
       "      <td>...</td>\n",
       "      <td>0</td>\n",
       "      <td>0</td>\n",
       "      <td>0</td>\n",
       "      <td>0</td>\n",
       "      <td>0</td>\n",
       "      <td>0</td>\n",
       "      <td>0</td>\n",
       "      <td>0</td>\n",
       "      <td>1</td>\n",
       "      <td>0</td>\n",
       "    </tr>\n",
       "    <tr>\n",
       "      <th>3</th>\n",
       "      <td>1</td>\n",
       "      <td>0</td>\n",
       "      <td>0</td>\n",
       "      <td>0</td>\n",
       "      <td>0</td>\n",
       "      <td>0</td>\n",
       "      <td>0</td>\n",
       "      <td>0</td>\n",
       "      <td>0</td>\n",
       "      <td>0</td>\n",
       "      <td>...</td>\n",
       "      <td>0</td>\n",
       "      <td>0</td>\n",
       "      <td>0</td>\n",
       "      <td>0</td>\n",
       "      <td>0</td>\n",
       "      <td>0</td>\n",
       "      <td>0</td>\n",
       "      <td>0</td>\n",
       "      <td>1</td>\n",
       "      <td>0</td>\n",
       "    </tr>\n",
       "    <tr>\n",
       "      <th>4</th>\n",
       "      <td>1</td>\n",
       "      <td>0</td>\n",
       "      <td>0</td>\n",
       "      <td>0</td>\n",
       "      <td>0</td>\n",
       "      <td>0</td>\n",
       "      <td>0</td>\n",
       "      <td>0</td>\n",
       "      <td>0</td>\n",
       "      <td>0</td>\n",
       "      <td>...</td>\n",
       "      <td>0</td>\n",
       "      <td>0</td>\n",
       "      <td>1</td>\n",
       "      <td>0</td>\n",
       "      <td>0</td>\n",
       "      <td>0</td>\n",
       "      <td>0</td>\n",
       "      <td>0</td>\n",
       "      <td>1</td>\n",
       "      <td>0</td>\n",
       "    </tr>\n",
       "  </tbody>\n",
       "</table>\n",
       "<p>5 rows × 38 columns</p>\n",
       "</div>"
      ],
      "text/plain": [
       "   Angles  Cycles  Head On  Left Turn  Other  Parked Car  Pedestrian  \\\n",
       "0       0       0        0          0      0           0           0   \n",
       "1       0       0        0          0      0           1           0   \n",
       "2       0       0        0          0      1           0           0   \n",
       "3       1       0        0          0      0           0           0   \n",
       "4       1       0        0          0      0           0           0   \n",
       "\n",
       "   Rear Ended  Right Turn  Sideswipe  ...  Snow/Slush Standing Water  Wet  \\\n",
       "0           0           0          1  ...           0              0    1   \n",
       "1           0           0          0  ...           0              0    0   \n",
       "2           0           0          0  ...           0              0    0   \n",
       "3           0           0          0  ...           0              0    0   \n",
       "4           0           0          0  ...           0              0    1   \n",
       "\n",
       "   Dark - No Street Lights  Dark - Street Lights Off  Dark - Street Lights On  \\\n",
       "0                        0                         0                        1   \n",
       "1                        0                         0                        0   \n",
       "2                        0                         0                        0   \n",
       "3                        0                         0                        0   \n",
       "4                        0                         0                        0   \n",
       "\n",
       "   Dark - Unknown Lighting  Dawn  Daylight  Dusk  \n",
       "0                        0     0         0     0  \n",
       "1                        0     0         1     0  \n",
       "2                        0     0         1     0  \n",
       "3                        0     0         1     0  \n",
       "4                        0     0         1     0  \n",
       "\n",
       "[5 rows x 38 columns]"
      ]
     },
     "execution_count": 69,
     "metadata": {},
     "output_type": "execute_result"
    }
   ],
   "source": [
    "X_over = coll_clean_over.loc[:, coll_clean_over.columns != 'Severity = 2']\n",
    "y_over = coll_clean_over['Severity = 2']\n",
    "X_over.head()"
   ]
  },
  {
   "cell_type": "code",
   "execution_count": 70,
   "metadata": {},
   "outputs": [
    {
     "name": "stdout",
     "output_type": "stream",
     "text": [
      "DT's Metrics: \n",
      "              precision    recall  f1-score   support\n",
      "\n",
      "           0       0.85      0.47      0.60     26485\n",
      "           1       0.63      0.91      0.75     26567\n",
      "\n",
      "    accuracy                           0.69     53052\n",
      "   macro avg       0.74      0.69      0.67     53052\n",
      "weighted avg       0.74      0.69      0.67     53052\n",
      "\n"
     ]
    }
   ],
   "source": [
    "X_trainset_over, X_testset_over, y_trainset_over, y_testset_over = train_test_split(X_over, y_over, test_size=0.2, random_state=3)\n",
    "tree_over = DecisionTreeClassifier(criterion=\"entropy\", max_depth = 4)\n",
    "tree_over.fit(X_trainset_over,y_trainset_over)\n",
    "predTree_over = tree_over.predict(X_testset_over)\n",
    "print(\"DT's Metrics: \") \n",
    "print(metrics.classification_report(y_testset_over, predTree_over))"
   ]
  },
  {
   "cell_type": "code",
   "execution_count": 71,
   "metadata": {},
   "outputs": [
    {
     "name": "stdout",
     "output_type": "stream",
     "text": [
      "Confusion matrix, without normalization\n",
      "[[24307  2260]\n",
      " [14159 12326]]\n"
     ]
    },
    {
     "data": {
      "image/png": "[encoded data removed]",
      "text/plain": [
       "<Figure size 432x288 with 2 Axes>"
      ]
     },
     "metadata": {},
     "output_type": "display_data"
    }
   ],
   "source": [
    "cnf_matrix_dt_over = confusion_matrix(y_testset_over, predTree_over, labels=[1,0])\n",
    "np.set_printoptions(precision=2)\n",
    "# Plot non-normalized confusion matrix\n",
    "plt.figure()\n",
    "plot_confusion_matrix(cnf_matrix_dt_over, classes=['Sev=1','Sev=2'],normalize= False,  title='Confusion matrix')"
   ]
  },
  {
   "cell_type": "code",
   "execution_count": 72,
   "metadata": {},
   "outputs": [
    {
     "name": "stdout",
     "output_type": "stream",
     "text": [
      "RFC's Metrics: \n",
      "              precision    recall  f1-score   support\n",
      "\n",
      "           0       0.76      0.61      0.68     26485\n",
      "           1       0.68      0.81      0.74     26567\n",
      "\n",
      "    accuracy                           0.71     53052\n",
      "   macro avg       0.72      0.71      0.71     53052\n",
      "weighted avg       0.72      0.71      0.71     53052\n",
      "\n"
     ]
    }
   ],
   "source": [
    "rfc_over = RandomForestClassifier(n_estimators=500)\n",
    "rfc_over.fit(X_trainset_over , y_trainset_over)\n",
    "rfcpred_over = rfc_over.predict(X_testset_over)\n",
    "print(\"RFC's Metrics: \") \n",
    "print(metrics.classification_report(y_testset_over, rfcpred_over))"
   ]
  },
  {
   "cell_type": "code",
   "execution_count": 73,
   "metadata": {},
   "outputs": [
    {
     "name": "stdout",
     "output_type": "stream",
     "text": [
      "Confusion matrix, without normalization\n",
      "[[21479  5088]\n",
      " [10280 16205]]\n"
     ]
    },
    {
     "data": {
      "image/png": "[encoded data removed]",
      "text/plain": [
       "<Figure size 432x288 with 2 Axes>"
      ]
     },
     "metadata": {},
     "output_type": "display_data"
    }
   ],
   "source": [
    "cnf_matrix_rfc_over = confusion_matrix(y_testset_over, rfcpred_over, labels=[1,0])\n",
    "np.set_printoptions(precision=2)\n",
    "# Plot non-normalized confusion matrix\n",
    "plt.figure()\n",
    "plot_confusion_matrix(cnf_matrix_rfc_over, classes=['Sev=1','Sev=2'],normalize= False,  title='Confusion matrix')"
   ]
  },
  {
   "cell_type": "code",
   "execution_count": 74,
   "metadata": {},
   "outputs": [
    {
     "name": "stdout",
     "output_type": "stream",
     "text": [
      "LR's Metrics: \n",
      "              precision    recall  f1-score   support\n",
      "\n",
      "           0       0.76      0.61      0.67     26485\n",
      "           1       0.67      0.81      0.74     26567\n",
      "\n",
      "    accuracy                           0.71     53052\n",
      "   macro avg       0.72      0.71      0.70     53052\n",
      "weighted avg       0.72      0.71      0.71     53052\n",
      "\n"
     ]
    }
   ],
   "source": [
    "LR_over=LogisticRegression()\n",
    "LR_over.fit(X_trainset_over , y_trainset_over)\n",
    "LRpredict_over = LR_over.predict(X_testset_over)\n",
    "print(\"LR's Metrics: \") \n",
    "print(metrics.classification_report(y_testset_over, LRpredict_over))"
   ]
  },
  {
   "cell_type": "code",
   "execution_count": 75,
   "metadata": {},
   "outputs": [
    {
     "name": "stdout",
     "output_type": "stream",
     "text": [
      "Confusion matrix, without normalization\n",
      "[[21545  5022]\n",
      " [10461 16024]]\n"
     ]
    },
    {
     "data": {
      "image/png": "[encoded data removed]",
      "text/plain": [
       "<Figure size 432x288 with 2 Axes>"
      ]
     },
     "metadata": {},
     "output_type": "display_data"
    }
   ],
   "source": [
    "cnf_matrix_lr_over = confusion_matrix(y_testset_over, LRpredict_over, labels=[1,0])\n",
    "np.set_printoptions(precision=2)\n",
    "# Plot non-normalized confusion matrix\n",
    "plt.figure()\n",
    "plot_confusion_matrix(cnf_matrix_lr_over, classes=['Sev=1','Sev=2'],normalize= False,  title='Confusion matrix')"
   ]
  },
  {
   "cell_type": "markdown",
   "metadata": {},
   "source": [
    "## 3.c.2 Gridsearchcv\n",
    "\n",
    "Now we want to try and improve the predictions and this can be done by introducing __gridsearchcv__ which looks for the best set of parameters off a parameter grid defined by the user.\n",
    "\n",
    "Decision Tree"
   ]
  },
  {
   "cell_type": "code",
   "execution_count": 149,
   "metadata": {},
   "outputs": [
    {
     "name": "stdout",
     "output_type": "stream",
     "text": [
      "Fitting 10 folds for each of 588 candidates, totalling 5880 fits\n"
     ]
    },
    {
     "name": "stderr",
     "output_type": "stream",
     "text": [
      "[Parallel(n_jobs=1)]: Using backend SequentialBackend with 1 concurrent workers.\n",
      "[Parallel(n_jobs=1)]: Done 5880 out of 5880 | elapsed: 45.4min finished\n"
     ]
    },
    {
     "name": "stdout",
     "output_type": "stream",
     "text": [
      "DT GS's best params: \n",
      "{'criterion': 'gini', 'max_leaf_nodes': 98, 'min_samples_split': 2}\n",
      "DT GS's Metrics: \n",
      "              precision    recall  f1-score   support\n",
      "\n",
      "           0       0.77      0.61      0.68     11530\n",
      "           1       0.67      0.81      0.73     11334\n",
      "\n",
      "    accuracy                           0.71     22864\n",
      "   macro avg       0.72      0.71      0.71     22864\n",
      "weighted avg       0.72      0.71      0.71     22864\n",
      "\n"
     ]
    }
   ],
   "source": [
    "param_grid_dt = {'max_leaf_nodes': list(range(2, 100)), 'min_samples_split': [2, 3, 4], 'criterion': ['gini', 'entropy']}\n",
    "\n",
    "dt_gs_under = GridSearchCV(DecisionTreeClassifier(random_state=42), param_grid_dt, verbose=1, cv=10, scoring = 'accuracy')\n",
    "dt_gs_under.fit(X_trainset_under,y_trainset_under)\n",
    "dtpredict_gs_under = dt_gs_under.predict(X_testset_under)\n",
    "print(\"DT GS's best params: \")\n",
    "print(dt_gs_under.best_params_)\n",
    "print(\"DT GS's Metrics: \") \n",
    "print(metrics.classification_report(y_testset_under, dtpredict_gs_under))"
   ]
  },
  {
   "cell_type": "code",
   "execution_count": 150,
   "metadata": {},
   "outputs": [
    {
     "name": "stdout",
     "output_type": "stream",
     "text": [
      "Fitting 10 folds for each of 588 candidates, totalling 5880 fits\n"
     ]
    },
    {
     "name": "stderr",
     "output_type": "stream",
     "text": [
      "[Parallel(n_jobs=1)]: Using backend SequentialBackend with 1 concurrent workers.\n",
      "[Parallel(n_jobs=1)]: Done 5880 out of 5880 | elapsed: 158.8min finished\n"
     ]
    },
    {
     "name": "stdout",
     "output_type": "stream",
     "text": [
      "DT GS's best params: \n",
      "{'criterion': 'gini', 'max_leaf_nodes': 99, 'min_samples_split': 2}\n",
      "DT GS's Metrics: \n",
      "              precision    recall  f1-score   support\n",
      "\n",
      "           0       0.76      0.60      0.67     26485\n",
      "           1       0.67      0.81      0.73     26567\n",
      "\n",
      "    accuracy                           0.71     53052\n",
      "   macro avg       0.72      0.71      0.70     53052\n",
      "weighted avg       0.72      0.71      0.70     53052\n",
      "\n"
     ]
    }
   ],
   "source": [
    "dt_gs_over = GridSearchCV(DecisionTreeClassifier(random_state=42), param_grid_dt, verbose=1, cv=10, scoring = 'accuracy')\n",
    "dt_gs_over.fit(X_trainset_over,y_trainset_over)\n",
    "dtpredict_gs_over = dt_gs_over.predict(X_testset_over)\n",
    "print(\"DT GS's best params: \")\n",
    "print(dt_gs_over.best_params_)\n",
    "print(\"DT GS's Metrics: \") \n",
    "print(metrics.classification_report(y_testset_over, dtpredict_gs_over))"
   ]
  },
  {
   "cell_type": "markdown",
   "metadata": {},
   "source": [
    "Random Forest Classifier"
   ]
  },
  {
   "cell_type": "code",
   "execution_count": 151,
   "metadata": {},
   "outputs": [
    {
     "name": "stdout",
     "output_type": "stream",
     "text": [
      "Fitting 5 folds for each of 36 candidates, totalling 180 fits\n"
     ]
    },
    {
     "name": "stderr",
     "output_type": "stream",
     "text": [
      "[Parallel(n_jobs=1)]: Using backend SequentialBackend with 1 concurrent workers.\n",
      "[Parallel(n_jobs=1)]: Done 180 out of 180 | elapsed: 84.6min finished\n"
     ]
    },
    {
     "name": "stdout",
     "output_type": "stream",
     "text": [
      "RFC GS's best params: \n",
      "{'criterion': 'gini', 'max_depth': 8, 'max_features': 'log2', 'n_estimators': 200}\n",
      "RFC GS's Metrics: \n",
      "              precision    recall  f1-score   support\n",
      "\n",
      "           0       0.77      0.61      0.68     11530\n",
      "           1       0.67      0.82      0.74     11334\n",
      "\n",
      "    accuracy                           0.71     22864\n",
      "   macro avg       0.72      0.71      0.71     22864\n",
      "weighted avg       0.72      0.71      0.71     22864\n",
      "\n"
     ]
    }
   ],
   "source": [
    "param_grid_rfc = {'n_estimators': [200, 500, 1000],'max_features': ['auto','log2'],'max_depth' : [4,6,8],'criterion' :['gini', 'entropy']}\n",
    "\n",
    "rfc_gs_under=RandomForestClassifier()\n",
    "rfc_gs_under=GridSearchCV(rfc_gs_under,param_grid_rfc,verbose=1, cv=5,scoring = 'accuracy')\n",
    "rfc_gs_under.fit(X_trainset_under,y_trainset_under)\n",
    "rfcpredict_gs_under = rfc_gs_under.predict(X_testset_under)\n",
    "print(\"RFC GS's best params: \")\n",
    "print(rfc_gs_under.best_params_)\n",
    "print(\"RFC GS's Metrics: \") \n",
    "print(metrics.classification_report(y_testset_under, rfcpredict_gs_under))"
   ]
  },
  {
   "cell_type": "code",
   "execution_count": 152,
   "metadata": {},
   "outputs": [
    {
     "name": "stdout",
     "output_type": "stream",
     "text": [
      "Fitting 5 folds for each of 36 candidates, totalling 180 fits\n"
     ]
    },
    {
     "name": "stderr",
     "output_type": "stream",
     "text": [
      "[Parallel(n_jobs=1)]: Using backend SequentialBackend with 1 concurrent workers.\n",
      "[Parallel(n_jobs=1)]: Done 180 out of 180 | elapsed: 121.9min finished\n"
     ]
    },
    {
     "name": "stdout",
     "output_type": "stream",
     "text": [
      "RFC GS's best params: \n",
      "{'criterion': 'entropy', 'max_depth': 8, 'max_features': 'log2', 'n_estimators': 500}\n",
      "RFC GS's Metrics: \n",
      "              precision    recall  f1-score   support\n",
      "\n",
      "           0       0.76      0.60      0.67     26485\n",
      "           1       0.67      0.81      0.73     26567\n",
      "\n",
      "    accuracy                           0.71     53052\n",
      "   macro avg       0.72      0.71      0.70     53052\n",
      "weighted avg       0.72      0.71      0.70     53052\n",
      "\n"
     ]
    }
   ],
   "source": [
    "rfc_gs_over=RandomForestClassifier()\n",
    "rfc_gs_over=GridSearchCV(rfc_gs_over,param_grid_rfc,verbose=1, cv=5,scoring = 'accuracy')\n",
    "rfc_gs_over.fit(X_trainset_over,y_trainset_over)\n",
    "rfcpredict_gs_over = rfc_gs_over.predict(X_testset_over)\n",
    "print(\"RFC GS's best params: \")\n",
    "print(rfc_gs_over.best_params_)\n",
    "print(\"RFC GS's Metrics: \") \n",
    "print(metrics.classification_report(y_testset_over, rfcpredict_gs_over))"
   ]
  },
  {
   "cell_type": "markdown",
   "metadata": {},
   "source": [
    "Logistic regression"
   ]
  },
  {
   "cell_type": "code",
   "execution_count": 153,
   "metadata": {},
   "outputs": [
    {
     "name": "stdout",
     "output_type": "stream",
     "text": [
      "Fitting 5 folds for each of 40 candidates, totalling 200 fits\n"
     ]
    },
    {
     "name": "stderr",
     "output_type": "stream",
     "text": [
      "[Parallel(n_jobs=1)]: Using backend SequentialBackend with 1 concurrent workers.\n",
      "[Parallel(n_jobs=1)]: Done 200 out of 200 | elapsed:  4.2min finished\n"
     ]
    },
    {
     "name": "stdout",
     "output_type": "stream",
     "text": [
      "LR GS's best params: \n",
      "{'C': 61.58482110660255, 'penalty': 'l1', 'solver': 'liblinear'}\n",
      "LR GS's Metrics: \n",
      "              precision    recall  f1-score   support\n",
      "\n",
      "           0       0.77      0.60      0.68     11530\n",
      "           1       0.67      0.82      0.74     11334\n",
      "\n",
      "    accuracy                           0.71     22864\n",
      "   macro avg       0.72      0.71      0.71     22864\n",
      "weighted avg       0.72      0.71      0.71     22864\n",
      "\n"
     ]
    }
   ],
   "source": [
    "param_grid_LR = {'penalty' : ['l1', 'l2'],'C' : np.logspace(-10, 4, 20),'solver' : ['liblinear'] }\n",
    "\n",
    "LR_gs_under=LogisticRegression()\n",
    "LR_gs_under=GridSearchCV(LR_gs_under,param_grid_LR,cv=5,verbose=1, scoring = 'accuracy')\n",
    "LR_gs_under.fit(X_trainset_under,y_trainset_under)\n",
    "LRpredict_gs_under = LR_gs_under.predict(X_testset_under)\n",
    "print(\"LR GS's best params: \")\n",
    "print(LR_gs_under.best_params_)\n",
    "print(\"LR GS's Metrics: \") \n",
    "print(metrics.classification_report(y_testset_under, LRpredict_gs_under))"
   ]
  },
  {
   "cell_type": "code",
   "execution_count": 154,
   "metadata": {},
   "outputs": [
    {
     "name": "stdout",
     "output_type": "stream",
     "text": [
      "Fitting 5 folds for each of 40 candidates, totalling 200 fits\n"
     ]
    },
    {
     "name": "stderr",
     "output_type": "stream",
     "text": [
      "[Parallel(n_jobs=1)]: Using backend SequentialBackend with 1 concurrent workers.\n",
      "[Parallel(n_jobs=1)]: Done 200 out of 200 | elapsed:  6.8min finished\n"
     ]
    },
    {
     "name": "stdout",
     "output_type": "stream",
     "text": [
      "LR GS's best params: \n",
      "{'C': 0.012742749857031322, 'penalty': 'l2', 'solver': 'liblinear'}\n",
      "LR GS's Metrics: \n",
      "              precision    recall  f1-score   support\n",
      "\n",
      "           0       0.76      0.60      0.67     26485\n",
      "           1       0.67      0.81      0.73     26567\n",
      "\n",
      "    accuracy                           0.71     53052\n",
      "   macro avg       0.72      0.71      0.70     53052\n",
      "weighted avg       0.72      0.71      0.70     53052\n",
      "\n"
     ]
    }
   ],
   "source": [
    "LR_gs_over=LogisticRegression()\n",
    "LR_gs_over=GridSearchCV(LR_gs_over,param_grid_LR,cv=5,verbose=1, scoring = 'accuracy')\n",
    "LR_gs_over.fit(X_trainset_over,y_trainset_over)\n",
    "LRpredict_gs_over = LR_gs_over.predict(X_testset_over)\n",
    "print(\"LR GS's best params: \")\n",
    "print(LR_gs_over.best_params_)\n",
    "print(\"LR GS's Metrics: \") \n",
    "print(metrics.classification_report(y_testset_over, LRpredict_gs_over))"
   ]
  },
  {
   "cell_type": "markdown",
   "metadata": {},
   "source": [
    "Finally we run a simple regression model to understand features importance on the label."
   ]
  },
  {
   "cell_type": "code",
   "execution_count": 98,
   "metadata": {},
   "outputs": [
    {
     "name": "stdout",
     "output_type": "stream",
     "text": [
      "Mean squared error: 0.19\n",
      "Coefficient of determination: 0.26\n",
      "\n",
      "Feature:  Angles  Score: -0.18111\n",
      "Feature:  Cycles  Score: 0.14564\n",
      "Feature:  Head On  Score: -0.16593\n",
      "Feature:  Left Turn  Score: -0.17763\n",
      "Feature:  Other  Score: -0.35987\n",
      "Feature:  Parked Car  Score: -0.62869\n",
      "Feature:  Pedestrian  Score: 0.15523\n",
      "Feature:  Rear Ended  Score: -0.16068\n",
      "Feature:  Right Turn  Score: -0.40695\n",
      "Feature:  Sideswipe  Score: -0.52226\n",
      "Feature:  INATTENTIONIND  Score: 0.03577\n",
      "Feature:  UNDERINFL  Score: 0.13818\n",
      "Feature:  PEDROWNOTGRNT  Score: 0.02712\n",
      "Feature:  SPEEDING  Score: 0.09569\n",
      "Feature:  HITPARKEDCAR  Score: -0.01173\n",
      "Feature:  Blowing Sand/Dirt  Score: 0.01103\n",
      "Feature:  Clear  Score: 0.02357\n",
      "Feature:  Fog/Smog/Smoke  Score: 0.06869\n",
      "Feature:  Overcast  Score: 0.01669\n",
      "Feature:  Partly Cloudy  Score: 0.47595\n",
      "Feature:  Raining  Score: 0.02045\n",
      "Feature:  Severe Crosswind  Score: 0.04782\n",
      "Feature:  Sleet/Hail/Freezing Rain  Score: -0.00736\n",
      "Feature:  Snowing  Score: 0.01346\n",
      "Feature:  Dry  Score: 0.09768\n",
      "Feature:  Ice  Score: 0.04646\n",
      "Feature:  Oil  Score: 0.18723\n",
      "Feature:  Sand/Mud/Dirt  Score: 0.19161\n",
      "Feature:  Snow/Slush  Score: 0.01911\n",
      "Feature:  Standing Water  Score: -0.02728\n",
      "Feature:  Wet  Score: 0.09068\n",
      "Feature:  Dark - No Street Lights  Score: 0.01419\n",
      "Feature:  Dark - Street Lights Off  Score: 0.03549\n",
      "Feature:  Dark - Street Lights On  Score: 0.03694\n",
      "Feature:  Dark - Unknown Lighting  Score: 0.08027\n",
      "Feature:  Dawn  Score: 0.03262\n",
      "Feature:  Daylight  Score: 0.05548\n",
      "Feature:  Dusk  Score: 0.04918\n"
     ]
    },
    {
     "data": {
      "image/png": "[encoded data removed]",
      "text/plain": [
       "<Figure size 1080x360 with 1 Axes>"
      ]
     },
     "metadata": {},
     "output_type": "display_data"
    }
   ],
   "source": [
    "from sklearn.linear_model import LinearRegression\n",
    "from matplotlib import pyplot\n",
    "from sklearn import datasets, linear_model\n",
    "from sklearn.metrics import mean_squared_error, r2_score\n",
    "\n",
    "model = LinearRegression()\n",
    "# fit the model\n",
    "model.fit(X_trainset_over, y_trainset_over)\n",
    "ypred_linear = model.predict(X_testset_over)\n",
    "# get importance\n",
    "importance = model.coef_\n",
    "# summarize feature importance\n",
    "# The mean squared error\n",
    "print('Mean squared error: %.2f'\n",
    "      % mean_squared_error(y_testset_over, ypred_linear))\n",
    "# The coefficient of determination: 1 is perfect prediction\n",
    "print('Coefficient of determination: %.2f'\n",
    "      % r2_score(y_testset_over, ypred_linear))\n",
    "print('')\n",
    "for i,v in zip(X_trainset_over.columns, importance):\n",
    "    print('Feature: ', i ,' Score: %.5f' % (v))\n",
    "# plot feature importance\n",
    "\n",
    "plt.figure(figsize=(15,5))\n",
    "plt.bar(X_trainset_over.columns,importance);\n",
    "plt.xticks(X_trainset_over.columns, rotation='vertical');"
   ]
  },
  {
   "cell_type": "markdown",
   "metadata": {},
   "source": [
    "## 4. Results and discussion\n",
    "\n",
    "Looking at the initial exploratory data analysis, in order to expand it even further one could look at working day vs weekend incidence on number of Severity 1/2 accidents. Moreover, hotspots of accidents could be identified by using geographical data and also weather, road and light conditions could be grouped by type i.e. good/bad weather, clean/dirty road, light/no light.\n",
    "\n",
    "The results given by the machine learning algorithms show that by doing under- or over-sampling doesn't seem to affect the results too much in terms of precision and recall. Moreover, we've also noticed how the results slightly improve by implementing a random tree forest algorithm which is one step forward with respect to the decision tree classification algorithm - random forests consist of multiple single trees each based on a random sample of the training data. They are typically more accurate than single decision trees. This can be clearly seen when observing the confusion matrices of decision tree vs random forest vs logistic regression. We have also run a linear regression analysis to understand the most importance factors influencing the label (prediction of Severity = 2 accidents) and we can see that the type of accident, along with cloudy weather and dirt road conditions are the most important features in predicting the label.\n",
    "\n",
    "## 5. Conclusions\n",
    "\n",
    "From this analyses, we've been able to draw the following conclusions:\n",
    "\n",
    "1) Severity 1 accidents made up ~70% of total accidents per year between 2004 and 2020\n",
    "\n",
    "2) From 2015 onwards, there has been a constant decline in total number of accidents probably due to the introduction of the Vision Zero programme in the city of Seattle.\n",
    "\n",
    "3) 2 peaks of accidents were found during the day: one at 8am and one at 5pm - both representing peak hours.\n",
    "\n",
    "4) Rear-ended type collisions seem to occur in stationary traffic because of the number of vehicle involved (>2)\n",
    "\n",
    "5) Whenever a collision involved a bicycle, this was of severity 2 for majority of cases and the same can be said for accidents involving pedestrian\n",
    "\n",
    "6) There doesn't seem to be a direct 1 to 1 correlation between weather and road conditions and severity/number of accidents.\n",
    "\n",
    "7) There does some however to be some correlation with driver's conditions (under influence y/n, speeding y/n) and type of accident (sidesweep, rear-end, etc) in determining whether an accident is going to be of Severity 1 or 2 - although for this last one the prediction mean square error is quite big and hence some further investigation is required to make a robust conclusion.\n",
    "\n",
    "Finally, from a global point of view it seems that the Vision Zero initiative undertaken by the city of Seattle is coming to fruition given the steady decline in number of accidents between 2015 and now. Even better conclusions and analyses could've been carried out if data were provided in a more concise way (i.e. grouping weather, road, light conditions or grouping them in a single category giving weights to each sub-parameter) and if data were 100% reliable (for example, why are so many accidents reported at 00:00:00?) but these analyses have shown what an initial exploration could lead to. "
   ]
  }
 ],
 "metadata": {
  "colab": {
   "include_colab_link": true,
   "name": "Coursera Capstone Project - Report.ipynb",
   "provenance": []
  },
  "kernelspec": {
   "display_name": "Python 3",
   "language": "python",
   "name": "python3"
  },
  "language_info": {
   "codemirror_mode": {
    "name": "ipython",
    "version": 3
   },
   "file_extension": ".py",
   "mimetype": "text/x-python",
   "name": "python",
   "nbconvert_exporter": "python",
   "pygments_lexer": "ipython3",
   "version": "3.8.3"
  }
 },
 "nbformat": 4,
 "nbformat_minor": 4
}
